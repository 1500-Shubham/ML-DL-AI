{
 "cells": [
  {
   "cell_type": "code",
   "execution_count": null,
   "id": "0f448ef9",
   "metadata": {
    "vscode": {
     "languageId": "json"
    }
   },
   "outputs": [],
   "source": [
    "{\n",
    " \"cell_type\": \"code\",\n",
    " \"execution_count\": null,\n",
    " \"metadata\": {},\n",
    " \"outputs\": [],\n",
    " \"source\": [\n",
    "    \"# This is a new code cell at index 0\\n\",\n",
    "    \"print(\\\"Hello, Jupyter!\\\")\"\n",
    " ]\n",
    "}"
   ]
  }
 ],
 "metadata": {
  "language_info": {
   "name": "python"
  }
 },
 "nbformat": 4,
 "nbformat_minor": 5
}
