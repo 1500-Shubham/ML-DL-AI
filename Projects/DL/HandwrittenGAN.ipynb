{
  "cells": [
    {
      "cell_type": "markdown",
      "source": [
        "Dataset credits: https://www.kaggle.com/arjuntejaswi/plant-village\n",
        "\n",
        "- Potato -> Healthy, Early Blight() and Late Blight(Microogranism)"
      ],
      "metadata": {
        "id": "87WhzRCTolxx"
      },
      "id": "87WhzRCTolxx"
    },
    {
      "cell_type": "markdown",
      "source": [
        "Data\n",
        "Data Cleaning and Preprocessing -> tf Dataset, Data Augmentation(More training samples)\n",
        "Model Building -> CNN\n",
        "Export Trained model to disk\n",
        "MLOPs -> tfserving API use\n",
        "\n",
        "Quantization -> Tf Model -> Tf lite model\n",
        "Deploy to Google Cloud Fucntions. <--- Application use this deployed"
      ],
      "metadata": {
        "id": "7uLtom3Qrg1T"
      },
      "id": "7uLtom3Qrg1T"
    },
    {
      "cell_type": "markdown",
      "source": [
        "Import data into tensorflow dataset object"
      ],
      "metadata": {
        "id": "9jouyWF-rrKf"
      },
      "id": "9jouyWF-rrKf"
    },
    {
      "cell_type": "code",
      "source": [
        "import tensorflow as tf\n",
        "from tensorflow.keras import models, layers\n",
        "import matplotlib.pyplot as plt\n",
        "from IPython.display import HTML"
      ],
      "metadata": {
        "id": "C2vQUesnp2yA"
      },
      "id": "C2vQUesnp2yA",
      "execution_count": null,
      "outputs": []
    },
    {
      "cell_type": "code",
      "source": [
        "import zipfile\n",
        "import os\n",
        "\n",
        "with zipfile.ZipFile(\"/content/PlantVillage-PotatoDisease.zip\", 'r') as zip_ref:\n",
        "    zip_ref.extractall(\"PotatoDatasett\")"
      ],
      "metadata": {
        "id": "Ws-Rad1ttn-R"
      },
      "id": "Ws-Rad1ttn-R",
      "execution_count": null,
      "outputs": []
    },
    {
      "cell_type": "code",
      "source": [
        "! rm -rf \"/content/PotatoDatasett/__MACOSX\""
      ],
      "metadata": {
        "id": "jXKuYCnfvaZt"
      },
      "id": "jXKuYCnfvaZt",
      "execution_count": null,
      "outputs": []
    },
    {
      "cell_type": "markdown",
      "source": [
        "We will use image_dataset_from_directory api to load all images in tensorflow dataset:\n",
        "- https://www.tensorflow.org/api_docs/python/tf/keras/preprocessing/image_dataset_from_directory"
      ],
      "metadata": {
        "id": "wnnlyjpSr_6Y"
      },
      "id": "wnnlyjpSr_6Y"
    },
    {
      "cell_type": "code",
      "source": [
        "IMAGE_SIZE=256 #use by tf dataset\n",
        "BATCH_SIZE=32\n",
        "RGB_CHANNELS=3\n",
        "EPOCHS=30"
      ],
      "metadata": {
        "id": "g9UT0l5Ktzu5"
      },
      "id": "g9UT0l5Ktzu5",
      "execution_count": null,
      "outputs": []
    },
    {
      "cell_type": "code",
      "source": [
        "# Directly using tf dataset for all images\n",
        "dataset = tf.keras.preprocessing.image_dataset_from_directory(\n",
        "    \"/content/PotatoDatasett/PlantVillage-PotatoDisease\",\n",
        "    shuffle=True,\n",
        "    image_size=(IMAGE_SIZE, IMAGE_SIZE),\n",
        "    batch_size=BATCH_SIZE\n",
        ")\n",
        "# return a tf.data.Dataset with len = number of batches\n",
        "# tf dataset already deals with batches\n",
        "# .filer .map"
      ],
      "metadata": {
        "id": "hYI8NtfDomjO"
      },
      "id": "hYI8NtfDomjO",
      "execution_count": null,
      "outputs": []
    },
    {
      "cell_type": "code",
      "source": [
        "class_names = dataset.class_names\n",
        "class_names\n",
        "# Basically folder names"
      ],
      "metadata": {
        "id": "vaLzGsTHuRB7"
      },
      "id": "vaLzGsTHuRB7",
      "execution_count": null,
      "outputs": []
    },
    {
      "cell_type": "code",
      "source": [
        "print(\"total number of batches\",len(dataset))\n",
        "# total batches if len*32 approx size of all data"
      ],
      "metadata": {
        "id": "m4KHN6TvuTmd"
      },
      "id": "m4KHN6TvuTmd",
      "execution_count": null,
      "outputs": []
    },
    {
      "cell_type": "code",
      "source": [
        "for image_batch, labels_batch in dataset.take(1):\n",
        "    print(image_batch.shape)\n",
        "    # print(image_batch[0])\n",
        "    # visualize using plt\n",
        "    # plt.imshow(image_batch[0].numpy().astype(\"uint8\"))\n",
        "    # plt.title(labels_batch[0].numpy())\n",
        "    # classnames[label[index]]\n",
        "    print(labels_batch.numpy())\n",
        "\n",
        "# Each batch 32 images\n",
        "# and labels of that image belong to which class"
      ],
      "metadata": {
        "id": "v1Fu9jEfufgs"
      },
      "id": "v1Fu9jEfufgs",
      "execution_count": null,
      "outputs": []
    },
    {
      "cell_type": "markdown",
      "source": [
        "Visualize some of the images from our dataset"
      ],
      "metadata": {
        "id": "BMdE6dqpvEkk"
      },
      "id": "BMdE6dqpvEkk"
    },
    {
      "cell_type": "code",
      "source": [
        "# printing 12 images 3*4 rows type with labels\n",
        "plt.figure(figsize=(10, 10))\n",
        "for image_batch, labels_batch in dataset.take(1):\n",
        "    for i in range(12,12+12):\n",
        "        ax = plt.subplot(3, 4, i-12 + 1)\n",
        "        plt.imshow(image_batch[i].numpy().astype(\"uint8\"))\n",
        "        plt.title(class_names[labels_batch[i]])\n",
        "        plt.axis(\"off\")"
      ],
      "metadata": {
        "id": "eaZNADpovFf7"
      },
      "id": "eaZNADpovFf7",
      "execution_count": null,
      "outputs": []
    },
    {
      "cell_type": "markdown",
      "source": [
        "Train 80% Validation 10% Test 10%\n",
        "- dataset is total batch unhi mein baaton"
      ],
      "metadata": {
        "id": "CnLOD3XfyOnN"
      },
      "id": "CnLOD3XfyOnN"
    },
    {
      "cell_type": "code",
      "source": [
        "len(dataset)"
      ],
      "metadata": {
        "id": "Od-QXfDlyhlA"
      },
      "id": "Od-QXfDlyhlA",
      "execution_count": null,
      "outputs": []
    },
    {
      "cell_type": "code",
      "source": [
        "print(68*0.8)\n",
        "print(68*0.1)"
      ],
      "metadata": {
        "id": "8hzKioIgyjXT"
      },
      "id": "8hzKioIgyjXT",
      "execution_count": null,
      "outputs": []
    },
    {
      "cell_type": "code",
      "source": [
        "train_ds = dataset.take(54)\n",
        "test_ds=dataset.skip(54) # after 54 rest"
      ],
      "metadata": {
        "id": "cNNj1m0Synue"
      },
      "id": "cNNj1m0Synue",
      "execution_count": null,
      "outputs": []
    },
    {
      "cell_type": "code",
      "source": [
        "validation_ds= test_ds.take(6)\n",
        "test_ds=test_ds.skip(6) # rest inside test"
      ],
      "metadata": {
        "id": "QlqAZGL7y1wY"
      },
      "id": "QlqAZGL7y1wY",
      "execution_count": null,
      "outputs": []
    },
    {
      "cell_type": "markdown",
      "source": [
        "Same Train Test Split using function"
      ],
      "metadata": {
        "id": "cQMRo-ZuzOVG"
      },
      "id": "cQMRo-ZuzOVG"
    },
    {
      "cell_type": "code",
      "source": [
        "def get_dataset_partitions_tf(ds, train_split=0.8, val_split=0.1, test_split=0.1, shuffle=True, shuffle_size=10000):\n",
        "    assert (train_split + test_split + val_split) == 1\n",
        "    # aset makes sure condfition is true before going inside the funtion\n",
        "    ds_size = len(ds)\n",
        "\n",
        "    # shuffle the ds complety\n",
        "    if shuffle:\n",
        "        ds = ds.shuffle(shuffle_size, seed=12)\n",
        "\n",
        "    train_size = int(train_split * ds_size)\n",
        "    val_size = int(val_split * ds_size)\n",
        "\n",
        "    train_ds = ds.take(train_size)\n",
        "    val_ds = ds.skip(train_size).take(val_size)\n",
        "    test_ds = ds.skip(train_size).skip(val_size)\n",
        "\n",
        "    return train_ds, val_ds, test_ds"
      ],
      "metadata": {
        "id": "CsB3C3WnzQXC"
      },
      "id": "CsB3C3WnzQXC",
      "execution_count": null,
      "outputs": []
    },
    {
      "cell_type": "code",
      "source": [
        "train_ds, val_ds, test_ds = get_dataset_partitions_tf(dataset)\n",
        "print(len(train_ds))\n",
        "print(len(val_ds))\n",
        "print(len(test_ds))"
      ],
      "metadata": {
        "id": "W-buuirwzr3y"
      },
      "id": "W-buuirwzr3y",
      "execution_count": null,
      "outputs": []
    },
    {
      "cell_type": "markdown",
      "source": [
        "Prefetch and Cache in Tf Dataset\n",
        "- while cpu busy gpu concept\n",
        "- load images before hand\n",
        "- buffer_size=tf.data.AUTOTUNE let tf decide how many images to load beforehand"
      ],
      "metadata": {
        "id": "LcZMeb0Iz5Ug"
      },
      "id": "LcZMeb0Iz5Ug"
    },
    {
      "cell_type": "code",
      "source": [
        "train_ds = train_ds.cache().shuffle(1000).prefetch(buffer_size=tf.data.AUTOTUNE)\n",
        "val_ds = val_ds.cache().shuffle(1000).prefetch(buffer_size=tf.data.AUTOTUNE)\n",
        "test_ds = test_ds.cache().shuffle(1000).prefetch(buffer_size=tf.data.AUTOTUNE)"
      ],
      "metadata": {
        "id": "0nASsCeZzxew"
      },
      "id": "0nASsCeZzxew",
      "execution_count": null,
      "outputs": []
    },
    {
      "cell_type": "markdown",
      "source": [
        "Images -> Scaling /255 -> Data Augmentation sample images rotated zoomed"
      ],
      "metadata": {
        "id": "okKgwEYU0DKM"
      },
      "id": "okKgwEYU0DKM"
    },
    {
      "cell_type": "markdown",
      "source": [
        "## Building the Model\n",
        "- Sequential layers\n",
        "- Layer1- resize and rescale\n",
        "- Layer2 - data augmentation original imagte : rotate, contrast, zoom"
      ],
      "metadata": {
        "id": "UvCxAqg50SHM"
      },
      "id": "UvCxAqg50SHM"
    },
    {
      "cell_type": "code",
      "source": [
        "resize_and_rescale = tf.keras.Sequential([\n",
        "  layers.Resizing(IMAGE_SIZE, IMAGE_SIZE),\n",
        "  layers.Rescaling(1./255),\n",
        "])\n",
        "\n",
        "# why resizing we already did while extracting tf dataset\n",
        "# if predict random image then it goes thorough this layer"
      ],
      "metadata": {
        "id": "5ayT0mqk0Jcx"
      },
      "id": "5ayT0mqk0Jcx",
      "execution_count": null,
      "outputs": []
    },
    {
      "cell_type": "code",
      "source": [
        "data_augmentation = tf.keras.Sequential([\n",
        "  layers.RandomFlip(\"horizontal_and_vertical\"),\n",
        "  layers.RandomRotation(0.2),\n",
        "])"
      ],
      "metadata": {
        "id": "TBcTxHxE1IK1"
      },
      "id": "TBcTxHxE1IK1",
      "execution_count": null,
      "outputs": []
    },
    {
      "cell_type": "code",
      "source": [
        "input_shape = (BATCH_SIZE, IMAGE_SIZE, IMAGE_SIZE, RGB_CHANNELS)\n",
        "n_classes = 3\n",
        "\n",
        "# since we provide tf_dataset.take(0) --> 32 bathc image hai each\n",
        "model = models.Sequential([\n",
        "    resize_and_rescale,\n",
        "    data_augmentation,\n",
        "    layers.Conv2D(32, kernel_size = (3,3), activation='relu', input_shape=input_shape),\n",
        "    layers.MaxPooling2D((2, 2)),\n",
        "    layers.Conv2D(64,  kernel_size = (3,3), activation='relu'),\n",
        "    layers.MaxPooling2D((2, 2)),\n",
        "    layers.Conv2D(64,  kernel_size = (3,3), activation='relu'),\n",
        "    layers.MaxPooling2D((2, 2)),\n",
        "    layers.Conv2D(64, (3, 3), activation='relu'),\n",
        "    layers.MaxPooling2D((2, 2)),\n",
        "    layers.Conv2D(64, (3, 3), activation='relu'),\n",
        "    layers.MaxPooling2D((2, 2)),\n",
        "    layers.Conv2D(64, (3, 3), activation='relu'),\n",
        "    layers.MaxPooling2D((2, 2)),\n",
        "    layers.Flatten(),\n",
        "    layers.Dense(64, activation='relu'),\n",
        "    layers.Dense(n_classes, activation='softmax'),\n",
        "])\n",
        "\n",
        "model.build(input_shape=input_shape)"
      ],
      "metadata": {
        "id": "H1ZNYulN1UnO"
      },
      "id": "H1ZNYulN1UnO",
      "execution_count": null,
      "outputs": []
    },
    {
      "cell_type": "code",
      "source": [
        "model.summary()\n",
        "# Paramsa are number of weights to be trained"
      ],
      "metadata": {
        "id": "DEiqjWdT2S2m"
      },
      "id": "DEiqjWdT2S2m",
      "execution_count": null,
      "outputs": []
    },
    {
      "cell_type": "code",
      "source": [
        "model.compile(\n",
        "    optimizer='adam',\n",
        "    loss=tf.keras.losses.SparseCategoricalCrossentropy(from_logits=False),\n",
        "    metrics=['accuracy']\n",
        ")"
      ],
      "metadata": {
        "id": "hzRErxv32pvs"
      },
      "id": "hzRErxv32pvs",
      "execution_count": null,
      "outputs": []
    },
    {
      "cell_type": "code",
      "source": [
        "history = model.fit(\n",
        "    train_ds,\n",
        "    batch_size=BATCH_SIZE,\n",
        "    validation_data=val_ds,\n",
        "    verbose=1,\n",
        "    epochs=1,\n",
        ")\n",
        "# recording in history of each epoch\n",
        "# verbose=1 prints training and validation progress with a progress bar\n",
        "# use this history to plot loss accuracy boom boom"
      ],
      "metadata": {
        "id": "NaeIeaz22rRY"
      },
      "id": "NaeIeaz22rRY",
      "execution_count": null,
      "outputs": []
    },
    {
      "cell_type": "code",
      "source": [
        "scores = model.evaluate(test_ds)"
      ],
      "metadata": {
        "id": "dZT20MWAJAko"
      },
      "id": "dZT20MWAJAko",
      "execution_count": null,
      "outputs": []
    },
    {
      "cell_type": "code",
      "source": [
        "scores"
      ],
      "metadata": {
        "id": "IIHTsiIhJErX"
      },
      "id": "IIHTsiIhJErX",
      "execution_count": null,
      "outputs": []
    },
    {
      "cell_type": "markdown",
      "source": [
        "Plotting the Accuracy and Loss Curves"
      ],
      "metadata": {
        "id": "zPSgm1jMJKt1"
      },
      "id": "zPSgm1jMJKt1"
    },
    {
      "cell_type": "code",
      "source": [
        "history"
      ],
      "metadata": {
        "id": "xDm_7FBAJLOH"
      },
      "id": "xDm_7FBAJLOH",
      "execution_count": null,
      "outputs": []
    },
    {
      "cell_type": "code",
      "source": [
        "history.params"
      ],
      "metadata": {
        "id": "2Pmf-ChCJRe5"
      },
      "id": "2Pmf-ChCJRe5",
      "execution_count": null,
      "outputs": []
    },
    {
      "cell_type": "code",
      "source": [
        "history.history.keys()"
      ],
      "metadata": {
        "id": "zuRMTJu5JSff"
      },
      "id": "zuRMTJu5JSff",
      "execution_count": null,
      "outputs": []
    },
    {
      "cell_type": "code",
      "source": [
        "history.history['loss'][:5]"
      ],
      "metadata": {
        "id": "WztAflRwJViS"
      },
      "id": "WztAflRwJViS",
      "execution_count": null,
      "outputs": []
    },
    {
      "cell_type": "code",
      "source": [
        "acc = history.history['accuracy']\n",
        "val_acc = history.history['val_accuracy']\n",
        "\n",
        "loss = history.history['loss']\n",
        "val_loss = history.history['val_loss']"
      ],
      "metadata": {
        "id": "2iu-tFyeJXTj"
      },
      "id": "2iu-tFyeJXTj",
      "execution_count": null,
      "outputs": []
    },
    {
      "cell_type": "code",
      "source": [
        "plt.figure(figsize=(8, 8))\n",
        "plt.subplot(1, 2, 1)\n",
        "plt.plot(range(1), acc, label='Training Accuracy')\n",
        "plt.plot(range(1), val_acc, label='Validation Accuracy')\n",
        "plt.legend(loc='lower right')\n",
        "plt.title('Training and Validation Accuracy')\n",
        "\n",
        "plt.subplot(1, 2, 2)\n",
        "plt.plot(range(1), loss, label='Training Loss')\n",
        "plt.plot(range(1), val_loss, label='Validation Loss')\n",
        "plt.legend(loc='upper right')\n",
        "plt.title('Training and Validation Loss')\n",
        "plt.show()"
      ],
      "metadata": {
        "id": "Qg6nplB0JYb9"
      },
      "id": "Qg6nplB0JYb9",
      "execution_count": null,
      "outputs": []
    },
    {
      "cell_type": "markdown",
      "source": [
        "Run prediction on a sample image"
      ],
      "metadata": {
        "id": "xIjNjlkZJxdh"
      },
      "id": "xIjNjlkZJxdh"
    },
    {
      "cell_type": "code",
      "source": [
        "import numpy as np\n",
        "for images_batch, labels_batch in test_ds.take(1):\n",
        "\n",
        "    first_image = images_batch[0].numpy().astype('uint8')\n",
        "    first_label = labels_batch[0].numpy()\n",
        "\n",
        "    print(\"first image to predict\")\n",
        "    plt.imshow(first_image)\n",
        "    print(\"actual label:\",class_names[first_label])\n",
        "\n",
        "    batch_prediction = model.predict(images_batch)\n",
        "    print(batch_prediction)\n",
        "    # complete batch prediction with each value probability of output 3 classes\n",
        "    print(\"predicted label:\",class_names[np.argmax(batch_prediction[0])])"
      ],
      "metadata": {
        "id": "NxGNOpbpJx8A"
      },
      "id": "NxGNOpbpJx8A",
      "execution_count": null,
      "outputs": []
    },
    {
      "cell_type": "markdown",
      "source": [
        "Write a function for inference\n",
        "- need input as batch since thats way we have layered model predict\n",
        "- output as batch array"
      ],
      "metadata": {
        "id": "ZR6GGjZRK9s-"
      },
      "id": "ZR6GGjZRK9s-"
    },
    {
      "cell_type": "code",
      "source": [
        "\n",
        "#model is in batch form (32 image ouput 32 single araay of 3)\n",
        "# WE want single image prediction single ouput [0,0,0] type\n",
        "\n",
        "def predict(model, img):\n",
        "    img_array = tf.keras.preprocessing.image.img_to_array(img)\n",
        "    img_array = tf.expand_dims(img_array, 0)\n",
        "\n",
        "    predictions = model.predict(img_array)\n",
        "    # prediction is in batch type so index 0\n",
        "    predicted_class = class_names[np.argmax(predictions[0])]\n",
        "    confidence = round(100 * (np.max(predictions[0])), 2)\n",
        "    return predicted_class, confidence"
      ],
      "metadata": {
        "id": "0wjSZo4CK8dQ"
      },
      "id": "0wjSZo4CK8dQ",
      "execution_count": null,
      "outputs": []
    },
    {
      "cell_type": "code",
      "source": [
        "plt.figure(figsize=(15, 15))\n",
        "for images, labels in test_ds.take(1):\n",
        "    for i in range(9):\n",
        "        ax = plt.subplot(3, 3, i + 1)\n",
        "        # Plot inside subplot divide\n",
        "        plt.imshow(images[i].numpy().astype(\"uint8\"))\n",
        "\n",
        "        predicted_class, confidence = predict(model, images[i].numpy())\n",
        "        actual_class = class_names[labels[i]]\n",
        "\n",
        "        plt.title(f\"Actual: {actual_class},\\n Predicted: {predicted_class}.\\n Confidence: {confidence}%\")\n",
        "\n",
        "        plt.axis(\"off\")"
      ],
      "metadata": {
        "id": "ov6wEW2PLrrH"
      },
      "id": "ov6wEW2PLrrH",
      "execution_count": null,
      "outputs": []
    },
    {
      "cell_type": "markdown",
      "source": [
        "Saving the model of Keras after training"
      ],
      "metadata": {
        "id": "fUu0OqjPMXTl"
      },
      "id": "fUu0OqjPMXTl"
    },
    {
      "cell_type": "code",
      "source": [
        "model.save(\"/content/Export/my_model.keras\")"
      ],
      "metadata": {
        "id": "bURG8GBqMZZr"
      },
      "id": "bURG8GBqMZZr",
      "execution_count": null,
      "outputs": []
    },
    {
      "cell_type": "code",
      "source": [
        "MODEL = tf.keras.models.load_model(\"/content/Export/my_model.keras\")"
      ],
      "metadata": {
        "id": "cJ3mfZkrb9lo"
      },
      "id": "cJ3mfZkrb9lo",
      "execution_count": 39,
      "outputs": []
    },
    {
      "cell_type": "code",
      "source": [
        "MODEL.summary()"
      ],
      "metadata": {
        "id": "mRrV3OwGcLoR"
      },
      "id": "mRrV3OwGcLoR",
      "execution_count": null,
      "outputs": []
    },
    {
      "cell_type": "code",
      "source": [
        "model.save(\"/content/Potato/my_model.h5\")\n",
        "# for tf model"
      ],
      "metadata": {
        "id": "ELOvZniGNKJt"
      },
      "id": "ELOvZniGNKJt",
      "execution_count": null,
      "outputs": []
    },
    {
      "cell_type": "code",
      "source": [
        "model.export(\"/content/Potato/my_model/\")"
      ],
      "metadata": {
        "id": "gAVN-JwONqMc"
      },
      "id": "gAVN-JwONqMc",
      "execution_count": null,
      "outputs": []
    },
    {
      "cell_type": "code",
      "source": [
        "model.save(\"/content/Potato/my_model/\")"
      ],
      "metadata": {
        "id": "FLfqZYp5bDbO"
      },
      "id": "FLfqZYp5bDbO",
      "execution_count": null,
      "outputs": []
    },
    {
      "cell_type": "markdown",
      "source": [
        "### Locally Download the model"
      ],
      "metadata": {
        "id": "5m6rLBrhSm6h"
      },
      "id": "5m6rLBrhSm6h"
    },
    {
      "cell_type": "code",
      "source": [
        "import shutil\n",
        "\n",
        "shutil.make_archive('potatoModel', 'zip', '/content/Potato/my_model')\n",
        "from google.colab import files\n",
        "\n",
        "files.download('potatoModel.zip')"
      ],
      "metadata": {
        "id": "dTda6hnlSpS0"
      },
      "id": "dTda6hnlSpS0",
      "execution_count": null,
      "outputs": []
    },
    {
      "cell_type": "code",
      "source": [
        "from google.colab import files\n",
        "files.download('/content/Export/my_model.keras')"
      ],
      "metadata": {
        "id": "VKiwtxSeZymU"
      },
      "id": "VKiwtxSeZymU",
      "execution_count": null,
      "outputs": []
    },
    {
      "cell_type": "markdown",
      "source": [
        "# Tf Serving -> API Server using Docker HTTP Server\n",
        "- Docker\n",
        "# Deployment Cloud"
      ],
      "metadata": {
        "id": "ixniAZ2AKvO4"
      },
      "id": "ixniAZ2AKvO4"
    }
  ],
  "metadata": {
    "language_info": {
      "name": "python"
    },
    "colab": {
      "provenance": []
    },
    "kernelspec": {
      "name": "python3",
      "display_name": "Python 3"
    }
  },
  "nbformat": 4,
  "nbformat_minor": 5
}