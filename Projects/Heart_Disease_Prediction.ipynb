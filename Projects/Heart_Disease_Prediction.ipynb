{
  "cells": [
    {
      "cell_type": "markdown",
      "source": [
        "# Heart Disease Prediction"
      ],
      "metadata": {
        "id": "6i9BliJCXeoe"
      },
      "id": "6i9BliJCXeoe"
    },
    {
      "cell_type": "code",
      "source": [
        "import numpy as np\n",
        "import pandas as pd\n",
        "from sklearn.model_selection import train_test_split\n",
        "from sklearn.model_selection import cross_val_score\n",
        "from sklearn.metrics import accuracy_score"
      ],
      "metadata": {
        "id": "Lm3QHibHXh89"
      },
      "id": "Lm3QHibHXh89",
      "execution_count": null,
      "outputs": []
    }
  ],
  "metadata": {
    "colab": {
      "provenance": []
    },
    "kernelspec": {
      "display_name": "Python 3",
      "name": "python3"
    },
    "language_info": {
      "name": "python"
    }
  },
  "nbformat": 4,
  "nbformat_minor": 5
}