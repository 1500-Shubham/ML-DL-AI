{
  "cells": [
    {
      "cell_type": "markdown",
      "source": [
        "# Customer Segmentation\n",
        "- K Mean Clustering\n",
        "  - optimum number of clusters\n",
        "  - k-means clustering model\n",
        "- Visualize the clusters"
      ],
      "metadata": {
        "id": "WGY_BC-BcKPT"
      },
      "id": "WGY_BC-BcKPT"
    },
    {
      "cell_type": "code",
      "source": [
        "import numpy as np\n",
        "import pandas as pd\n",
        "import matplotlib.pyplot as plt\n",
        "# /content/Mall_Customers.csv\n",
        "import seaborn as sns\n",
        "from sklearn.cluster import KMeans"
      ],
      "metadata": {
        "id": "ADZtvVpecmVe"
      },
      "id": "ADZtvVpecmVe",
      "execution_count": null,
      "outputs": []
    }
  ],
  "metadata": {
    "language_info": {
      "name": "python"
    },
    "colab": {
      "provenance": []
    },
    "kernelspec": {
      "name": "python3",
      "display_name": "Python 3"
    }
  },
  "nbformat": 4,
  "nbformat_minor": 5
}