{
  "cells": [
    {
      "cell_type": "markdown",
      "source": [
        "# Regex In NLP"
      ],
      "metadata": {
        "id": "NXM1ufF5oPws"
      },
      "id": "NXM1ufF5oPws"
    },
    {
      "cell_type": "markdown",
      "source": [
        "## Regex in Python"
      ],
      "metadata": {
        "id": "c8TnMa6RqCYs"
      },
      "id": "c8TnMa6RqCYs"
    },
    {
      "cell_type": "code",
      "source": [
        "import re"
      ],
      "metadata": {
        "id": "c-lzmzCkqEDc"
      },
      "id": "c-lzmzCkqEDc",
      "execution_count": 1,
      "outputs": []
    },
    {
      "cell_type": "markdown",
      "source": [
        "Digit\n",
        "- /d\n",
        "- /d/d/d/d\n",
        "- /d{10}"
      ],
      "metadata": {
        "id": "VLsRR_lssZ7Y"
      },
      "id": "VLsRR_lssZ7Y"
    },
    {
      "cell_type": "code",
      "source": [
        "\n",
        "text = \"There are 3 apples, 12 bananas, and 100 oranges.\"\n",
        "# Find all digit sequences\n",
        "numbers = re.findall(r'\\d{2}', text)\n",
        "print(numbers)"
      ],
      "metadata": {
        "id": "stabny3Vsb_I"
      },
      "id": "stabny3Vsb_I",
      "execution_count": null,
      "outputs": []
    },
    {
      "cell_type": "markdown",
      "source": [
        "Enclosing Bracet\n",
        "- \\(\n",
        "- \\)\n",
        "- \\-"
      ],
      "metadata": {
        "id": "HDxwSTKjsuyB"
      },
      "id": "HDxwSTKjsuyB"
    },
    {
      "cell_type": "code",
      "source": [
        "a = \"(999)-0000 also check 99999\"\n",
        "print(re.findall(r'\\(\\d{3}\\)\\-\\d{4} | \\d{5}',a))"
      ],
      "metadata": {
        "id": "MHD8OxsLsuQ9"
      },
      "id": "MHD8OxsLsuQ9",
      "execution_count": null,
      "outputs": []
    },
    {
      "cell_type": "markdown",
      "source": [
        "OR\n",
        "- | example: \\d\\d\\ | \\d"
      ],
      "metadata": {
        "id": "uTnLde9FtS4-"
      },
      "id": "uTnLde9FtS4-"
    },
    {
      "cell_type": "markdown",
      "source": [
        "- [^abc] [^a-z] not ^ these character except\n",
        "- (enclosed jo hai woh output)\n",
        "  -  () toh print hoga match pattern se hota then () wala exact print hoga\n",
        "- [abc] include these characters\n",
        "- \\ using means literally this character"
      ],
      "metadata": {
        "id": "cZXf49jGyfwB"
      },
      "id": "cZXf49jGyfwB"
    },
    {
      "cell_type": "code",
      "source": [
        "text='''\n",
        "Elon musk's phone number is 9991116666, call him if you have any questions on dodgecoin. Tesla's revenue is 40 billion\n",
        "Tesla's CFO number (999)-333-7777\n",
        "'''\n",
        "pattern = '\\(\\d{3}\\)-\\d{3}-\\d{4}|\\d{10}'\n",
        "\n",
        "matches = re.findall(pattern, text)\n",
        "matches"
      ],
      "metadata": {
        "id": "RfcA1SoDzjoz"
      },
      "id": "RfcA1SoDzjoz",
      "execution_count": null,
      "outputs": []
    },
    {
      "cell_type": "code",
      "source": [
        "text = '''\n",
        "Note 1 - Overview\n",
        "Tesla, Inc. (“Tesla”, the “Company”, “we”, “us” or “our”) was incorporated in the State of Delaware on July 1, 2003. We design, develop, manufacture and sell high-performance fully electric vehicles and design, manufacture, install and sell solar energy generation and energy storage\n",
        "products. Our Chief Executive Officer, as the chief operating decision maker (“CODM”), organizes our company, manages resource allocations and measures performance among two operating and reportable segments: (i) automotive and (ii) energy generation and storage.\n",
        "Beginning in the first quarter of 2021, there has been a trend in many parts of the world of increasing availability and administration of vaccines\n",
        "against COVID-19, as well as an easing of restrictions on social, business, travel and government activities and functions. On the other hand, infection\n",
        "rates and regulations continue to fluctuate in various regions and there are ongoing global impacts resulting from the pandemic, including challenges\n",
        "and increases in costs for logistics and supply chains, such as increased port congestion, intermittent supplier delays and a shortfall of semiconductor\n",
        "supply. We have also previously been affected by temporary manufacturing closures, employment and compensation adjustments and impediments to\n",
        "administrative activities supporting our product deliveries and deployments.\n",
        "Note 2 - Summary of Significant Accounting Policies\n",
        "Unaudited Interim Financial Statements\n",
        "The consolidated balance sheet as of September 30, 2021, the consolidated statements of operations, the consolidated statements of\n",
        "comprehensive income, the consolidated statements of redeemable noncontrolling interests and equity for the three and nine months ended September\n",
        "30, 2021 and 2020 and the consolidated statements of cash flows for the nine months ended September 30, 2021 and 2020, as well as other information\n",
        "disclosed in the accompanying notes, are unaudited. The consolidated balance sheet as of December 31, 2020 was derived from the audited\n",
        "consolidated financial statements as of that date. The interim consolidated financial statements and the accompanying notes should be read in\n",
        "conjunction with the annual consolidated financial statements and the accompanying notes contained in our Annual Report on Form 10-K for the year\n",
        "ended December 31, 2020.\n",
        "'''\n",
        "\n",
        "pattern = 'Note \\d - ([^\\n]*)'\n",
        "matches = re.findall(pattern, text)\n",
        "matches"
      ],
      "metadata": {
        "id": "P_FHy46Zzn3p"
      },
      "id": "P_FHy46Zzn3p",
      "execution_count": null,
      "outputs": []
    },
    {
      "cell_type": "markdown",
      "source": [
        "Extract financial periods from a company's financial reporting"
      ],
      "metadata": {
        "id": "YulMQuwlz3m9"
      },
      "id": "YulMQuwlz3m9"
    },
    {
      "cell_type": "code",
      "source": [
        "text = '''\n",
        "The gross cost of operating lease vehicles in FY2021 Q1 was $4.85 billion.\n",
        "In previous quarter i.e. FY2020 Q4 it was $3 billion.\n",
        "'''\n",
        "\n",
        "pattern = 'FY\\d{4} Q[1-4]'\n",
        "\n",
        "matches = re.findall(pattern, text)\n",
        "matches"
      ],
      "metadata": {
        "id": "1S6bmIOnz3If"
      },
      "id": "1S6bmIOnz3If",
      "execution_count": null,
      "outputs": []
    },
    {
      "cell_type": "markdown",
      "source": [
        "Case insensitive pattern match using flags"
      ],
      "metadata": {
        "id": "DzYaLCcA0E5N"
      },
      "id": "DzYaLCcA0E5N"
    },
    {
      "cell_type": "code",
      "source": [
        "text = '''\n",
        "The gross cost of operating lease vehicles in FY2021 Q1 was $4.85 billion.\n",
        "In previous quarter i.e. fy2020 Q4 it was $3 billion.\n",
        "'''\n",
        "\n",
        "pattern = 'FY\\d{4} Q[1-4]'\n",
        "\n",
        "matches = re.findall(pattern, text, flags=re.IGNORECASE)\n",
        "matches"
      ],
      "metadata": {
        "id": "iF6Jy5q90Fx_"
      },
      "id": "iF6Jy5q90Fx_",
      "execution_count": null,
      "outputs": []
    },
    {
      "cell_type": "markdown",
      "source": [
        "re.search"
      ],
      "metadata": {
        "id": "cX-dvzNE0aB5"
      },
      "id": "cX-dvzNE0aB5"
    },
    {
      "cell_type": "code",
      "source": [
        "text = '''\n",
        "Tesla's gross cost of operating lease vehicles in FY2021 Q1 ljh lsj a 123 was $4.85 billion. Same number for FY2020 Q4 was $8 billion\n",
        "'''\n",
        "pattern = 'FY(\\d{4} Q[1-4])[^\\$]+\\$([0-9\\.]+)'\n",
        "\n",
        "matches = re.search(pattern, text)\n",
        "matches\n",
        "matches.groups()\n"
      ],
      "metadata": {
        "id": "hgBCZjAU0bPO"
      },
      "id": "hgBCZjAU0bPO",
      "execution_count": null,
      "outputs": []
    },
    {
      "cell_type": "code",
      "source": [
        "# 1. Extract all twitter handles from following text. Twitter handle is the text that appears after https://twitter.com/ and is a single word. Also it contains only alpha numeric characters i.e. A-Z a-z , o to 9 and underscore _\n",
        "text = '''\n",
        "Follow our leader Elon musk on twitter here: https://twitter.com/elonmusk, more information\n",
        "on Tesla's products can be found at https://www.tesla.com/. Also here are leading influencers\n",
        "for tesla related news,\n",
        "https://twitter.com/teslarati\n",
        "https://twitter.com/dummy_tesla\n",
        "https://twitter.com/dummy_2_tesla\n",
        "'''\n",
        "pattern = 'https://twitter.com/([a-z0-9\\_]+)' # todo: type your regex here\n",
        "\n",
        "re.findall(pattern, text)"
      ],
      "metadata": {
        "id": "pqk94MNF0pgd"
      },
      "id": "pqk94MNF0pgd",
      "execution_count": null,
      "outputs": []
    },
    {
      "cell_type": "code",
      "source": [
        "# Extract Concentration Risk Types. It will be a text that appears after \"Concentration Risk:\", In below example, your regex should extract these two strings\n",
        "text = '''\n",
        "Concentration of Risk: Credit Risk\n",
        "Financial instruments that potentially subject us to a concentration of credit risk consist of cash, cash equivalents, marketable securities,\n",
        "restricted cash, accounts receivable, convertible note hedges, and interest rate swaps. Our cash balances are primarily invested in money market funds\n",
        "or on deposit at high credit quality financial institutions in the U.S. These deposits are typically in excess of insured limits. As of September 30, 2021\n",
        "and December 31, 2020, no entity represented 10% or more of our total accounts receivable balance. The risk of concentration for our convertible note\n",
        "hedges and interest rate swaps is mitigated by transacting with several highly-rated multinational banks.\n",
        "Concentration of Risk: Supply Risk\n",
        "We are dependent on our suppliers, including single source suppliers, and the inability of these suppliers to deliver necessary components of our\n",
        "products in a timely manner at prices, quality levels and volumes acceptable to us, or our inability to efficiently manage these components from these\n",
        "suppliers, could have a material adverse effect on our business, prospects, financial condition and operating results.\n",
        "'''\n",
        "pattern = 'Concentration of Risk: ([^\\n]+)' # todo: type your regex here\n",
        "\n",
        "re.findall(pattern, text)"
      ],
      "metadata": {
        "id": "NbxA6jHa1LYf"
      },
      "id": "NbxA6jHa1LYf",
      "execution_count": null,
      "outputs": []
    },
    {
      "cell_type": "markdown",
      "source": [],
      "metadata": {
        "id": "HDjBEdPM1JWx"
      },
      "id": "HDjBEdPM1JWx"
    },
    {
      "cell_type": "markdown",
      "source": [
        "Create Regex according to input given and need\n",
        "- number extract specific pattern\n",
        "- heading names etc\n",
        "- use website regular expression .io type"
      ],
      "metadata": {
        "id": "lMrUz-lzFsIU"
      },
      "id": "lMrUz-lzFsIU"
    },
    {
      "cell_type": "markdown",
      "source": [
        "Retrieve order number"
      ],
      "metadata": {
        "id": "70IqfiMKGTGN"
      },
      "id": "70IqfiMKGTGN"
    },
    {
      "cell_type": "code",
      "source": [
        "import re\n",
        "\n",
        "chat1='codebasics: Hello, I am having an issue with my order # 412889912'\n",
        "\n",
        "#  * means sequence end tak\n",
        "# + means one or more character of a+\n",
        "#  ^ dont include this\n",
        "pattern = 'order[^\\d]*(\\d*)'\n",
        "matches = re.findall(pattern, chat1)\n",
        "matches"
      ],
      "metadata": {
        "id": "UdXJynF1GQBT",
        "outputId": "b81b8148-548e-4359-fdd6-8d54aeb5ea01",
        "colab": {
          "base_uri": "https://localhost:8080/"
        }
      },
      "id": "UdXJynF1GQBT",
      "execution_count": 2,
      "outputs": [
        {
          "output_type": "execute_result",
          "data": {
            "text/plain": [
              "['412889912']"
            ]
          },
          "metadata": {},
          "execution_count": 2
        }
      ]
    },
    {
      "cell_type": "markdown",
      "source": [
        "Retrieve email id and phone"
      ],
      "metadata": {
        "id": "_91orlFuGksO"
      },
      "id": "_91orlFuGksO"
    },
    {
      "cell_type": "code",
      "source": [
        "chat1 = 'codebasics: you ask lot of questions 😠  1235678912, abc@xyz.com'\n",
        "chat2 = 'codebasics: here it is: (123)-567-8912, abc@xyz.com'\n",
        "chat3 = 'codebasics: yes, phone: 1235678912 email: abc@xyz.com'"
      ],
      "metadata": {
        "id": "NQsNbEjwGmgr"
      },
      "id": "NQsNbEjwGmgr",
      "execution_count": 4,
      "outputs": []
    },
    {
      "cell_type": "code",
      "source": [
        "def get_pattern_match(pattern, text):\n",
        "    matches = re.findall(pattern, text)\n",
        "    if matches:\n",
        "        return matches[0]"
      ],
      "metadata": {
        "id": "F4WvxP8WGnoj"
      },
      "id": "F4WvxP8WGnoj",
      "execution_count": 3,
      "outputs": []
    },
    {
      "cell_type": "code",
      "source": [
        "get_pattern_match('[a-zA-Z0-9_]*@[a-z]*\\.[a-zA-Z0-9]*',chat1)"
      ],
      "metadata": {
        "id": "xjIivxRjGpao",
        "outputId": "207eb3a2-9809-449f-a650-4e860fc1d47b",
        "colab": {
          "base_uri": "https://localhost:8080/",
          "height": 35
        }
      },
      "id": "xjIivxRjGpao",
      "execution_count": 5,
      "outputs": [
        {
          "output_type": "execute_result",
          "data": {
            "text/plain": [
              "'abc@xyz.com'"
            ],
            "application/vnd.google.colaboratory.intrinsic+json": {
              "type": "string"
            }
          },
          "metadata": {},
          "execution_count": 5
        }
      ]
    },
    {
      "cell_type": "code",
      "source": [
        "get_pattern_match('(\\d{10})|(\\(\\d{3}\\)-\\d{3}-\\d{4})',chat1)"
      ],
      "metadata": {
        "id": "pegQf9srGut9",
        "outputId": "a7f7f3c4-f2c3-4655-86ed-704115fe1a03",
        "colab": {
          "base_uri": "https://localhost:8080/"
        }
      },
      "id": "pegQf9srGut9",
      "execution_count": 6,
      "outputs": [
        {
          "output_type": "execute_result",
          "data": {
            "text/plain": [
              "('1235678912', '')"
            ]
          },
          "metadata": {},
          "execution_count": 6
        }
      ]
    }
  ],
  "metadata": {
    "colab": {
      "provenance": []
    },
    "language_info": {
      "name": "python"
    },
    "kernelspec": {
      "name": "python3",
      "display_name": "Python 3"
    }
  },
  "nbformat": 4,
  "nbformat_minor": 5
}