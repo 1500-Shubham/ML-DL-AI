{
  "cells": [
    {
      "cell_type": "markdown",
      "source": [
        "# Regex In NLP"
      ],
      "metadata": {
        "id": "NXM1ufF5oPws"
      },
      "id": "NXM1ufF5oPws"
    },
    {
      "cell_type": "markdown",
      "source": [
        "## Regex in Python"
      ],
      "metadata": {
        "id": "c8TnMa6RqCYs"
      },
      "id": "c8TnMa6RqCYs"
    },
    {
      "cell_type": "code",
      "source": [
        "import re"
      ],
      "metadata": {
        "id": "c-lzmzCkqEDc"
      },
      "id": "c-lzmzCkqEDc",
      "execution_count": 1,
      "outputs": []
    },
    {
      "cell_type": "markdown",
      "source": [
        "Digit\n",
        "- /d\n",
        "- /d/d/d/d\n",
        "- /d{10}"
      ],
      "metadata": {
        "id": "VLsRR_lssZ7Y"
      },
      "id": "VLsRR_lssZ7Y"
    },
    {
      "cell_type": "code",
      "source": [
        "\n",
        "text = \"There are 3 apples, 12 bananas, and 100 oranges.\"\n",
        "# Find all digit sequences\n",
        "numbers = re.findall(r'\\d{2}', text)\n",
        "print(numbers)"
      ],
      "metadata": {
        "id": "stabny3Vsb_I",
        "outputId": "13aa6e93-1c0d-4615-e2ac-72ff56a73d76",
        "colab": {
          "base_uri": "https://localhost:8080/"
        }
      },
      "id": "stabny3Vsb_I",
      "execution_count": 3,
      "outputs": [
        {
          "output_type": "stream",
          "name": "stdout",
          "text": [
            "['12', '10']\n"
          ]
        }
      ]
    },
    {
      "cell_type": "markdown",
      "source": [
        "Enclosing Bracet\n",
        "- \\(\n",
        "- \\)\n",
        "- \\-"
      ],
      "metadata": {
        "id": "HDxwSTKjsuyB"
      },
      "id": "HDxwSTKjsuyB"
    },
    {
      "cell_type": "code",
      "source": [
        "a = \"(999)-0000 also check 99999\"\n",
        "print(re.findall(r'\\(\\d{3}\\)\\-\\d{4} | \\d{5}',a))"
      ],
      "metadata": {
        "id": "MHD8OxsLsuQ9",
        "outputId": "3f82c83b-5411-4152-b081-c67980435857",
        "colab": {
          "base_uri": "https://localhost:8080/"
        }
      },
      "id": "MHD8OxsLsuQ9",
      "execution_count": 6,
      "outputs": [
        {
          "output_type": "stream",
          "name": "stdout",
          "text": [
            "['(999)-0000 ', ' 99999']\n"
          ]
        }
      ]
    },
    {
      "cell_type": "markdown",
      "source": [
        "OR\n",
        "- | example: \\d\\d\\ | \\d"
      ],
      "metadata": {
        "id": "uTnLde9FtS4-"
      },
      "id": "uTnLde9FtS4-"
    },
    {
      "cell_type": "markdown",
      "source": [
        "- [^abc] [^a-z] not ^ these character except\n",
        "- (enclosed jo hai woh output)\n",
        "  -  () toh print hoga match pattern se hota then () wala exact print hoga\n",
        "- [abc] include these characters\n",
        "- \\ using means literally this character"
      ],
      "metadata": {
        "id": "cZXf49jGyfwB"
      },
      "id": "cZXf49jGyfwB"
    },
    {
      "cell_type": "code",
      "source": [
        "text='''\n",
        "Elon musk's phone number is 9991116666, call him if you have any questions on dodgecoin. Tesla's revenue is 40 billion\n",
        "Tesla's CFO number (999)-333-7777\n",
        "'''\n",
        "pattern = '\\(\\d{3}\\)-\\d{3}-\\d{4}|\\d{10}'\n",
        "\n",
        "matches = re.findall(pattern, text)\n",
        "matches"
      ],
      "metadata": {
        "id": "RfcA1SoDzjoz",
        "outputId": "f84cc710-0242-47d3-b8c4-642aabadd2e9",
        "colab": {
          "base_uri": "https://localhost:8080/"
        }
      },
      "id": "RfcA1SoDzjoz",
      "execution_count": 7,
      "outputs": [
        {
          "output_type": "execute_result",
          "data": {
            "text/plain": [
              "['9991116666', '(999)-333-7777']"
            ]
          },
          "metadata": {},
          "execution_count": 7
        }
      ]
    },
    {
      "cell_type": "code",
      "source": [
        "text = '''\n",
        "Note 1 - Overview\n",
        "Tesla, Inc. (“Tesla”, the “Company”, “we”, “us” or “our”) was incorporated in the State of Delaware on July 1, 2003. We design, develop, manufacture and sell high-performance fully electric vehicles and design, manufacture, install and sell solar energy generation and energy storage\n",
        "products. Our Chief Executive Officer, as the chief operating decision maker (“CODM”), organizes our company, manages resource allocations and measures performance among two operating and reportable segments: (i) automotive and (ii) energy generation and storage.\n",
        "Beginning in the first quarter of 2021, there has been a trend in many parts of the world of increasing availability and administration of vaccines\n",
        "against COVID-19, as well as an easing of restrictions on social, business, travel and government activities and functions. On the other hand, infection\n",
        "rates and regulations continue to fluctuate in various regions and there are ongoing global impacts resulting from the pandemic, including challenges\n",
        "and increases in costs for logistics and supply chains, such as increased port congestion, intermittent supplier delays and a shortfall of semiconductor\n",
        "supply. We have also previously been affected by temporary manufacturing closures, employment and compensation adjustments and impediments to\n",
        "administrative activities supporting our product deliveries and deployments.\n",
        "Note 2 - Summary of Significant Accounting Policies\n",
        "Unaudited Interim Financial Statements\n",
        "The consolidated balance sheet as of September 30, 2021, the consolidated statements of operations, the consolidated statements of\n",
        "comprehensive income, the consolidated statements of redeemable noncontrolling interests and equity for the three and nine months ended September\n",
        "30, 2021 and 2020 and the consolidated statements of cash flows for the nine months ended September 30, 2021 and 2020, as well as other information\n",
        "disclosed in the accompanying notes, are unaudited. The consolidated balance sheet as of December 31, 2020 was derived from the audited\n",
        "consolidated financial statements as of that date. The interim consolidated financial statements and the accompanying notes should be read in\n",
        "conjunction with the annual consolidated financial statements and the accompanying notes contained in our Annual Report on Form 10-K for the year\n",
        "ended December 31, 2020.\n",
        "'''\n",
        "\n",
        "pattern = 'Note \\d - ([^\\n]*)'\n",
        "matches = re.findall(pattern, text)\n",
        "matches"
      ],
      "metadata": {
        "id": "P_FHy46Zzn3p",
        "outputId": "10697f52-2453-415a-e7fd-245a92262b89",
        "colab": {
          "base_uri": "https://localhost:8080/"
        }
      },
      "id": "P_FHy46Zzn3p",
      "execution_count": 9,
      "outputs": [
        {
          "output_type": "execute_result",
          "data": {
            "text/plain": [
              "['', 'Summary of Significant Accounting Policies']"
            ]
          },
          "metadata": {},
          "execution_count": 9
        }
      ]
    },
    {
      "cell_type": "markdown",
      "source": [
        "Extract financial periods from a company's financial reporting"
      ],
      "metadata": {
        "id": "YulMQuwlz3m9"
      },
      "id": "YulMQuwlz3m9"
    },
    {
      "cell_type": "code",
      "source": [
        "text = '''\n",
        "The gross cost of operating lease vehicles in FY2021 Q1 was $4.85 billion.\n",
        "In previous quarter i.e. FY2020 Q4 it was $3 billion.\n",
        "'''\n",
        "\n",
        "pattern = 'FY\\d{4} Q[1-4]'\n",
        "\n",
        "matches = re.findall(pattern, text)\n",
        "matches"
      ],
      "metadata": {
        "id": "1S6bmIOnz3If",
        "outputId": "0ff9bcab-0fcc-4298-ab72-f3d3109db435",
        "colab": {
          "base_uri": "https://localhost:8080/"
        }
      },
      "id": "1S6bmIOnz3If",
      "execution_count": 10,
      "outputs": [
        {
          "output_type": "execute_result",
          "data": {
            "text/plain": [
              "['FY2021 Q1', 'FY2020 Q4']"
            ]
          },
          "metadata": {},
          "execution_count": 10
        }
      ]
    },
    {
      "cell_type": "markdown",
      "source": [
        "Case insensitive pattern match using flags"
      ],
      "metadata": {
        "id": "DzYaLCcA0E5N"
      },
      "id": "DzYaLCcA0E5N"
    },
    {
      "cell_type": "code",
      "source": [
        "text = '''\n",
        "The gross cost of operating lease vehicles in FY2021 Q1 was $4.85 billion.\n",
        "In previous quarter i.e. fy2020 Q4 it was $3 billion.\n",
        "'''\n",
        "\n",
        "pattern = 'FY\\d{4} Q[1-4]'\n",
        "\n",
        "matches = re.findall(pattern, text, flags=re.IGNORECASE)\n",
        "matches"
      ],
      "metadata": {
        "id": "iF6Jy5q90Fx_",
        "outputId": "c77b6d9d-c5dd-4ce6-9ecd-19a2a673f861",
        "colab": {
          "base_uri": "https://localhost:8080/"
        }
      },
      "id": "iF6Jy5q90Fx_",
      "execution_count": 11,
      "outputs": [
        {
          "output_type": "execute_result",
          "data": {
            "text/plain": [
              "['FY2021 Q1', 'fy2020 Q4']"
            ]
          },
          "metadata": {},
          "execution_count": 11
        }
      ]
    },
    {
      "cell_type": "markdown",
      "source": [
        "re.search"
      ],
      "metadata": {
        "id": "cX-dvzNE0aB5"
      },
      "id": "cX-dvzNE0aB5"
    },
    {
      "cell_type": "code",
      "source": [
        "text = '''\n",
        "Tesla's gross cost of operating lease vehicles in FY2021 Q1 ljh lsj a 123 was $4.85 billion. Same number for FY2020 Q4 was $8 billion\n",
        "'''\n",
        "pattern = 'FY(\\d{4} Q[1-4])[^\\$]+\\$([0-9\\.]+)'\n",
        "\n",
        "matches = re.search(pattern, text)\n",
        "matches\n",
        "matches.groups()\n"
      ],
      "metadata": {
        "id": "hgBCZjAU0bPO",
        "outputId": "3cb76dd5-1a35-4591-9e94-e87cccbf56b3",
        "colab": {
          "base_uri": "https://localhost:8080/"
        }
      },
      "id": "hgBCZjAU0bPO",
      "execution_count": 13,
      "outputs": [
        {
          "output_type": "execute_result",
          "data": {
            "text/plain": [
              "('2021 Q1', '4.85')"
            ]
          },
          "metadata": {},
          "execution_count": 13
        }
      ]
    },
    {
      "cell_type": "code",
      "source": [
        "text = '''\n",
        "Follow our leader Elon musk on twitter here: https://twitter.com/elonmusk, more information\n",
        "on Tesla's products can be found at https://www.tesla.com/. Also here are leading influencers\n",
        "for tesla related news,\n",
        "https://twitter.com/teslarati\n",
        "https://twitter.com/dummy_tesla\n",
        "https://twitter.com/dummy_2_tesla\n",
        "'''\n",
        "pattern = 'https://twitter.com/([a-z0-9\\_]+)' # todo: type your regex here\n",
        "\n",
        "re.findall(pattern, text)"
      ],
      "metadata": {
        "id": "pqk94MNF0pgd",
        "outputId": "62aab993-f71b-43a7-8384-ab9e8dddbf13",
        "colab": {
          "base_uri": "https://localhost:8080/"
        }
      },
      "id": "pqk94MNF0pgd",
      "execution_count": 15,
      "outputs": [
        {
          "output_type": "execute_result",
          "data": {
            "text/plain": [
              "['elonmusk', 'teslarati', 'dummy_tesla', 'dummy_2_tesla']"
            ]
          },
          "metadata": {},
          "execution_count": 15
        }
      ]
    }
  ],
  "metadata": {
    "colab": {
      "provenance": []
    },
    "language_info": {
      "name": "python"
    },
    "kernelspec": {
      "name": "python3",
      "display_name": "Python 3"
    }
  },
  "nbformat": 4,
  "nbformat_minor": 5
}