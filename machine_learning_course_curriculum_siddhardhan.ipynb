{
  "cells": [
    {
      "cell_type": "markdown",
      "source": [
        "# Module-2 Python\n",
        "\n"
      ],
      "metadata": {
        "id": "X9tj-NENMzjw"
      },
      "id": "X9tj-NENMzjw"
    },
    {
      "cell_type": "markdown",
      "source": [
        "## System Specification\n",
        "- use `!` command in front to use local terminal type of thing\n",
        "- also whenever you do `!ls` you can see that the file folder (sample_data) which google collab has provided shows meaning all your files are starting from this directory"
      ],
      "metadata": {
        "id": "ri2vDmPLPcND"
      },
      "id": "ri2vDmPLPcND"
    },
    {
      "cell_type": "code",
      "source": [
        "!cat /proc/cpuinfo\n",
        "!cat /proc/meminfo\n",
        "!ls\n",
        "!cd / && pwd && ls"
      ],
      "metadata": {
        "id": "IOPA35kXNHWj"
      },
      "id": "IOPA35kXNHWj",
      "execution_count": null,
      "outputs": []
    },
    {
      "cell_type": "markdown",
      "source": [
        "## Installing Libraries\n",
        "- use !pip install library ex. pip install pandas\n",
        "- import pandas as py and use inside code"
      ],
      "metadata": {
        "id": "mbQnn1keOU5g"
      },
      "id": "mbQnn1keOU5g"
    },
    {
      "cell_type": "markdown",
      "source": [
        "## Python Basics"
      ],
      "metadata": {
        "id": "eJiCgRtdPrxI"
      },
      "id": "eJiCgRtdPrxI"
    },
    {
      "cell_type": "markdown",
      "source": [
        "### Data Types:\n",
        "- int\n",
        "- float\n",
        "- str\n",
        "\n",
        "- using print() and type() funtions"
      ],
      "metadata": {
        "id": "5tXdUErSPwoV"
      },
      "id": "5tXdUErSPwoV"
    },
    {
      "cell_type": "code",
      "source": [
        "print(\"mergin\"+\"this\")"
      ],
      "metadata": {
        "id": "WjTpuMpXP5am",
        "outputId": "50cac443-dfb0-4bb2-d8cd-0382182f5d8b",
        "colab": {
          "base_uri": "https://localhost:8080/"
        }
      },
      "id": "WjTpuMpXP5am",
      "execution_count": 18,
      "outputs": [
        {
          "output_type": "stream",
          "name": "stdout",
          "text": [
            "merginthis\n"
          ]
        }
      ]
    },
    {
      "cell_type": "code",
      "source": [
        "print(8+3)"
      ],
      "metadata": {
        "id": "6OQqSWhjP-Jf",
        "outputId": "0d08b6c5-4562-4fc8-a93b-44578269c334",
        "colab": {
          "base_uri": "https://localhost:8080/"
        }
      },
      "id": "6OQqSWhjP-Jf",
      "execution_count": 19,
      "outputs": [
        {
          "output_type": "stream",
          "name": "stdout",
          "text": [
            "11\n"
          ]
        }
      ]
    },
    {
      "cell_type": "code",
      "source": [
        "type(8)\n",
        "type(8.3)\n",
        "type(\"Syrting\")"
      ],
      "metadata": {
        "id": "dcF-8EZiQBZS",
        "outputId": "59a0b4af-eb3a-49ce-b13d-c6edc7cf11b1",
        "colab": {
          "base_uri": "https://localhost:8080/"
        }
      },
      "id": "dcF-8EZiQBZS",
      "execution_count": 24,
      "outputs": [
        {
          "output_type": "execute_result",
          "data": {
            "text/plain": [
              "str"
            ]
          },
          "metadata": {},
          "execution_count": 24
        }
      ]
    },
    {
      "cell_type": "markdown",
      "source": [
        "### Constants and Variables\n",
        "- variables can be redeclared while constants cannot\n",
        "- multiple values to multiple varibales use `,` separated declaration\n",
        "- single values to multiple varaible use `=`"
      ],
      "metadata": {
        "id": "7CrvIKI0QiCI"
      },
      "id": "7CrvIKI0QiCI"
    },
    {
      "cell_type": "code",
      "source": [
        "variable1 = \"toppo\"\n",
        "print(variable1)\n",
        "var1, var2 = \"shubham\", 5\n",
        "print(var1)\n",
        "print(var2)\n",
        "\n",
        "x=y=z = 5\n",
        "print(x)\n",
        "print(y)"
      ],
      "metadata": {
        "id": "6nDb5P50QpHI"
      },
      "id": "6nDb5P50QpHI",
      "execution_count": null,
      "outputs": []
    },
    {
      "cell_type": "markdown",
      "source": [
        "### Input Function and Changing Datatype in Python"
      ],
      "metadata": {
        "id": "nLnStllsRikB"
      },
      "id": "nLnStllsRikB"
    },
    {
      "cell_type": "code",
      "source": [
        "num1 = int(input(\"Enter number1 here :\"))\n",
        "num2 = int(input(\"Enter number2 here :\"))\n",
        "# By defaut input return string -> Convert into int -> int(string)\n",
        "sum= num1+num2\n",
        "print(sum)\n",
        "\n",
        "integer=5\n",
        "type(integer)\n",
        "#Converting to float\n",
        "floatvalue = float(integer)\n",
        "print(floatvalue)"
      ],
      "metadata": {
        "id": "vudlA9aARl9N",
        "outputId": "c82aabf0-fd58-48d3-f7af-e9e8c9da8ec3",
        "colab": {
          "base_uri": "https://localhost:8080/"
        }
      },
      "id": "vudlA9aARl9N",
      "execution_count": 28,
      "outputs": [
        {
          "output_type": "stream",
          "name": "stdout",
          "text": [
            "Enter number1 here :10\n",
            "Enter number2 here :20\n",
            "30\n",
            "5.0\n"
          ]
        }
      ]
    }
  ],
  "metadata": {
    "colab": {
      "provenance": [],
      "toc_visible": true
    },
    "language_info": {
      "name": "python"
    },
    "kernelspec": {
      "name": "python3",
      "display_name": "Python 3"
    }
  },
  "nbformat": 4,
  "nbformat_minor": 5
}