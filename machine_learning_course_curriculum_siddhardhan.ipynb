{
  "cells": [
    {
      "cell_type": "markdown",
      "source": [
        "# Module-2 Python\n",
        "\n"
      ],
      "metadata": {
        "id": "X9tj-NENMzjw"
      },
      "id": "X9tj-NENMzjw"
    },
    {
      "cell_type": "markdown",
      "source": [
        "## System Specification\n",
        "- use `!` command in front to use local terminal type of thing\n",
        "- also whenever you do `!ls` you can see that the file folder (sample_data) which google collab has provided shows meaning all your files are starting from this directory"
      ],
      "metadata": {
        "id": "ri2vDmPLPcND"
      },
      "id": "ri2vDmPLPcND"
    },
    {
      "cell_type": "code",
      "source": [
        "!cat /proc/cpuinfo\n",
        "!cat /proc/meminfo\n",
        "!ls\n",
        "!cd / && pwd && ls"
      ],
      "metadata": {
        "id": "IOPA35kXNHWj"
      },
      "id": "IOPA35kXNHWj",
      "execution_count": null,
      "outputs": []
    },
    {
      "cell_type": "markdown",
      "source": [
        "## Installing Libraries\n",
        "- use !pip install library ex. pip install pandas\n",
        "- import pandas as py and use inside code"
      ],
      "metadata": {
        "id": "mbQnn1keOU5g"
      },
      "id": "mbQnn1keOU5g"
    },
    {
      "cell_type": "markdown",
      "source": [
        "## Python Basics"
      ],
      "metadata": {
        "id": "eJiCgRtdPrxI"
      },
      "id": "eJiCgRtdPrxI"
    },
    {
      "cell_type": "markdown",
      "source": [
        "### Data Types:\n",
        "- int\n",
        "- float\n",
        "- str (Can use \"\" or '' both to declare string)\n",
        "- complex\n",
        "- boolean (True and False)\n",
        "  - Comparator (< > == can use along with boolean)\n",
        "- using print() and type() funtions\n",
        "  - print(\"shubham\"*5) then 5 times print"
      ],
      "metadata": {
        "id": "5tXdUErSPwoV"
      },
      "id": "5tXdUErSPwoV"
    },
    {
      "cell_type": "code",
      "source": [
        "print(\"mergin\"+\"this\")"
      ],
      "metadata": {
        "colab": {
          "base_uri": "https://localhost:8080/"
        },
        "id": "WjTpuMpXP5am",
        "outputId": "50cac443-dfb0-4bb2-d8cd-0382182f5d8b"
      },
      "id": "WjTpuMpXP5am",
      "execution_count": 18,
      "outputs": [
        {
          "output_type": "stream",
          "name": "stdout",
          "text": [
            "merginthis\n"
          ]
        }
      ]
    },
    {
      "cell_type": "code",
      "source": [
        "print(8+3)"
      ],
      "metadata": {
        "colab": {
          "base_uri": "https://localhost:8080/"
        },
        "id": "6OQqSWhjP-Jf",
        "outputId": "0d08b6c5-4562-4fc8-a93b-44578269c334"
      },
      "id": "6OQqSWhjP-Jf",
      "execution_count": 19,
      "outputs": [
        {
          "output_type": "stream",
          "name": "stdout",
          "text": [
            "11\n"
          ]
        }
      ]
    },
    {
      "cell_type": "code",
      "source": [
        "type(8)\n",
        "type(8.3)\n",
        "type(\"Syrting\")"
      ],
      "metadata": {
        "colab": {
          "base_uri": "https://localhost:8080/"
        },
        "id": "dcF-8EZiQBZS",
        "outputId": "389dbe01-10da-419f-e19c-5a500648b7bc"
      },
      "id": "dcF-8EZiQBZS",
      "execution_count": 29,
      "outputs": [
        {
          "output_type": "execute_result",
          "data": {
            "text/plain": [
              "str"
            ]
          },
          "metadata": {},
          "execution_count": 29
        }
      ]
    },
    {
      "cell_type": "code",
      "source": [
        "a= 1+3j\n",
        "print(a)\n",
        "type(a)\n",
        "\n",
        "b=True\n",
        "c=False\n",
        "type(c)\n",
        "\n",
        "d= 7>3\n",
        "print(d)"
      ],
      "metadata": {
        "id": "8MI2TYFdSm19",
        "outputId": "0ee7414e-5af2-46f2-e934-fed2286f3aee",
        "colab": {
          "base_uri": "https://localhost:8080/"
        }
      },
      "id": "8MI2TYFdSm19",
      "execution_count": 33,
      "outputs": [
        {
          "output_type": "stream",
          "name": "stdout",
          "text": [
            "(1+3j)\n",
            "True\n"
          ]
        }
      ]
    },
    {
      "cell_type": "markdown",
      "source": [
        "### Slicing & Steping & Concatenation A String\n",
        "- Index starts with zero in python\n",
        "- Stepping ek step mein string trim karega\n",
        "- styrinA +stringB concatination"
      ],
      "metadata": {
        "id": "7cCtlrn6T63I"
      },
      "id": "7cCtlrn6T63I"
    },
    {
      "cell_type": "code",
      "source": [
        "a= \"shubham\"\n",
        "print(a[1:3]) #starting from 1 to 3 wale\n",
        "print(a[0:5:2]) #2 is the step here"
      ],
      "metadata": {
        "id": "ctdh2QJLUCy-",
        "outputId": "05d4d0f4-a809-4fc9-d976-ef1bcf278598",
        "colab": {
          "base_uri": "https://localhost:8080/"
        }
      },
      "id": "ctdh2QJLUCy-",
      "execution_count": 35,
      "outputs": [
        {
          "output_type": "stream",
          "name": "stdout",
          "text": [
            "hu\n",
            "suh\n"
          ]
        }
      ]
    },
    {
      "cell_type": "markdown",
      "source": [
        "### Constants and Variables\n",
        "- variables can be redeclared while constants cannot\n",
        "- multiple values to multiple varibales use `,` separated declaration\n",
        "- single values to multiple varaible use `=`"
      ],
      "metadata": {
        "id": "7CrvIKI0QiCI"
      },
      "id": "7CrvIKI0QiCI"
    },
    {
      "cell_type": "code",
      "source": [
        "variable1 = \"toppo\"\n",
        "print(variable1)\n",
        "var1, var2 = \"shubham\", 5\n",
        "print(var1)\n",
        "print(var2)\n",
        "\n",
        "x=y=z = 5\n",
        "print(x)\n",
        "print(y)"
      ],
      "metadata": {
        "id": "6nDb5P50QpHI"
      },
      "id": "6nDb5P50QpHI",
      "execution_count": null,
      "outputs": []
    },
    {
      "cell_type": "markdown",
      "source": [
        "### Input Function and Changing Datatype in Python"
      ],
      "metadata": {
        "id": "nLnStllsRikB"
      },
      "id": "nLnStllsRikB"
    },
    {
      "cell_type": "code",
      "source": [
        "num1 = int(input(\"Enter number1 here :\"))\n",
        "num2 = int(input(\"Enter number2 here :\"))\n",
        "# By defaut input return string -> Convert into int -> int(string)\n",
        "sum= num1+num2\n",
        "print(sum)\n",
        "\n",
        "integer=5\n",
        "type(integer)\n",
        "#Converting to float\n",
        "floatvalue = float(integer)\n",
        "print(floatvalue)"
      ],
      "metadata": {
        "colab": {
          "base_uri": "https://localhost:8080/"
        },
        "id": "vudlA9aARl9N",
        "outputId": "c82aabf0-fd58-48d3-f7af-e9e8c9da8ec3"
      },
      "id": "vudlA9aARl9N",
      "execution_count": 28,
      "outputs": [
        {
          "output_type": "stream",
          "name": "stdout",
          "text": [
            "Enter number1 here :10\n",
            "Enter number2 here :20\n",
            "30\n",
            "5.0\n"
          ]
        }
      ]
    },
    {
      "cell_type": "markdown",
      "source": [
        "### Types of objects in Python\n",
        "1) Mutable : Can be changed once created\n",
        "- List, Set, Dictionary\n",
        "  - List allows duplicate values\n",
        "  - List append() to add element\n",
        "  - list[index] to access element Index starts with zero\n",
        "  - len(list) -to get length of list\n",
        "\n",
        "2) Immutable\n",
        "- int, float, str, bool, tuple"
      ],
      "metadata": {
        "id": "FQe7U6x4XXR1"
      },
      "id": "FQe7U6x4XXR1"
    },
    {
      "cell_type": "code",
      "source": [
        "# LIST\n",
        "# Use [brackets] and can have multiple data types\n",
        "my_list=[1,2,\"English\"]\n",
        "print(my_list)\n",
        "type(my_list)\n",
        "\n",
        "# Add Element in list\n",
        "my_list.append(90)\n",
        "print(my_list)\n",
        "\n",
        "#Indexing a list\n",
        "print(my_list[2])\n",
        "\n",
        "#Length\n",
        "print(len(my_list))\n",
        "\n",
        "# Deleting a index\n",
        "del my_list[0]\n",
        "print(my_list)\n",
        "\n",
        "#Empty List\n",
        "new_list=[]\n",
        "new_list.append(400)\n",
        "\n",
        "#Joining two list\n",
        "join_list= my_list+new_list\n",
        "print(join_list)\n"
      ],
      "metadata": {
        "id": "iXierqm8Xnp4"
      },
      "id": "iXierqm8Xnp4",
      "execution_count": null,
      "outputs": []
    },
    {
      "cell_type": "code",
      "source": [
        "# Tuple\n",
        "# Use (brackets) + allows multiple data type\n",
        "tuple1= (1,2,\"String\")\n",
        "print(tuple1)\n",
        "\n",
        "#Convert List to Tuple\n",
        "my_list=[2,3]\n",
        "my_tuple=tuple(my_list)\n",
        "print(my_tuple)"
      ],
      "metadata": {
        "id": "b6Pjh2UeYj35",
        "outputId": "c7282534-d21d-4e73-9ed0-f20d6178e871",
        "colab": {
          "base_uri": "https://localhost:8080/"
        }
      },
      "id": "b6Pjh2UeYj35",
      "execution_count": 44,
      "outputs": [
        {
          "output_type": "stream",
          "name": "stdout",
          "text": [
            "(1, 2, 'String')\n",
            "(2, 3)\n"
          ]
        }
      ]
    }
  ],
  "metadata": {
    "colab": {
      "provenance": [],
      "toc_visible": true
    },
    "language_info": {
      "name": "python"
    },
    "kernelspec": {
      "name": "python3",
      "display_name": "Python 3"
    }
  },
  "nbformat": 4,
  "nbformat_minor": 5
}