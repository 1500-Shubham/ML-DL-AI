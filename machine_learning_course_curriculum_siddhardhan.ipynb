{
  "cells": [
    {
      "cell_type": "markdown",
      "source": [
        "# Module-2 Python\n",
        "\n"
      ],
      "metadata": {
        "id": "X9tj-NENMzjw"
      },
      "id": "X9tj-NENMzjw"
    },
    {
      "cell_type": "markdown",
      "source": [
        "## System Specification\n",
        "- use `!` command in front to use local terminal type of thing\n",
        "- also whenever you do `!ls` you can see that the file folder (sample_data) which google collab has provided shows meaning all your files are starting from this directory"
      ],
      "metadata": {
        "id": "ri2vDmPLPcND"
      },
      "id": "ri2vDmPLPcND"
    },
    {
      "cell_type": "code",
      "source": [
        "!cat /proc/cpuinfo\n",
        "!cat /proc/meminfo\n",
        "!ls\n",
        "!cd / && pwd && ls"
      ],
      "metadata": {
        "id": "IOPA35kXNHWj"
      },
      "id": "IOPA35kXNHWj",
      "execution_count": null,
      "outputs": []
    },
    {
      "cell_type": "markdown",
      "source": [
        "## Installing Libraries\n",
        "- use !pip install library ex. pip install pandas\n",
        "- import pandas as py and use inside code"
      ],
      "metadata": {
        "id": "mbQnn1keOU5g"
      },
      "id": "mbQnn1keOU5g"
    },
    {
      "cell_type": "markdown",
      "source": [
        "## Python Basics"
      ],
      "metadata": {
        "id": "eJiCgRtdPrxI"
      },
      "id": "eJiCgRtdPrxI"
    },
    {
      "cell_type": "markdown",
      "source": [
        "### Data Types:\n",
        "- int\n",
        "- float\n",
        "- str (Can use \"\" or '' both to declare string)\n",
        "- complex\n",
        "- boolean (True and False)\n",
        "  - Comparator (< > == can use along with boolean)\n",
        "- using print() and type() funtions\n",
        "  - print(\"shubham\"*5) then 5 times print"
      ],
      "metadata": {
        "id": "5tXdUErSPwoV"
      },
      "id": "5tXdUErSPwoV"
    },
    {
      "cell_type": "code",
      "source": [
        "print(\"mergin\"+\"this\")"
      ],
      "metadata": {
        "id": "WjTpuMpXP5am"
      },
      "id": "WjTpuMpXP5am",
      "execution_count": null,
      "outputs": []
    },
    {
      "cell_type": "code",
      "source": [
        "print(8+3)"
      ],
      "metadata": {
        "id": "6OQqSWhjP-Jf"
      },
      "id": "6OQqSWhjP-Jf",
      "execution_count": null,
      "outputs": []
    },
    {
      "cell_type": "code",
      "source": [
        "type(8)\n",
        "type(8.3)\n",
        "type(\"Syrting\")"
      ],
      "metadata": {
        "id": "dcF-8EZiQBZS"
      },
      "id": "dcF-8EZiQBZS",
      "execution_count": null,
      "outputs": []
    },
    {
      "cell_type": "code",
      "source": [
        "a= 1+3j\n",
        "print(a)\n",
        "type(a)\n",
        "\n",
        "b=True\n",
        "c=False\n",
        "type(c)\n",
        "\n",
        "d= 7>3\n",
        "print(d)"
      ],
      "metadata": {
        "id": "8MI2TYFdSm19"
      },
      "id": "8MI2TYFdSm19",
      "execution_count": null,
      "outputs": []
    },
    {
      "cell_type": "markdown",
      "source": [
        "### Slicing & Steping & Concatenation A String\n",
        "- Index starts with zero in python\n",
        "- Stepping ek step mein string trim karega\n",
        "- styrinA +stringB concatination"
      ],
      "metadata": {
        "id": "7cCtlrn6T63I"
      },
      "id": "7cCtlrn6T63I"
    },
    {
      "cell_type": "code",
      "source": [
        "a= \"shubham\"\n",
        "print(a[1:3]) #starting from 1 to 3 wale\n",
        "print(a[0:5:2]) #2 is the step here"
      ],
      "metadata": {
        "id": "ctdh2QJLUCy-"
      },
      "id": "ctdh2QJLUCy-",
      "execution_count": null,
      "outputs": []
    },
    {
      "cell_type": "markdown",
      "source": [
        "### Constants and Variables\n",
        "- variables can be redeclared while constants cannot\n",
        "- multiple values to multiple varibales use `,` separated declaration\n",
        "- single values to multiple varaible use `=`"
      ],
      "metadata": {
        "id": "7CrvIKI0QiCI"
      },
      "id": "7CrvIKI0QiCI"
    },
    {
      "cell_type": "code",
      "source": [
        "variable1 = \"toppo\"\n",
        "print(variable1)\n",
        "var1, var2 = \"shubham\", 5\n",
        "print(var1)\n",
        "print(var2)\n",
        "\n",
        "x=y=z = 5\n",
        "print(x)\n",
        "print(y)"
      ],
      "metadata": {
        "id": "6nDb5P50QpHI"
      },
      "id": "6nDb5P50QpHI",
      "execution_count": null,
      "outputs": []
    },
    {
      "cell_type": "markdown",
      "source": [
        "### Input Function and Changing Datatype in Python"
      ],
      "metadata": {
        "id": "nLnStllsRikB"
      },
      "id": "nLnStllsRikB"
    },
    {
      "cell_type": "code",
      "source": [
        "num1 = int(input(\"Enter number1 here :\"))\n",
        "num2 = int(input(\"Enter number2 here :\"))\n",
        "# By defaut input return string -> Convert into int -> int(string)\n",
        "sum= num1+num2\n",
        "print(sum)\n",
        "\n",
        "integer=5\n",
        "type(integer)\n",
        "#Converting to float\n",
        "floatvalue = float(integer)\n",
        "print(floatvalue)"
      ],
      "metadata": {
        "id": "vudlA9aARl9N"
      },
      "id": "vudlA9aARl9N",
      "execution_count": null,
      "outputs": []
    },
    {
      "cell_type": "markdown",
      "source": [
        "### Types of objects in Python\n",
        "1) Mutable : Can be changed once created\n",
        "- List, Set, Dictionary\n",
        "  - List allows duplicate values\n",
        "  - List append() to add element\n",
        "  - list[index] to access element Index starts with zero\n",
        "  - len(list) -to get length of list\n",
        "\n",
        "2) Immutable\n",
        "- int, float, str, bool, tuple"
      ],
      "metadata": {
        "id": "FQe7U6x4XXR1"
      },
      "id": "FQe7U6x4XXR1"
    },
    {
      "cell_type": "code",
      "source": [
        "# LIST -> Changebale\n",
        "# Use [brackets] and can have multiple data types\n",
        "my_list=[1,2,\"English\"]\n",
        "print(my_list)\n",
        "type(my_list)\n",
        "\n",
        "#declaring values i using loop\n",
        "python_list=[i for i in range(10000)]\n",
        "\n",
        "# Add Element in list\n",
        "my_list.append(90)\n",
        "print(my_list)\n",
        "\n",
        "#Indexing a list\n",
        "print(my_list[2])\n",
        "\n",
        "#Length\n",
        "print(len(my_list))\n",
        "\n",
        "# Deleting a index\n",
        "del my_list[0]\n",
        "print(my_list)\n",
        "\n",
        "#Empty List\n",
        "new_list=[]\n",
        "new_list.append(400)\n",
        "\n",
        "#Joining two list\n",
        "join_list= my_list+new_list\n",
        "print(join_list)\n"
      ],
      "metadata": {
        "id": "iXierqm8Xnp4"
      },
      "id": "iXierqm8Xnp4",
      "execution_count": null,
      "outputs": []
    },
    {
      "cell_type": "code",
      "source": [
        "# Tuple -> unchangebable\n",
        "# Use (brackets) + allows multiple data type\n",
        "tuple1= (1,2,\"String\")\n",
        "print(tuple1)\n",
        "\n",
        "#Convert List to Tuple\n",
        "my_list=[2,3]\n",
        "my_tuple=tuple(my_list)\n",
        "print(my_tuple)\n",
        "\n",
        "#Indexing in tuple\n",
        "print(my_tuple[1])\n",
        "\n",
        "#Length\n",
        "print(len(my_tuple))\n",
        "\n",
        "#Immutable can't change\n",
        "# my_tuple.append(5) #Won't work\n",
        "\n"
      ],
      "metadata": {
        "id": "b6Pjh2UeYj35"
      },
      "id": "b6Pjh2UeYj35",
      "execution_count": null,
      "outputs": []
    },
    {
      "cell_type": "code",
      "source": [
        "#Set -> Mutable + Doesn't allow duplicates\n",
        "# Use {bracket} + NoIndex here [index] wont work\n",
        "\n",
        "mySet= {1,2,3,4}\n",
        "print(mySet)\n",
        "print(len(mySet))\n",
        "# print(mySet[1]) #Throw Error\n",
        "\n",
        "#Convert List TO a Set\n",
        "listt=[7,8,9,9,9,9]\n",
        "convert=set(listt)\n",
        "print(convert)"
      ],
      "metadata": {
        "id": "7QJ6xlfoAFrd"
      },
      "id": "7QJ6xlfoAFrd",
      "execution_count": null,
      "outputs": []
    },
    {
      "cell_type": "code",
      "source": [
        "#Dictionary -> Key Value Pair + Duplicate Key not allowed\n",
        "my_dict={\"a\":40,\"b\":\"Value\"}\n",
        "print(my_dict)\n",
        "print(type(my_dict))\n",
        "print(my_dict[\"a\"])\n",
        "\n",
        "my_dict2={\"a\":40,\"b\":\"Value\",\"a\":\"other\"}\n",
        "my_dict2[\"c\"]=\"declaring new value\"\n",
        "\n",
        "#delete key from dictionary\n",
        "del my_dict2[\"b\"]\n",
        "print(my_dict2)\n",
        "my_dict2.get(\"c\")\n",
        "\n",
        "\n",
        "\n",
        "\n"
      ],
      "metadata": {
        "id": "BraKovxCAaQF"
      },
      "id": "BraKovxCAaQF",
      "execution_count": null,
      "outputs": []
    },
    {
      "cell_type": "markdown",
      "source": [
        "### Operators In Python\n",
        "- Maths -> + - / * **(power)\n",
        "- Assignment Operator += -= /= %= **=\n",
        "- Comparision Operator == != <= >=\n",
        "- Logical Operator (and or not)\n",
        "- Identity Operator (is is not) values match\n",
        "- Membership operator (in not in) list match values"
      ],
      "metadata": {
        "id": "wg3NlQBlByYt"
      },
      "id": "wg3NlQBlByYt"
    },
    {
      "cell_type": "code",
      "source": [
        "#Maths\n",
        "num1=5\n",
        "num2=10\n",
        "print(\"sum = \",num1**num2)\n",
        "a=0\n",
        "a+=num1\n",
        "\n",
        "#Assignment Operator\n",
        "print(\"sum = \",a)\n",
        "\n",
        "#Comparision Operator\n",
        "print(num1<=num2)\n",
        "\n",
        "#Logical Operator\n",
        "print(num1 and num2) #This return and operation on number\n",
        "print(num1>10 or num2<20)\n",
        "print(not(num1>10 or num2<20))\n",
        "\n",
        "#Identity Operator\n",
        "a=5\n",
        "b=5\n",
        "print(a is not b)\n",
        "\n",
        "# Membership operator\n",
        "listt=[1,2,3,4,5]\n",
        "print(a not in listt)\n"
      ],
      "metadata": {
        "id": "REHCDK9yCKfK"
      },
      "id": "REHCDK9yCKfK",
      "execution_count": null,
      "outputs": []
    },
    {
      "cell_type": "markdown",
      "source": [
        "### If Else Loops Function"
      ],
      "metadata": {
        "id": "cYCKmvhdE2rj"
      },
      "id": "cYCKmvhdE2rj"
    },
    {
      "cell_type": "code",
      "source": [
        "#If Else Condition\n",
        "a=1\n",
        "b=1\n",
        "if(a<b):\n",
        "  print(\"a is smaller\")\n",
        "elif(a>b):\n",
        "  print(\"b is greater\")\n",
        "else:\n",
        "  if(a<b):\n",
        "    print(\"a is smaller\")\n",
        "  else:\n",
        "    print(\"b is greater\")\n",
        "\n",
        "#Loops\n",
        "numbers=[1,2,3]\n",
        "for i in numbers:\n",
        "  print(i)\n",
        "\n",
        "sum=0\n",
        "for i in range(3):  # i [0,1,2,3) not including 3\n",
        "  sum*=i\n",
        "print(sum)\n",
        "\n",
        "for i in range(3,6):  # i [3,4,5,6) not including 6\n",
        "  sum+=i\n",
        "print(sum)\n",
        "\n",
        "# While Loop\n",
        "i=0\n",
        "while i<3:\n",
        "  print(i)\n",
        "  i+=1\n",
        "\n",
        "#Functions : Reusable block\n",
        "def factorialFunc(num):\n",
        "  factorial=1\n",
        "  for i in range(1,num+1):\n",
        "    factorial*=i\n",
        "  return factorial\n",
        "\n",
        "print(factorialFunc(5))\n"
      ],
      "metadata": {
        "id": "gHJEj353FOcV"
      },
      "id": "gHJEj353FOcV",
      "execution_count": null,
      "outputs": []
    },
    {
      "cell_type": "markdown",
      "source": [
        "#Module-3 Python Libraries\n",
        "- Numpy\n",
        "- Matplotlib\n",
        "- Pandas\n",
        "- Seaborn\n"
      ],
      "metadata": {
        "id": "WBtyzN_5IINI"
      },
      "id": "WBtyzN_5IINI"
    },
    {
      "cell_type": "markdown",
      "source": [
        "## Numpy - Numerical Python\n",
        "- Allows mathematical operations\n",
        "- Faster Operations (large datasets)\n",
        "- np.array are vector actually not separted by commas\n",
        "- a.shape // This is used to get dimension of vector"
      ],
      "metadata": {
        "id": "2W03Gt9YIlBp"
      },
      "id": "2W03Gt9YIlBp"
    },
    {
      "cell_type": "code",
      "source": [
        "import numpy as np\n"
      ],
      "metadata": {
        "id": "9LjE9AiYL4uI"
      },
      "id": "9LjE9AiYL4uI",
      "execution_count": 2,
      "outputs": []
    },
    {
      "cell_type": "markdown",
      "source": [
        "#### LIST VS NUMPY - TIME TAKEN"
      ],
      "metadata": {
        "id": "mqimt5_4MgcF"
      },
      "id": "mqimt5_4MgcF"
    },
    {
      "cell_type": "code",
      "source": [
        "from time import process_time\n",
        "\n",
        "#LIST\n",
        "python_list=[i for i in range(100000)]\n",
        "start_time=process_time()\n",
        "\n",
        "python_list=[i+5 for i in python_list ]\n",
        "end_time=process_time()\n",
        "\n",
        "print(\"Python list time taken\", end_time-start_time)\n",
        "\n",
        "#NUMPY Array declare\n",
        "np_array = np.array([i for i in range(100000)])\n",
        "start_time=process_time()\n",
        "\n",
        "# ADDing 5 to all elements in array\n",
        "# np_array += 5 # easy syntax\n",
        "# np_array = np.array([i+5 for i in np_array])\n",
        "for i in range(len(np_array)):\n",
        "  np_array[i]+=5\n",
        "print(np_array)\n",
        "end_time=process_time()\n",
        "\n",
        "print(\"Python Numpy Array time taken\", end_time-start_time)\n"
      ],
      "metadata": {
        "id": "68SrRY07MkVC"
      },
      "id": "68SrRY07MkVC",
      "execution_count": null,
      "outputs": []
    },
    {
      "cell_type": "markdown",
      "source": [
        "#### Numpy Arrays"
      ],
      "metadata": {
        "id": "jgNn44oAN75t"
      },
      "id": "jgNn44oAN75t"
    },
    {
      "cell_type": "code",
      "source": [
        "# List Create\n",
        "list1=[1,2,3]\n",
        "type(list1)\n",
        "print(list1)\n",
        "\n",
        "#np array create ->\n",
        "np_array = np.array([1,2,3])\n",
        "type(np_array)\n",
        "print(np_array)\n",
        "# Np array are like vector not separarted by commans"
      ],
      "metadata": {
        "id": "XcxuuWYEN9u4",
        "outputId": "26a2fe31-beef-49c1-9aa2-6f761fd3cc33",
        "colab": {
          "base_uri": "https://localhost:8080/"
        }
      },
      "id": "XcxuuWYEN9u4",
      "execution_count": 3,
      "outputs": [
        {
          "output_type": "stream",
          "name": "stdout",
          "text": [
            "[1, 2, 3]\n",
            "[1 2 3]\n"
          ]
        }
      ]
    },
    {
      "cell_type": "code",
      "source": [],
      "metadata": {
        "id": "pPiIlTd8ZQPe"
      },
      "id": "pPiIlTd8ZQPe",
      "execution_count": null,
      "outputs": []
    },
    {
      "cell_type": "code",
      "source": [
        "#Creating 1D array\n",
        "a= np.array([1,2,3])\n",
        "print(type(a))\n",
        "print(a)\n",
        "a.shape\n",
        "\n",
        "#Creating 2D array\n",
        "b= np.array([(1,2,3),(4,5,6)])\n",
        "b.shape #row and column dimension"
      ],
      "metadata": {
        "id": "Ct3vJ4KDYbfO",
        "outputId": "cbfb3767-99fc-41d0-b492-1c7662f4dca1",
        "colab": {
          "base_uri": "https://localhost:8080/"
        }
      },
      "id": "Ct3vJ4KDYbfO",
      "execution_count": 6,
      "outputs": [
        {
          "output_type": "stream",
          "name": "stdout",
          "text": [
            "<class 'numpy.ndarray'>\n",
            "[1 2 3]\n"
          ]
        },
        {
          "output_type": "execute_result",
          "data": {
            "text/plain": [
              "(2, 3)"
            ]
          },
          "metadata": {},
          "execution_count": 6
        }
      ]
    }
  ],
  "metadata": {
    "colab": {
      "provenance": []
    },
    "language_info": {
      "name": "python"
    },
    "kernelspec": {
      "name": "python3",
      "display_name": "Python 3"
    }
  },
  "nbformat": 4,
  "nbformat_minor": 5
}