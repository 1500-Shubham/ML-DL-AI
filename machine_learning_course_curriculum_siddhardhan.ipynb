{
  "cells": [
    {
      "cell_type": "markdown",
      "source": [
        "# Module-2 Python\n",
        "\n"
      ],
      "metadata": {
        "id": "X9tj-NENMzjw"
      },
      "id": "X9tj-NENMzjw"
    },
    {
      "cell_type": "markdown",
      "source": [
        "## System Specification\n",
        "- use `!` command in front to use local terminal type of thing\n",
        "- also whenever you do `!ls` you can see that the file folder (sample_data) which google collab has provided shows meaning all your files are starting from this directory"
      ],
      "metadata": {
        "id": "ri2vDmPLPcND"
      },
      "id": "ri2vDmPLPcND"
    },
    {
      "cell_type": "code",
      "source": [
        "!cat /proc/cpuinfo\n",
        "!cat /proc/meminfo\n",
        "!ls\n",
        "!cd / && pwd && ls"
      ],
      "metadata": {
        "id": "IOPA35kXNHWj"
      },
      "id": "IOPA35kXNHWj",
      "execution_count": null,
      "outputs": []
    },
    {
      "cell_type": "markdown",
      "source": [
        "## Installing Libraries\n",
        "- use !pip install library ex. pip install pandas\n",
        "- import pandas as py and use inside code"
      ],
      "metadata": {
        "id": "mbQnn1keOU5g"
      },
      "id": "mbQnn1keOU5g"
    },
    {
      "cell_type": "markdown",
      "source": [
        "## Python Basics"
      ],
      "metadata": {
        "id": "eJiCgRtdPrxI"
      },
      "id": "eJiCgRtdPrxI"
    },
    {
      "cell_type": "markdown",
      "source": [
        "### Data Types:\n",
        "- int\n",
        "- float\n",
        "- str (Can use \"\" or '' both to declare string)\n",
        "- complex\n",
        "- boolean (True and False)\n",
        "  - Comparator (< > == can use along with boolean)\n",
        "- using print() and type() funtions\n",
        "  - print(\"shubham\"*5) then 5 times print"
      ],
      "metadata": {
        "id": "5tXdUErSPwoV"
      },
      "id": "5tXdUErSPwoV"
    },
    {
      "cell_type": "code",
      "source": [
        "print(\"mergin\"+\"this\")"
      ],
      "metadata": {
        "id": "WjTpuMpXP5am"
      },
      "id": "WjTpuMpXP5am",
      "execution_count": null,
      "outputs": []
    },
    {
      "cell_type": "code",
      "source": [
        "print(8+3)"
      ],
      "metadata": {
        "id": "6OQqSWhjP-Jf"
      },
      "id": "6OQqSWhjP-Jf",
      "execution_count": null,
      "outputs": []
    },
    {
      "cell_type": "code",
      "source": [
        "type(8)\n",
        "type(8.3)\n",
        "type(\"Syrting\")"
      ],
      "metadata": {
        "id": "dcF-8EZiQBZS"
      },
      "id": "dcF-8EZiQBZS",
      "execution_count": null,
      "outputs": []
    },
    {
      "cell_type": "code",
      "source": [
        "a= 1+3j\n",
        "print(a)\n",
        "type(a)\n",
        "\n",
        "b=True\n",
        "c=False\n",
        "type(c)\n",
        "\n",
        "d= 7>3\n",
        "print(d)"
      ],
      "metadata": {
        "id": "8MI2TYFdSm19"
      },
      "id": "8MI2TYFdSm19",
      "execution_count": null,
      "outputs": []
    },
    {
      "cell_type": "markdown",
      "source": [
        "### Slicing & Steping & Concatenation A String\n",
        "- Index starts with zero in python\n",
        "- Stepping ek step mein string trim karega\n",
        "- styrinA +stringB concatination"
      ],
      "metadata": {
        "id": "7cCtlrn6T63I"
      },
      "id": "7cCtlrn6T63I"
    },
    {
      "cell_type": "code",
      "source": [
        "a= \"shubham\"\n",
        "print(a[1:3]) #starting from 1 to 3 wale\n",
        "print(a[0:5:2]) #2 is the step here"
      ],
      "metadata": {
        "id": "ctdh2QJLUCy-"
      },
      "id": "ctdh2QJLUCy-",
      "execution_count": null,
      "outputs": []
    },
    {
      "cell_type": "markdown",
      "source": [
        "### Constants and Variables\n",
        "- variables can be redeclared while constants cannot\n",
        "- multiple values to multiple varibales use `,` separated declaration\n",
        "- single values to multiple varaible use `=`"
      ],
      "metadata": {
        "id": "7CrvIKI0QiCI"
      },
      "id": "7CrvIKI0QiCI"
    },
    {
      "cell_type": "code",
      "source": [
        "variable1 = \"toppo\"\n",
        "print(variable1)\n",
        "var1, var2 = \"shubham\", 5\n",
        "print(var1)\n",
        "print(var2)\n",
        "\n",
        "x=y=z = 5\n",
        "print(x)\n",
        "print(y)"
      ],
      "metadata": {
        "id": "6nDb5P50QpHI"
      },
      "id": "6nDb5P50QpHI",
      "execution_count": null,
      "outputs": []
    },
    {
      "cell_type": "markdown",
      "source": [
        "### Input Function and Changing Datatype in Python"
      ],
      "metadata": {
        "id": "nLnStllsRikB"
      },
      "id": "nLnStllsRikB"
    },
    {
      "cell_type": "code",
      "source": [
        "num1 = int(input(\"Enter number1 here :\"))\n",
        "num2 = int(input(\"Enter number2 here :\"))\n",
        "# By defaut input return string -> Convert into int -> int(string)\n",
        "sum= num1+num2\n",
        "print(sum)\n",
        "\n",
        "integer=5\n",
        "type(integer)\n",
        "#Converting to float\n",
        "floatvalue = float(integer)\n",
        "print(floatvalue)"
      ],
      "metadata": {
        "id": "vudlA9aARl9N"
      },
      "id": "vudlA9aARl9N",
      "execution_count": null,
      "outputs": []
    },
    {
      "cell_type": "markdown",
      "source": [
        "### Types of objects in Python\n",
        "1) Mutable : Can be changed once created\n",
        "- List, Set, Dictionary\n",
        "  - List allows duplicate values\n",
        "  - List append() to add element\n",
        "  - list[index] to access element Index starts with zero\n",
        "  - len(list) -to get length of list\n",
        "\n",
        "2) Immutable\n",
        "- int, float, str, bool, tuple"
      ],
      "metadata": {
        "id": "FQe7U6x4XXR1"
      },
      "id": "FQe7U6x4XXR1"
    },
    {
      "cell_type": "code",
      "source": [
        "# LIST -> Changebale\n",
        "# Use [brackets] and can have multiple data types\n",
        "my_list=[1,2,\"English\"]\n",
        "print(my_list)\n",
        "type(my_list)\n",
        "\n",
        "#declaring values i using loop\n",
        "python_list=[i for i in range(10000)]\n",
        "\n",
        "# Add Element in list\n",
        "my_list.append(90)\n",
        "print(my_list)\n",
        "\n",
        "#Indexing a list\n",
        "print(my_list[2])\n",
        "\n",
        "#Length\n",
        "print(len(my_list))\n",
        "\n",
        "# Deleting a index\n",
        "del my_list[0]\n",
        "print(my_list)\n",
        "\n",
        "#Empty List\n",
        "new_list=[]\n",
        "new_list.append(400)\n",
        "\n",
        "#Joining two list\n",
        "join_list= my_list+new_list\n",
        "print(join_list)\n"
      ],
      "metadata": {
        "id": "iXierqm8Xnp4"
      },
      "id": "iXierqm8Xnp4",
      "execution_count": null,
      "outputs": []
    },
    {
      "cell_type": "code",
      "source": [
        "# Tuple -> unchangebable\n",
        "# Use (brackets) + allows multiple data type\n",
        "tuple1= (1,2,\"String\")\n",
        "print(tuple1)\n",
        "\n",
        "#Convert List to Tuple\n",
        "my_list=[2,3]\n",
        "my_tuple=tuple(my_list)\n",
        "print(my_tuple)\n",
        "\n",
        "#Indexing in tuple\n",
        "print(my_tuple[1])\n",
        "\n",
        "#Length\n",
        "print(len(my_tuple))\n",
        "\n",
        "#Immutable can't change\n",
        "# my_tuple.append(5) #Won't work\n",
        "\n"
      ],
      "metadata": {
        "id": "b6Pjh2UeYj35"
      },
      "id": "b6Pjh2UeYj35",
      "execution_count": null,
      "outputs": []
    },
    {
      "cell_type": "code",
      "source": [
        "#Set -> Mutable + Doesn't allow duplicates\n",
        "# Use {bracket} + NoIndex here [index] wont work\n",
        "\n",
        "mySet= {1,2,3,4}\n",
        "print(mySet)\n",
        "print(len(mySet))\n",
        "# print(mySet[1]) #Throw Error\n",
        "\n",
        "#Convert List TO a Set\n",
        "listt=[7,8,9,9,9,9]\n",
        "convert=set(listt)\n",
        "print(convert)"
      ],
      "metadata": {
        "id": "7QJ6xlfoAFrd"
      },
      "id": "7QJ6xlfoAFrd",
      "execution_count": null,
      "outputs": []
    },
    {
      "cell_type": "code",
      "source": [
        "#Dictionary -> Key Value Pair + Duplicate Key not allowed\n",
        "my_dict={\"a\":40,\"b\":\"Value\"}\n",
        "print(my_dict)\n",
        "print(type(my_dict))\n",
        "print(my_dict[\"a\"])\n",
        "\n",
        "my_dict2={\"a\":40,\"b\":\"Value\",\"a\":\"other\"}\n",
        "my_dict2[\"c\"]=\"declaring new value\"\n",
        "\n",
        "#delete key from dictionary\n",
        "del my_dict2[\"b\"]\n",
        "print(my_dict2)\n",
        "my_dict2.get(\"c\")\n",
        "\n",
        "\n",
        "\n",
        "\n"
      ],
      "metadata": {
        "id": "BraKovxCAaQF"
      },
      "id": "BraKovxCAaQF",
      "execution_count": null,
      "outputs": []
    },
    {
      "cell_type": "markdown",
      "source": [
        "### Operators In Python\n",
        "- Maths -> + - / * **(power)\n",
        "- Assignment Operator += -= /= %= **=\n",
        "- Comparision Operator == != <= >=\n",
        "- Logical Operator (and or not)\n",
        "- Identity Operator (is is not) values match\n",
        "- Membership operator (in not in) list match values"
      ],
      "metadata": {
        "id": "wg3NlQBlByYt"
      },
      "id": "wg3NlQBlByYt"
    },
    {
      "cell_type": "code",
      "source": [
        "#Maths\n",
        "num1=5\n",
        "num2=10\n",
        "print(\"sum = \",num1**num2)\n",
        "a=0\n",
        "a+=num1\n",
        "\n",
        "#Assignment Operator\n",
        "print(\"sum = \",a)\n",
        "\n",
        "#Comparision Operator\n",
        "print(num1<=num2)\n",
        "\n",
        "#Logical Operator\n",
        "print(num1 and num2) #This return and operation on number\n",
        "print(num1>10 or num2<20)\n",
        "print(not(num1>10 or num2<20))\n",
        "\n",
        "#Identity Operator\n",
        "a=5\n",
        "b=5\n",
        "print(a is not b)\n",
        "\n",
        "# Membership operator\n",
        "listt=[1,2,3,4,5]\n",
        "print(a not in listt)\n"
      ],
      "metadata": {
        "id": "REHCDK9yCKfK"
      },
      "id": "REHCDK9yCKfK",
      "execution_count": null,
      "outputs": []
    },
    {
      "cell_type": "markdown",
      "source": [
        "### If Else Loops Function"
      ],
      "metadata": {
        "id": "cYCKmvhdE2rj"
      },
      "id": "cYCKmvhdE2rj"
    },
    {
      "cell_type": "code",
      "source": [
        "#If Else Condition\n",
        "a=1\n",
        "b=1\n",
        "if(a<b):\n",
        "  print(\"a is smaller\")\n",
        "elif(a>b):\n",
        "  print(\"b is greater\")\n",
        "else:\n",
        "  if(a<b):\n",
        "    print(\"a is smaller\")\n",
        "  else:\n",
        "    print(\"b is greater\")\n",
        "\n",
        "#Loops\n",
        "numbers=[1,2,3]\n",
        "for i in numbers:\n",
        "  print(i)\n",
        "\n",
        "sum=0\n",
        "for i in range(3):  # i [0,1,2,3) not including 3\n",
        "  sum*=i\n",
        "print(sum)\n",
        "\n",
        "for i in range(3,6):  # i [3,4,5,6) not including 6\n",
        "  sum+=i\n",
        "print(sum)\n",
        "\n",
        "# While Loop\n",
        "i=0\n",
        "while i<3:\n",
        "  print(i)\n",
        "  i+=1\n",
        "\n",
        "#Functions : Reusable block\n",
        "def factorialFunc(num):\n",
        "  factorial=1\n",
        "  for i in range(1,num+1):\n",
        "    factorial*=i\n",
        "  return factorial\n",
        "\n",
        "print(factorialFunc(5))\n"
      ],
      "metadata": {
        "id": "gHJEj353FOcV"
      },
      "id": "gHJEj353FOcV",
      "execution_count": null,
      "outputs": []
    },
    {
      "cell_type": "markdown",
      "source": [
        "#Module-3 Python Libraries\n",
        "- Numpy\n",
        "- Matplotlib\n",
        "- Pandas\n",
        "- Seaborn\n"
      ],
      "metadata": {
        "id": "WBtyzN_5IINI"
      },
      "id": "WBtyzN_5IINI"
    },
    {
      "cell_type": "markdown",
      "source": [
        "## Numpy - Numerical Python\n",
        "- Allows mathematical operations\n",
        "- Faster Operations (large datasets)\n",
        "- Numpy Arrays\n",
        "  - np.array are vector actually not separted by commas\n",
        "  - a.shape // This is used to get dimension of vector\n",
        "  - Number of Dimension print(c.ndim)\n",
        "  - Size No of elements c.size\n",
        "  - len(c) give no of rows len(c[0]) gives no of column\n",
        "  - c.dtype datatype of array\n",
        "  - np.zeros((4,5)) // Zero array\n",
        "  - np.ones((dimenstion x y)) //1 array\n",
        "  - np.full((4,5),10)\n",
        "  - Identityi Matrix np.eye(2)\n",
        "  - Random Matrix np.random.random((3,4))  && np.random.randint(0,10,(3,4),dtype=int)\n",
        "  - List to nparray np.asarray(list1)\n",
        "  - np.arange(10,30,5) Create evenly spaced array with step\n",
        "  - np.linspace(10,30,9) // total 9 numbers\n",
        "\n",
        "- Mathematical Operation\n",
        "  - +-*/ (actual array addition operation element wise dimension need to be same) , incase of list it simply concatenate\n",
        "  - np.divide(a,b) np.add np.subtract np.multiply // same thing\n",
        "  - Since nparray are vectors actually\n",
        "\n",
        "- Array Manipulation\n",
        "  - Transpose np.transpose OR array.T\n",
        "\n",
        "- Reshaping\n",
        "  - b= a.reshape(6,2) if a.size no of elements =12 then b size should be 12 can be 1,12 or 3,4"
      ],
      "metadata": {
        "id": "2W03Gt9YIlBp"
      },
      "id": "2W03Gt9YIlBp"
    },
    {
      "cell_type": "code",
      "source": [
        "import numpy as np\n"
      ],
      "metadata": {
        "id": "9LjE9AiYL4uI"
      },
      "id": "9LjE9AiYL4uI",
      "execution_count": 14,
      "outputs": []
    },
    {
      "cell_type": "markdown",
      "source": [
        "#### LIST VS NUMPY - TIME TAKEN"
      ],
      "metadata": {
        "id": "mqimt5_4MgcF"
      },
      "id": "mqimt5_4MgcF"
    },
    {
      "cell_type": "code",
      "source": [
        "from time import process_time\n",
        "\n",
        "#LIST\n",
        "python_list=[i for i in range(100000)]\n",
        "start_time=process_time()\n",
        "\n",
        "python_list=[i+5 for i in python_list ]\n",
        "end_time=process_time()\n",
        "\n",
        "print(\"Python list time taken\", end_time-start_time)\n",
        "\n",
        "#NUMPY Array declare\n",
        "np_array = np.array([i for i in range(100000)])\n",
        "start_time=process_time()\n",
        "\n",
        "# ADDing 5 to all elements in array\n",
        "# np_array += 5 # easy syntax\n",
        "# np_array = np.array([i+5 for i in np_array])\n",
        "for i in range(len(np_array)):\n",
        "  np_array[i]+=5\n",
        "print(np_array)\n",
        "end_time=process_time()\n",
        "\n",
        "print(\"Python Numpy Array time taken\", end_time-start_time)\n"
      ],
      "metadata": {
        "id": "68SrRY07MkVC"
      },
      "id": "68SrRY07MkVC",
      "execution_count": null,
      "outputs": []
    },
    {
      "cell_type": "markdown",
      "source": [
        "#### Numpy Arrays"
      ],
      "metadata": {
        "id": "jgNn44oAN75t"
      },
      "id": "jgNn44oAN75t"
    },
    {
      "cell_type": "code",
      "source": [
        "# List Create\n",
        "list1=[1,2,3]\n",
        "type(list1)\n",
        "print(list1)\n",
        "\n",
        "#np array create ->\n",
        "np_array = np.array([1,2,3])\n",
        "type(np_array)\n",
        "print(np_array)\n",
        "# Np array are like vector not separarted by commans"
      ],
      "metadata": {
        "id": "XcxuuWYEN9u4"
      },
      "id": "XcxuuWYEN9u4",
      "execution_count": null,
      "outputs": []
    },
    {
      "cell_type": "code",
      "source": [
        "#Creating 1D array\n",
        "a= np.array([1,2,3])\n",
        "print(type(a))\n",
        "print(a)\n",
        "a.shape\n",
        "\n",
        "#Creating 2D array\n",
        "b= np.array([(1,2,3),(4,5,6)])\n",
        "b.shape #row and column dimension"
      ],
      "metadata": {
        "id": "Ct3vJ4KDYbfO"
      },
      "id": "Ct3vJ4KDYbfO",
      "execution_count": null,
      "outputs": []
    },
    {
      "cell_type": "code",
      "source": [
        "# datatype defining with np array\n",
        "#default integer hote\n",
        "c= np.array([(1,2),(3,4)],dtype=float)\n",
        "print(c)"
      ],
      "metadata": {
        "id": "Q2sP5GlGZbYh"
      },
      "id": "Q2sP5GlGZbYh",
      "execution_count": null,
      "outputs": []
    },
    {
      "cell_type": "code",
      "source": [
        "#Initial Placeholder in numpy arrays\n",
        "# Initial Zeros With Rows and Columns\n",
        "x= np.zeros((4,5))\n",
        "print(x)\n",
        "# Initial Ones With Rows and Columns\n",
        "x= np.ones((4,5))\n",
        "print(x)\n",
        "#Particular Value\n",
        "x= np.full((4,4),10)\n",
        "print(x)"
      ],
      "metadata": {
        "id": "98AEhsX0Zqfq"
      },
      "id": "98AEhsX0Zqfq",
      "execution_count": null,
      "outputs": []
    },
    {
      "cell_type": "code",
      "source": [
        "#Identity Matrix (all diagonal values will be 1 rest 0)\n",
        "# Only n*n hota rows=column\n",
        "a= np.eye(2)\n",
        "print(a)\n",
        "\n",
        "#Random values matrix with dimenssion\n",
        "b= np.random.random((3,4))\n",
        "print(b)\n",
        "\n",
        "#Random matrix integer and within range\n",
        "c= np.random.randint(0,10,(3,4),dtype=int)\n",
        "print(c)\n",
        "\n",
        "#Array with evenly spaced values low high and 9 numbers total\n",
        "d= np.linspace(10,30,9)\n",
        "print(d)\n",
        "\n",
        "#Array with evenly and space -> step jump\n",
        "e= np.arange(10,30,9)\n",
        "print(e)"
      ],
      "metadata": {
        "id": "EPe4dzdtdh8x"
      },
      "id": "EPe4dzdtdh8x",
      "execution_count": null,
      "outputs": []
    },
    {
      "cell_type": "code",
      "source": [
        "#Convert list/tuple to npArray\n",
        "list1=[1,2,3]\n",
        "tupl1=(1,2,3,4)\n",
        "np_array=np.asarray(list1)\n",
        "print(np_array)"
      ],
      "metadata": {
        "colab": {
          "base_uri": "https://localhost:8080/"
        },
        "id": "dfLXWIXkfJql",
        "outputId": "430e3509-8882-4bc5-e7cc-e0290d25a2f5"
      },
      "id": "dfLXWIXkfJql",
      "execution_count": 39,
      "outputs": [
        {
          "output_type": "stream",
          "name": "stdout",
          "text": [
            "['1' '2' '3']\n"
          ]
        }
      ]
    },
    {
      "cell_type": "code",
      "source": [
        "#Analysing a numpy array\n",
        "c= np.random.randint(10,90,(5,6))\n",
        "print(c)\n",
        "\n",
        "#Array Dimension\n",
        "c.shape\n",
        "\n",
        "#Number of Dimension\n",
        "print(c.ndim)\n",
        "\n",
        "#Number of elements in array\n",
        "print(c.size)\n",
        "print(len(c[0])) #column numbers\n",
        "\n",
        "#Datatype\n",
        "print(c.dtype)"
      ],
      "metadata": {
        "id": "1SPgDTu4fhyE"
      },
      "id": "1SPgDTu4fhyE",
      "execution_count": null,
      "outputs": []
    },
    {
      "cell_type": "markdown",
      "source": [
        "#### Mathematical operations on Numpy Array"
      ],
      "metadata": {
        "id": "_nuScc5MgvIH"
      },
      "id": "_nuScc5MgvIH"
    },
    {
      "cell_type": "code",
      "source": [
        "list1= [1,2,3,4,5]\n",
        "list2=[6,7,8,9,10]\n",
        "# List + concatenate list\n",
        "print(list1+list2) #Element wise adding not happening\n",
        "\n",
        "a= np.asarray(list1)\n",
        "b= np.asarray(list2)\n",
        "#Actual addition\n",
        "print(a+b)\n",
        "\n",
        "a= np.random.randint(10,30,(3,4))\n",
        "b= np.random.randint(10,50,(3,4))\n",
        "print(a/b)\n",
        "#OR\n",
        "print(np.divide(a,b))"
      ],
      "metadata": {
        "id": "bemd3WKvg1Qg"
      },
      "id": "bemd3WKvg1Qg",
      "execution_count": null,
      "outputs": []
    },
    {
      "cell_type": "markdown",
      "source": [
        "#### Array Manipulation on npArray"
      ],
      "metadata": {
        "id": "yHA-sNzgiPuc"
      },
      "id": "yHA-sNzgiPuc"
    },
    {
      "cell_type": "code",
      "source": [
        "#Transpose\n",
        "a= np.random.randint(10,30,(3,4))\n",
        "trans = np.transpose(a)\n",
        "#OR\n",
        "trans2= a.T\n",
        "print(a,a.shape)\n",
        "print(trans,trans.shape)\n",
        "print(trans2,trans2.shape)\n"
      ],
      "metadata": {
        "id": "OtQHQ4x1iSfw"
      },
      "id": "OtQHQ4x1iSfw",
      "execution_count": null,
      "outputs": []
    },
    {
      "cell_type": "markdown",
      "source": [
        "#### Reshaping on npArray"
      ],
      "metadata": {
        "id": "CTKaUTMki-6h"
      },
      "id": "CTKaUTMki-6h"
    },
    {
      "cell_type": "code",
      "source": [
        "a= np.random.randint(10,30,(3,4))\n",
        "print(a,a.shape)\n",
        "\n",
        "b= a.reshape(6,2)\n",
        "print(b,b.shape)"
      ],
      "metadata": {
        "id": "sfjLMMGTjEuK"
      },
      "id": "sfjLMMGTjEuK",
      "execution_count": null,
      "outputs": []
    },
    {
      "cell_type": "markdown",
      "source": [
        "## Pandas - Dataframe\n",
        "- Useful for Data Processing and Analysis\n",
        "- Dataframe is 2d tabular data structure with labeled axes(rows and columns) like excel sheet column name\n",
        "- SKLEARN\n",
        "  - from sklearn.datasets(many datas hai to practice) import load_boston (inbuild datasets hai) sklearn.utils._bunch.Bunch type\n",
        "\n",
        "- Dataframe\n",
        "  - pd.DataFrame, .head() .tail() .info() .isnull().sum() each column null values\n",
        "    - value_counts('magnesium')\n",
        "    - groupby('columnName).mean()\n",
        "  - pd.read_csv(Give Path to CSV)\n",
        "  - diabetes_df.shape //Dimension\n",
        "  - pd.read_excel(path)\n",
        "  - df.to_csv(\"filename\") wine_df.to_excel(\"wineCSV.\") Exporting to csv and excel\n",
        "  - pd.DataFrame(random_np) // using numpy array to create dataframe\n",
        "  - Statiscial Measures (Each column)\n",
        "    - df.count() mean() std() .min() .max()\n",
        "    - All Statistical in one go df.describe()\n",
        "  - Manipulating Dataframe\n",
        "    - Add Column df['columnname']=1d array or target from dataset {no of values should be same as other columns}\n",
        "  - Locating particular row and column\n",
        "    - .iloc[index] //row print\n",
        "    - .iloc[:,index] //column print : means all rows values\n",
        "    - .iloc[row,col] //particular value\n",
        "    - .iloc[:,-1] #Last column\n",
        "  -  Correlation\n",
        "    - Positive and Negative\n",
        "    - Relation between various columns\n",
        "    - wine_df.corr() # All columns wrt to other column"
      ],
      "metadata": {
        "id": "gBGwEBnnlSc2"
      },
      "id": "gBGwEBnnlSc2"
    },
    {
      "cell_type": "code",
      "source": [
        "# importing\n",
        "import pandas as pd"
      ],
      "metadata": {
        "id": "iteuwzlBpR-N"
      },
      "id": "iteuwzlBpR-N",
      "execution_count": 1,
      "outputs": []
    },
    {
      "cell_type": "markdown",
      "source": [
        "#### SKLEARN DATASETS\n",
        "- inbuild datasets"
      ],
      "metadata": {
        "id": "qP0mmiBkpjlQ"
      },
      "id": "qP0mmiBkpjlQ"
    },
    {
      "cell_type": "code",
      "source": [
        "# importing the inbuild datasets\n",
        "# Inbuild data hai\n",
        "from sklearn.datasets import load_wine\n",
        "wine_dataset = load_wine()\n",
        "\n",
        "type(wine_dataset) #sklearn.utils._bunch.Bunch\n",
        "# print(wine_dataset)"
      ],
      "metadata": {
        "colab": {
          "base_uri": "https://localhost:8080/",
          "height": 187
        },
        "id": "5czJl9wMpmTY",
        "outputId": "805cbc4f-f6fe-478b-8ef4-da808a7b5461"
      },
      "id": "5czJl9wMpmTY",
      "execution_count": 3,
      "outputs": [
        {
          "output_type": "execute_result",
          "data": {
            "text/plain": [
              "sklearn.utils._bunch.Bunch"
            ],
            "text/html": [
              "<div style=\"max-width:800px; border: 1px solid var(--colab-border-color);\"><style>\n",
              "      pre.function-repr-contents {\n",
              "        overflow-x: auto;\n",
              "        padding: 8px 12px;\n",
              "        max-height: 500px;\n",
              "      }\n",
              "\n",
              "      pre.function-repr-contents.function-repr-contents-collapsed {\n",
              "        cursor: pointer;\n",
              "        max-height: 100px;\n",
              "      }\n",
              "    </style>\n",
              "    <pre style=\"white-space: initial; background:\n",
              "         var(--colab-secondary-surface-color); padding: 8px 12px;\n",
              "         border-bottom: 1px solid var(--colab-border-color);\"><b>sklearn.utils._bunch.Bunch</b><br/>def __init__(**kwargs)</pre><pre class=\"function-repr-contents function-repr-contents-collapsed\" style=\"\"><a class=\"filepath\" style=\"display:none\" href=\"#\">/usr/local/lib/python3.11/dist-packages/sklearn/utils/_bunch.py</a>Container object exposing keys as attributes.\n",
              "\n",
              "Bunch objects are sometimes used as an output for functions and methods.\n",
              "They extend dictionaries by enabling values to be accessed by key,\n",
              "`bunch[&quot;value_key&quot;]`, or by an attribute, `bunch.value_key`.\n",
              "\n",
              "Examples\n",
              "--------\n",
              "&gt;&gt;&gt; from sklearn.utils import Bunch\n",
              "&gt;&gt;&gt; b = Bunch(a=1, b=2)\n",
              "&gt;&gt;&gt; b[&#x27;b&#x27;]\n",
              "2\n",
              "&gt;&gt;&gt; b.b\n",
              "2\n",
              "&gt;&gt;&gt; b.a = 3\n",
              "&gt;&gt;&gt; b[&#x27;a&#x27;]\n",
              "3\n",
              "&gt;&gt;&gt; b.c = 6\n",
              "&gt;&gt;&gt; b[&#x27;c&#x27;]\n",
              "6</pre>\n",
              "      <script>\n",
              "      if (google.colab.kernel.accessAllowed && google.colab.files && google.colab.files.view) {\n",
              "        for (const element of document.querySelectorAll('.filepath')) {\n",
              "          element.style.display = 'block'\n",
              "          element.onclick = (event) => {\n",
              "            event.preventDefault();\n",
              "            event.stopPropagation();\n",
              "            google.colab.files.view(element.textContent, 7);\n",
              "          };\n",
              "        }\n",
              "      }\n",
              "      for (const element of document.querySelectorAll('.function-repr-contents')) {\n",
              "        element.onclick = (event) => {\n",
              "          event.preventDefault();\n",
              "          event.stopPropagation();\n",
              "          element.classList.toggle('function-repr-contents-collapsed');\n",
              "        };\n",
              "      }\n",
              "      </script>\n",
              "      </div>"
            ]
          },
          "metadata": {},
          "execution_count": 3
        }
      ]
    },
    {
      "cell_type": "markdown",
      "source": [],
      "metadata": {
        "id": "pr9Lm-3a--cT"
      },
      "id": "pr9Lm-3a--cT"
    },
    {
      "cell_type": "markdown",
      "source": [
        "#### Creating Pandas Dataframe"
      ],
      "metadata": {
        "id": "Zt4-1-3ysV8x"
      },
      "id": "Zt4-1-3ysV8x"
    },
    {
      "cell_type": "code",
      "source": [
        "wine_df= pd.DataFrame(wine_dataset.data,columns=wine_dataset.feature_names)\n",
        "# print(wine_df)\n",
        "wine_df.head() #Printing 5 rows\n",
        "# type(wine_df)"
      ],
      "metadata": {
        "id": "7SR0iaf3sUN2"
      },
      "id": "7SR0iaf3sUN2",
      "execution_count": null,
      "outputs": []
    },
    {
      "cell_type": "code",
      "source": [
        "# Dimenshion of dataframe\n",
        "wine_df.shape"
      ],
      "metadata": {
        "id": "IqeupR6Et80E"
      },
      "id": "IqeupR6Et80E",
      "execution_count": null,
      "outputs": []
    },
    {
      "cell_type": "markdown",
      "source": [
        "#### Reading CSV File"
      ],
      "metadata": {
        "id": "ms3MqtyCvmVx"
      },
      "id": "ms3MqtyCvmVx"
    },
    {
      "cell_type": "code",
      "source": [
        "#Importing CSV File as a pandas dataframe\n",
        "diabetes_df=pd.read_csv(\"/content/diabetes.csv\")\n",
        "diabetes_df.head()\n",
        "# type(diabetes_df) #pandas.core.frame.DataFrame\n",
        "# diabetes_df.shape"
      ],
      "metadata": {
        "id": "gXmex6Sct-2w"
      },
      "id": "gXmex6Sct-2w",
      "execution_count": null,
      "outputs": []
    },
    {
      "cell_type": "markdown",
      "source": [
        "#### Exporting Dataframe to CSV/EXCEL File"
      ],
      "metadata": {
        "id": "j3ou8JLSvpz7"
      },
      "id": "j3ou8JLSvpz7"
    },
    {
      "cell_type": "code",
      "source": [
        "wine_df.to_csv(\"wineCSV\")\n",
        "# wine_df.to_excel(\"wineCSV.\")"
      ],
      "metadata": {
        "id": "_b-fnXjJvoVU"
      },
      "id": "_b-fnXjJvoVU",
      "execution_count": 11,
      "outputs": []
    },
    {
      "cell_type": "markdown",
      "source": [
        "###### Dataframe with randomNumbers"
      ],
      "metadata": {
        "id": "avz4AU8iA9-y"
      },
      "id": "avz4AU8iA9-y"
    },
    {
      "cell_type": "code",
      "source": [
        "import numpy as np\n",
        "import pandas as pd\n",
        "\n",
        "random_np=np.random.rand(20,10)\n",
        "random_np= np.random.randint(0,10,(3,4),dtype=int)\n",
        "random_df = pd.DataFrame(random_np)\n",
        "random_df.head()"
      ],
      "metadata": {
        "id": "OV95AdspBD8T"
      },
      "id": "OV95AdspBD8T",
      "execution_count": null,
      "outputs": []
    },
    {
      "cell_type": "markdown",
      "source": [
        "#### Inspecting A Dataframe"
      ],
      "metadata": {
        "id": "_D5PMMEuBDYF"
      },
      "id": "_D5PMMEuBDYF"
    },
    {
      "cell_type": "code",
      "source": [
        "# Finding rows and columns\n",
        "wine_df.shape\n",
        "\n",
        "#First 5 rows in a Dataframe\n",
        "wine_df.head()\n",
        "\n",
        "#Last 5 rows in a Dataframe\n",
        "wine_df.tail()\n",
        "\n",
        "#Information about the Dataframe\n",
        "wine_df.info()"
      ],
      "metadata": {
        "id": "9Ba3Zha9B3li"
      },
      "id": "9Ba3Zha9B3li",
      "execution_count": null,
      "outputs": []
    },
    {
      "cell_type": "code",
      "source": [
        "# Finding the number of missing values in each column\n",
        "wine_df.isnull().sum()"
      ],
      "metadata": {
        "id": "wJMOMvX-Cc84"
      },
      "id": "wJMOMvX-Cc84",
      "execution_count": null,
      "outputs": []
    },
    {
      "cell_type": "code",
      "source": [
        "#Counting the values based on a column\n",
        "wine_df.head()\n",
        "\n",
        "\n",
        "wine_df.value_counts('magnesium')"
      ],
      "metadata": {
        "id": "GxCMLoR3Cv0_"
      },
      "id": "GxCMLoR3Cv0_",
      "execution_count": null,
      "outputs": []
    },
    {
      "cell_type": "code",
      "source": [
        "#Group values based on mean\n",
        "wine_df.groupby('magnesium').mean()"
      ],
      "metadata": {
        "id": "lOvS3gqpDW6p"
      },
      "id": "lOvS3gqpDW6p",
      "execution_count": null,
      "outputs": []
    },
    {
      "cell_type": "markdown",
      "source": [
        "#### Statiscial Measures"
      ],
      "metadata": {
        "id": "GwYy84L7DnmA"
      },
      "id": "GwYy84L7DnmA"
    },
    {
      "cell_type": "code",
      "source": [
        "wine_df.count()\n",
        "wine_df.mean()\n",
        "wine_df.std()\n",
        "wine_df.min()\n",
        "wine_df.describe() #All in one statiscaly data"
      ],
      "metadata": {
        "id": "UMq1YcWVDqML"
      },
      "id": "UMq1YcWVDqML",
      "execution_count": null,
      "outputs": []
    },
    {
      "cell_type": "markdown",
      "source": [
        "#### Manipulating a Dataframe\n",
        "- add, drop column and row\n",
        "- wine_df.drop(index=0,axis=0) row remove based on index AXIS=0\n",
        "- COLUMN wine_df.drop(columns='RandomAttach',axis=1)remove axis=1\n"
      ],
      "metadata": {
        "id": "ObdXB2GkEbro"
      },
      "id": "ObdXB2GkEbro"
    },
    {
      "cell_type": "code",
      "source": [
        "from sklearn.datasets import load_wine\n",
        "wine_dataset = load_wine()\n",
        "# print(wine_dataset)\n",
        "wine_df= pd.DataFrame(wine_dataset.data,columns=wine_dataset.feature_names)\n",
        "wine_df.head()\n",
        "\n",
        "# Adding a column in dataframe\n",
        "# wine_dataset has target column till now wine_df uses only feature_name\n",
        "wine_df['Outcome']=wine_dataset.target\n",
        "wine_df.tail()\n",
        "\n",
        "#number of columns length should be same\n",
        "# wine_df.shape (178, 14)\n",
        "temp_np= np.random.randint(10,30,(178,1))\n",
        "# print(temp_np)\n",
        "wine_df['RandomAttach']=temp_np\n",
        "wine_df.tail()"
      ],
      "metadata": {
        "id": "rfjdt8jvEgSr"
      },
      "id": "rfjdt8jvEgSr",
      "execution_count": null,
      "outputs": []
    },
    {
      "cell_type": "code",
      "source": [
        "# Removing a row\n",
        "wine_df.head()\n",
        "# wine_df.shape\n",
        "wine_df.drop(index=2,axis=0)\n",
        "# wine_df.head()\n",
        "wine_df.drop(columns='RandomAttach',axis=1)"
      ],
      "metadata": {
        "id": "Uns3u6gFGbH6"
      },
      "id": "Uns3u6gFGbH6",
      "execution_count": null,
      "outputs": []
    },
    {
      "cell_type": "markdown",
      "source": [
        "#### Locating a row/column based on index\n"
      ],
      "metadata": {
        "id": "uNrLVFAyHoXr"
      },
      "id": "uNrLVFAyHoXr"
    },
    {
      "cell_type": "code",
      "source": [
        "wine_df_afterRemovingColumn=wine_df.drop(columns='RandomAttach',axis=1)\n",
        "wine_df_afterRemovingColumn.iloc[2]"
      ],
      "metadata": {
        "id": "rYRRc7J6Htco"
      },
      "id": "rYRRc7J6Htco",
      "execution_count": null,
      "outputs": []
    },
    {
      "cell_type": "code",
      "source": [
        "wine_df_afterRemovingColumn.iloc[:,0] #First column\n",
        "wine_df_afterRemovingColumn.iloc[3,0]\n",
        "wine_df_afterRemovingColumn.iloc[:,-1] #Last column"
      ],
      "metadata": {
        "id": "bJ4SLvzxILG2"
      },
      "id": "bJ4SLvzxILG2",
      "execution_count": null,
      "outputs": []
    },
    {
      "cell_type": "markdown",
      "source": [
        "#### Correlation\n",
        "- Positive and Negative\n",
        "- Relation between various columns"
      ],
      "metadata": {
        "id": "2FWxSE8WNoXI"
      },
      "id": "2FWxSE8WNoXI"
    },
    {
      "cell_type": "code",
      "source": [
        "wine_df.head()\n",
        "wine_df.corr() # All columns wrt to other column\n"
      ],
      "metadata": {
        "colab": {
          "base_uri": "https://localhost:8080/",
          "height": 540
        },
        "collapsed": true,
        "id": "mJo3wXiSNxzU",
        "outputId": "8b46937f-e7e5-4f6f-e252-8f6f7b46174a"
      },
      "id": "mJo3wXiSNxzU",
      "execution_count": 67,
      "outputs": [
        {
          "output_type": "execute_result",
          "data": {
            "text/plain": [
              "                               alcohol  malic_acid       ash  \\\n",
              "alcohol                       1.000000    0.094397  0.211545   \n",
              "malic_acid                    0.094397    1.000000  0.164045   \n",
              "ash                           0.211545    0.164045  1.000000   \n",
              "alcalinity_of_ash            -0.310235    0.288500  0.443367   \n",
              "magnesium                     0.270798   -0.054575  0.286587   \n",
              "total_phenols                 0.289101   -0.335167  0.128980   \n",
              "flavanoids                    0.236815   -0.411007  0.115077   \n",
              "nonflavanoid_phenols         -0.155929    0.292977  0.186230   \n",
              "proanthocyanins               0.136698   -0.220746  0.009652   \n",
              "color_intensity               0.546364    0.248985  0.258887   \n",
              "hue                          -0.071747   -0.561296 -0.074667   \n",
              "od280/od315_of_diluted_wines  0.072343   -0.368710  0.003911   \n",
              "proline                       0.643720   -0.192011  0.223626   \n",
              "Outcome                      -0.328222    0.437776 -0.049643   \n",
              "RandomAttach                 -0.103945   -0.063697  0.118525   \n",
              "\n",
              "                              alcalinity_of_ash  magnesium  total_phenols  \\\n",
              "alcohol                               -0.310235   0.270798       0.289101   \n",
              "malic_acid                             0.288500  -0.054575      -0.335167   \n",
              "ash                                    0.443367   0.286587       0.128980   \n",
              "alcalinity_of_ash                      1.000000  -0.083333      -0.321113   \n",
              "magnesium                             -0.083333   1.000000       0.214401   \n",
              "total_phenols                         -0.321113   0.214401       1.000000   \n",
              "flavanoids                            -0.351370   0.195784       0.864564   \n",
              "nonflavanoid_phenols                   0.361922  -0.256294      -0.449935   \n",
              "proanthocyanins                       -0.197327   0.236441       0.612413   \n",
              "color_intensity                        0.018732   0.199950      -0.055136   \n",
              "hue                                   -0.273955   0.055398       0.433681   \n",
              "od280/od315_of_diluted_wines          -0.276769   0.066004       0.699949   \n",
              "proline                               -0.440597   0.393351       0.498115   \n",
              "Outcome                                0.517859  -0.209179      -0.719163   \n",
              "RandomAttach                           0.054124   0.037845      -0.114717   \n",
              "\n",
              "                              flavanoids  nonflavanoid_phenols  \\\n",
              "alcohol                         0.236815             -0.155929   \n",
              "malic_acid                     -0.411007              0.292977   \n",
              "ash                             0.115077              0.186230   \n",
              "alcalinity_of_ash              -0.351370              0.361922   \n",
              "magnesium                       0.195784             -0.256294   \n",
              "total_phenols                   0.864564             -0.449935   \n",
              "flavanoids                      1.000000             -0.537900   \n",
              "nonflavanoid_phenols           -0.537900              1.000000   \n",
              "proanthocyanins                 0.652692             -0.365845   \n",
              "color_intensity                -0.172379              0.139057   \n",
              "hue                             0.543479             -0.262640   \n",
              "od280/od315_of_diluted_wines    0.787194             -0.503270   \n",
              "proline                         0.494193             -0.311385   \n",
              "Outcome                        -0.847498              0.489109   \n",
              "RandomAttach                   -0.105325              0.078456   \n",
              "\n",
              "                              proanthocyanins  color_intensity       hue  \\\n",
              "alcohol                              0.136698         0.546364 -0.071747   \n",
              "malic_acid                          -0.220746         0.248985 -0.561296   \n",
              "ash                                  0.009652         0.258887 -0.074667   \n",
              "alcalinity_of_ash                   -0.197327         0.018732 -0.273955   \n",
              "magnesium                            0.236441         0.199950  0.055398   \n",
              "total_phenols                        0.612413        -0.055136  0.433681   \n",
              "flavanoids                           0.652692        -0.172379  0.543479   \n",
              "nonflavanoid_phenols                -0.365845         0.139057 -0.262640   \n",
              "proanthocyanins                      1.000000        -0.025250  0.295544   \n",
              "color_intensity                     -0.025250         1.000000 -0.521813   \n",
              "hue                                  0.295544        -0.521813  1.000000   \n",
              "od280/od315_of_diluted_wines         0.519067        -0.428815  0.565468   \n",
              "proline                              0.330417         0.316100  0.236183   \n",
              "Outcome                             -0.499130         0.265668 -0.617369   \n",
              "RandomAttach                        -0.106832        -0.076348 -0.000966   \n",
              "\n",
              "                              od280/od315_of_diluted_wines   proline  \\\n",
              "alcohol                                           0.072343  0.643720   \n",
              "malic_acid                                       -0.368710 -0.192011   \n",
              "ash                                               0.003911  0.223626   \n",
              "alcalinity_of_ash                                -0.276769 -0.440597   \n",
              "magnesium                                         0.066004  0.393351   \n",
              "total_phenols                                     0.699949  0.498115   \n",
              "flavanoids                                        0.787194  0.494193   \n",
              "nonflavanoid_phenols                             -0.503270 -0.311385   \n",
              "proanthocyanins                                   0.519067  0.330417   \n",
              "color_intensity                                  -0.428815  0.316100   \n",
              "hue                                               0.565468  0.236183   \n",
              "od280/od315_of_diluted_wines                      1.000000  0.312761   \n",
              "proline                                           0.312761  1.000000   \n",
              "Outcome                                          -0.788230 -0.633717   \n",
              "RandomAttach                                     -0.001629 -0.009513   \n",
              "\n",
              "                               Outcome  RandomAttach  \n",
              "alcohol                      -0.328222     -0.103945  \n",
              "malic_acid                    0.437776     -0.063697  \n",
              "ash                          -0.049643      0.118525  \n",
              "alcalinity_of_ash             0.517859      0.054124  \n",
              "magnesium                    -0.209179      0.037845  \n",
              "total_phenols                -0.719163     -0.114717  \n",
              "flavanoids                   -0.847498     -0.105325  \n",
              "nonflavanoid_phenols          0.489109      0.078456  \n",
              "proanthocyanins              -0.499130     -0.106832  \n",
              "color_intensity               0.265668     -0.076348  \n",
              "hue                          -0.617369     -0.000966  \n",
              "od280/od315_of_diluted_wines -0.788230     -0.001629  \n",
              "proline                      -0.633717     -0.009513  \n",
              "Outcome                       1.000000      0.058504  \n",
              "RandomAttach                  0.058504      1.000000  "
            ],
            "text/html": [
              "\n",
              "  <div id=\"df-e510a478-3896-47ad-98fa-55f0bd2ecbba\" class=\"colab-df-container\">\n",
              "    <div>\n",
              "<style scoped>\n",
              "    .dataframe tbody tr th:only-of-type {\n",
              "        vertical-align: middle;\n",
              "    }\n",
              "\n",
              "    .dataframe tbody tr th {\n",
              "        vertical-align: top;\n",
              "    }\n",
              "\n",
              "    .dataframe thead th {\n",
              "        text-align: right;\n",
              "    }\n",
              "</style>\n",
              "<table border=\"1\" class=\"dataframe\">\n",
              "  <thead>\n",
              "    <tr style=\"text-align: right;\">\n",
              "      <th></th>\n",
              "      <th>alcohol</th>\n",
              "      <th>malic_acid</th>\n",
              "      <th>ash</th>\n",
              "      <th>alcalinity_of_ash</th>\n",
              "      <th>magnesium</th>\n",
              "      <th>total_phenols</th>\n",
              "      <th>flavanoids</th>\n",
              "      <th>nonflavanoid_phenols</th>\n",
              "      <th>proanthocyanins</th>\n",
              "      <th>color_intensity</th>\n",
              "      <th>hue</th>\n",
              "      <th>od280/od315_of_diluted_wines</th>\n",
              "      <th>proline</th>\n",
              "      <th>Outcome</th>\n",
              "      <th>RandomAttach</th>\n",
              "    </tr>\n",
              "  </thead>\n",
              "  <tbody>\n",
              "    <tr>\n",
              "      <th>alcohol</th>\n",
              "      <td>1.000000</td>\n",
              "      <td>0.094397</td>\n",
              "      <td>0.211545</td>\n",
              "      <td>-0.310235</td>\n",
              "      <td>0.270798</td>\n",
              "      <td>0.289101</td>\n",
              "      <td>0.236815</td>\n",
              "      <td>-0.155929</td>\n",
              "      <td>0.136698</td>\n",
              "      <td>0.546364</td>\n",
              "      <td>-0.071747</td>\n",
              "      <td>0.072343</td>\n",
              "      <td>0.643720</td>\n",
              "      <td>-0.328222</td>\n",
              "      <td>-0.103945</td>\n",
              "    </tr>\n",
              "    <tr>\n",
              "      <th>malic_acid</th>\n",
              "      <td>0.094397</td>\n",
              "      <td>1.000000</td>\n",
              "      <td>0.164045</td>\n",
              "      <td>0.288500</td>\n",
              "      <td>-0.054575</td>\n",
              "      <td>-0.335167</td>\n",
              "      <td>-0.411007</td>\n",
              "      <td>0.292977</td>\n",
              "      <td>-0.220746</td>\n",
              "      <td>0.248985</td>\n",
              "      <td>-0.561296</td>\n",
              "      <td>-0.368710</td>\n",
              "      <td>-0.192011</td>\n",
              "      <td>0.437776</td>\n",
              "      <td>-0.063697</td>\n",
              "    </tr>\n",
              "    <tr>\n",
              "      <th>ash</th>\n",
              "      <td>0.211545</td>\n",
              "      <td>0.164045</td>\n",
              "      <td>1.000000</td>\n",
              "      <td>0.443367</td>\n",
              "      <td>0.286587</td>\n",
              "      <td>0.128980</td>\n",
              "      <td>0.115077</td>\n",
              "      <td>0.186230</td>\n",
              "      <td>0.009652</td>\n",
              "      <td>0.258887</td>\n",
              "      <td>-0.074667</td>\n",
              "      <td>0.003911</td>\n",
              "      <td>0.223626</td>\n",
              "      <td>-0.049643</td>\n",
              "      <td>0.118525</td>\n",
              "    </tr>\n",
              "    <tr>\n",
              "      <th>alcalinity_of_ash</th>\n",
              "      <td>-0.310235</td>\n",
              "      <td>0.288500</td>\n",
              "      <td>0.443367</td>\n",
              "      <td>1.000000</td>\n",
              "      <td>-0.083333</td>\n",
              "      <td>-0.321113</td>\n",
              "      <td>-0.351370</td>\n",
              "      <td>0.361922</td>\n",
              "      <td>-0.197327</td>\n",
              "      <td>0.018732</td>\n",
              "      <td>-0.273955</td>\n",
              "      <td>-0.276769</td>\n",
              "      <td>-0.440597</td>\n",
              "      <td>0.517859</td>\n",
              "      <td>0.054124</td>\n",
              "    </tr>\n",
              "    <tr>\n",
              "      <th>magnesium</th>\n",
              "      <td>0.270798</td>\n",
              "      <td>-0.054575</td>\n",
              "      <td>0.286587</td>\n",
              "      <td>-0.083333</td>\n",
              "      <td>1.000000</td>\n",
              "      <td>0.214401</td>\n",
              "      <td>0.195784</td>\n",
              "      <td>-0.256294</td>\n",
              "      <td>0.236441</td>\n",
              "      <td>0.199950</td>\n",
              "      <td>0.055398</td>\n",
              "      <td>0.066004</td>\n",
              "      <td>0.393351</td>\n",
              "      <td>-0.209179</td>\n",
              "      <td>0.037845</td>\n",
              "    </tr>\n",
              "    <tr>\n",
              "      <th>total_phenols</th>\n",
              "      <td>0.289101</td>\n",
              "      <td>-0.335167</td>\n",
              "      <td>0.128980</td>\n",
              "      <td>-0.321113</td>\n",
              "      <td>0.214401</td>\n",
              "      <td>1.000000</td>\n",
              "      <td>0.864564</td>\n",
              "      <td>-0.449935</td>\n",
              "      <td>0.612413</td>\n",
              "      <td>-0.055136</td>\n",
              "      <td>0.433681</td>\n",
              "      <td>0.699949</td>\n",
              "      <td>0.498115</td>\n",
              "      <td>-0.719163</td>\n",
              "      <td>-0.114717</td>\n",
              "    </tr>\n",
              "    <tr>\n",
              "      <th>flavanoids</th>\n",
              "      <td>0.236815</td>\n",
              "      <td>-0.411007</td>\n",
              "      <td>0.115077</td>\n",
              "      <td>-0.351370</td>\n",
              "      <td>0.195784</td>\n",
              "      <td>0.864564</td>\n",
              "      <td>1.000000</td>\n",
              "      <td>-0.537900</td>\n",
              "      <td>0.652692</td>\n",
              "      <td>-0.172379</td>\n",
              "      <td>0.543479</td>\n",
              "      <td>0.787194</td>\n",
              "      <td>0.494193</td>\n",
              "      <td>-0.847498</td>\n",
              "      <td>-0.105325</td>\n",
              "    </tr>\n",
              "    <tr>\n",
              "      <th>nonflavanoid_phenols</th>\n",
              "      <td>-0.155929</td>\n",
              "      <td>0.292977</td>\n",
              "      <td>0.186230</td>\n",
              "      <td>0.361922</td>\n",
              "      <td>-0.256294</td>\n",
              "      <td>-0.449935</td>\n",
              "      <td>-0.537900</td>\n",
              "      <td>1.000000</td>\n",
              "      <td>-0.365845</td>\n",
              "      <td>0.139057</td>\n",
              "      <td>-0.262640</td>\n",
              "      <td>-0.503270</td>\n",
              "      <td>-0.311385</td>\n",
              "      <td>0.489109</td>\n",
              "      <td>0.078456</td>\n",
              "    </tr>\n",
              "    <tr>\n",
              "      <th>proanthocyanins</th>\n",
              "      <td>0.136698</td>\n",
              "      <td>-0.220746</td>\n",
              "      <td>0.009652</td>\n",
              "      <td>-0.197327</td>\n",
              "      <td>0.236441</td>\n",
              "      <td>0.612413</td>\n",
              "      <td>0.652692</td>\n",
              "      <td>-0.365845</td>\n",
              "      <td>1.000000</td>\n",
              "      <td>-0.025250</td>\n",
              "      <td>0.295544</td>\n",
              "      <td>0.519067</td>\n",
              "      <td>0.330417</td>\n",
              "      <td>-0.499130</td>\n",
              "      <td>-0.106832</td>\n",
              "    </tr>\n",
              "    <tr>\n",
              "      <th>color_intensity</th>\n",
              "      <td>0.546364</td>\n",
              "      <td>0.248985</td>\n",
              "      <td>0.258887</td>\n",
              "      <td>0.018732</td>\n",
              "      <td>0.199950</td>\n",
              "      <td>-0.055136</td>\n",
              "      <td>-0.172379</td>\n",
              "      <td>0.139057</td>\n",
              "      <td>-0.025250</td>\n",
              "      <td>1.000000</td>\n",
              "      <td>-0.521813</td>\n",
              "      <td>-0.428815</td>\n",
              "      <td>0.316100</td>\n",
              "      <td>0.265668</td>\n",
              "      <td>-0.076348</td>\n",
              "    </tr>\n",
              "    <tr>\n",
              "      <th>hue</th>\n",
              "      <td>-0.071747</td>\n",
              "      <td>-0.561296</td>\n",
              "      <td>-0.074667</td>\n",
              "      <td>-0.273955</td>\n",
              "      <td>0.055398</td>\n",
              "      <td>0.433681</td>\n",
              "      <td>0.543479</td>\n",
              "      <td>-0.262640</td>\n",
              "      <td>0.295544</td>\n",
              "      <td>-0.521813</td>\n",
              "      <td>1.000000</td>\n",
              "      <td>0.565468</td>\n",
              "      <td>0.236183</td>\n",
              "      <td>-0.617369</td>\n",
              "      <td>-0.000966</td>\n",
              "    </tr>\n",
              "    <tr>\n",
              "      <th>od280/od315_of_diluted_wines</th>\n",
              "      <td>0.072343</td>\n",
              "      <td>-0.368710</td>\n",
              "      <td>0.003911</td>\n",
              "      <td>-0.276769</td>\n",
              "      <td>0.066004</td>\n",
              "      <td>0.699949</td>\n",
              "      <td>0.787194</td>\n",
              "      <td>-0.503270</td>\n",
              "      <td>0.519067</td>\n",
              "      <td>-0.428815</td>\n",
              "      <td>0.565468</td>\n",
              "      <td>1.000000</td>\n",
              "      <td>0.312761</td>\n",
              "      <td>-0.788230</td>\n",
              "      <td>-0.001629</td>\n",
              "    </tr>\n",
              "    <tr>\n",
              "      <th>proline</th>\n",
              "      <td>0.643720</td>\n",
              "      <td>-0.192011</td>\n",
              "      <td>0.223626</td>\n",
              "      <td>-0.440597</td>\n",
              "      <td>0.393351</td>\n",
              "      <td>0.498115</td>\n",
              "      <td>0.494193</td>\n",
              "      <td>-0.311385</td>\n",
              "      <td>0.330417</td>\n",
              "      <td>0.316100</td>\n",
              "      <td>0.236183</td>\n",
              "      <td>0.312761</td>\n",
              "      <td>1.000000</td>\n",
              "      <td>-0.633717</td>\n",
              "      <td>-0.009513</td>\n",
              "    </tr>\n",
              "    <tr>\n",
              "      <th>Outcome</th>\n",
              "      <td>-0.328222</td>\n",
              "      <td>0.437776</td>\n",
              "      <td>-0.049643</td>\n",
              "      <td>0.517859</td>\n",
              "      <td>-0.209179</td>\n",
              "      <td>-0.719163</td>\n",
              "      <td>-0.847498</td>\n",
              "      <td>0.489109</td>\n",
              "      <td>-0.499130</td>\n",
              "      <td>0.265668</td>\n",
              "      <td>-0.617369</td>\n",
              "      <td>-0.788230</td>\n",
              "      <td>-0.633717</td>\n",
              "      <td>1.000000</td>\n",
              "      <td>0.058504</td>\n",
              "    </tr>\n",
              "    <tr>\n",
              "      <th>RandomAttach</th>\n",
              "      <td>-0.103945</td>\n",
              "      <td>-0.063697</td>\n",
              "      <td>0.118525</td>\n",
              "      <td>0.054124</td>\n",
              "      <td>0.037845</td>\n",
              "      <td>-0.114717</td>\n",
              "      <td>-0.105325</td>\n",
              "      <td>0.078456</td>\n",
              "      <td>-0.106832</td>\n",
              "      <td>-0.076348</td>\n",
              "      <td>-0.000966</td>\n",
              "      <td>-0.001629</td>\n",
              "      <td>-0.009513</td>\n",
              "      <td>0.058504</td>\n",
              "      <td>1.000000</td>\n",
              "    </tr>\n",
              "  </tbody>\n",
              "</table>\n",
              "</div>\n",
              "    <div class=\"colab-df-buttons\">\n",
              "\n",
              "  <div class=\"colab-df-container\">\n",
              "    <button class=\"colab-df-convert\" onclick=\"convertToInteractive('df-e510a478-3896-47ad-98fa-55f0bd2ecbba')\"\n",
              "            title=\"Convert this dataframe to an interactive table.\"\n",
              "            style=\"display:none;\">\n",
              "\n",
              "  <svg xmlns=\"http://www.w3.org/2000/svg\" height=\"24px\" viewBox=\"0 -960 960 960\">\n",
              "    <path d=\"M120-120v-720h720v720H120Zm60-500h600v-160H180v160Zm220 220h160v-160H400v160Zm0 220h160v-160H400v160ZM180-400h160v-160H180v160Zm440 0h160v-160H620v160ZM180-180h160v-160H180v160Zm440 0h160v-160H620v160Z\"/>\n",
              "  </svg>\n",
              "    </button>\n",
              "\n",
              "  <style>\n",
              "    .colab-df-container {\n",
              "      display:flex;\n",
              "      gap: 12px;\n",
              "    }\n",
              "\n",
              "    .colab-df-convert {\n",
              "      background-color: #E8F0FE;\n",
              "      border: none;\n",
              "      border-radius: 50%;\n",
              "      cursor: pointer;\n",
              "      display: none;\n",
              "      fill: #1967D2;\n",
              "      height: 32px;\n",
              "      padding: 0 0 0 0;\n",
              "      width: 32px;\n",
              "    }\n",
              "\n",
              "    .colab-df-convert:hover {\n",
              "      background-color: #E2EBFA;\n",
              "      box-shadow: 0px 1px 2px rgba(60, 64, 67, 0.3), 0px 1px 3px 1px rgba(60, 64, 67, 0.15);\n",
              "      fill: #174EA6;\n",
              "    }\n",
              "\n",
              "    .colab-df-buttons div {\n",
              "      margin-bottom: 4px;\n",
              "    }\n",
              "\n",
              "    [theme=dark] .colab-df-convert {\n",
              "      background-color: #3B4455;\n",
              "      fill: #D2E3FC;\n",
              "    }\n",
              "\n",
              "    [theme=dark] .colab-df-convert:hover {\n",
              "      background-color: #434B5C;\n",
              "      box-shadow: 0px 1px 3px 1px rgba(0, 0, 0, 0.15);\n",
              "      filter: drop-shadow(0px 1px 2px rgba(0, 0, 0, 0.3));\n",
              "      fill: #FFFFFF;\n",
              "    }\n",
              "  </style>\n",
              "\n",
              "    <script>\n",
              "      const buttonEl =\n",
              "        document.querySelector('#df-e510a478-3896-47ad-98fa-55f0bd2ecbba button.colab-df-convert');\n",
              "      buttonEl.style.display =\n",
              "        google.colab.kernel.accessAllowed ? 'block' : 'none';\n",
              "\n",
              "      async function convertToInteractive(key) {\n",
              "        const element = document.querySelector('#df-e510a478-3896-47ad-98fa-55f0bd2ecbba');\n",
              "        const dataTable =\n",
              "          await google.colab.kernel.invokeFunction('convertToInteractive',\n",
              "                                                    [key], {});\n",
              "        if (!dataTable) return;\n",
              "\n",
              "        const docLinkHtml = 'Like what you see? Visit the ' +\n",
              "          '<a target=\"_blank\" href=https://colab.research.google.com/notebooks/data_table.ipynb>data table notebook</a>'\n",
              "          + ' to learn more about interactive tables.';\n",
              "        element.innerHTML = '';\n",
              "        dataTable['output_type'] = 'display_data';\n",
              "        await google.colab.output.renderOutput(dataTable, element);\n",
              "        const docLink = document.createElement('div');\n",
              "        docLink.innerHTML = docLinkHtml;\n",
              "        element.appendChild(docLink);\n",
              "      }\n",
              "    </script>\n",
              "  </div>\n",
              "\n",
              "\n",
              "    <div id=\"df-7866bc81-fb21-4fb3-ad77-4e4a7dbfc374\">\n",
              "      <button class=\"colab-df-quickchart\" onclick=\"quickchart('df-7866bc81-fb21-4fb3-ad77-4e4a7dbfc374')\"\n",
              "                title=\"Suggest charts\"\n",
              "                style=\"display:none;\">\n",
              "\n",
              "<svg xmlns=\"http://www.w3.org/2000/svg\" height=\"24px\"viewBox=\"0 0 24 24\"\n",
              "     width=\"24px\">\n",
              "    <g>\n",
              "        <path d=\"M19 3H5c-1.1 0-2 .9-2 2v14c0 1.1.9 2 2 2h14c1.1 0 2-.9 2-2V5c0-1.1-.9-2-2-2zM9 17H7v-7h2v7zm4 0h-2V7h2v10zm4 0h-2v-4h2v4z\"/>\n",
              "    </g>\n",
              "</svg>\n",
              "      </button>\n",
              "\n",
              "<style>\n",
              "  .colab-df-quickchart {\n",
              "      --bg-color: #E8F0FE;\n",
              "      --fill-color: #1967D2;\n",
              "      --hover-bg-color: #E2EBFA;\n",
              "      --hover-fill-color: #174EA6;\n",
              "      --disabled-fill-color: #AAA;\n",
              "      --disabled-bg-color: #DDD;\n",
              "  }\n",
              "\n",
              "  [theme=dark] .colab-df-quickchart {\n",
              "      --bg-color: #3B4455;\n",
              "      --fill-color: #D2E3FC;\n",
              "      --hover-bg-color: #434B5C;\n",
              "      --hover-fill-color: #FFFFFF;\n",
              "      --disabled-bg-color: #3B4455;\n",
              "      --disabled-fill-color: #666;\n",
              "  }\n",
              "\n",
              "  .colab-df-quickchart {\n",
              "    background-color: var(--bg-color);\n",
              "    border: none;\n",
              "    border-radius: 50%;\n",
              "    cursor: pointer;\n",
              "    display: none;\n",
              "    fill: var(--fill-color);\n",
              "    height: 32px;\n",
              "    padding: 0;\n",
              "    width: 32px;\n",
              "  }\n",
              "\n",
              "  .colab-df-quickchart:hover {\n",
              "    background-color: var(--hover-bg-color);\n",
              "    box-shadow: 0 1px 2px rgba(60, 64, 67, 0.3), 0 1px 3px 1px rgba(60, 64, 67, 0.15);\n",
              "    fill: var(--button-hover-fill-color);\n",
              "  }\n",
              "\n",
              "  .colab-df-quickchart-complete:disabled,\n",
              "  .colab-df-quickchart-complete:disabled:hover {\n",
              "    background-color: var(--disabled-bg-color);\n",
              "    fill: var(--disabled-fill-color);\n",
              "    box-shadow: none;\n",
              "  }\n",
              "\n",
              "  .colab-df-spinner {\n",
              "    border: 2px solid var(--fill-color);\n",
              "    border-color: transparent;\n",
              "    border-bottom-color: var(--fill-color);\n",
              "    animation:\n",
              "      spin 1s steps(1) infinite;\n",
              "  }\n",
              "\n",
              "  @keyframes spin {\n",
              "    0% {\n",
              "      border-color: transparent;\n",
              "      border-bottom-color: var(--fill-color);\n",
              "      border-left-color: var(--fill-color);\n",
              "    }\n",
              "    20% {\n",
              "      border-color: transparent;\n",
              "      border-left-color: var(--fill-color);\n",
              "      border-top-color: var(--fill-color);\n",
              "    }\n",
              "    30% {\n",
              "      border-color: transparent;\n",
              "      border-left-color: var(--fill-color);\n",
              "      border-top-color: var(--fill-color);\n",
              "      border-right-color: var(--fill-color);\n",
              "    }\n",
              "    40% {\n",
              "      border-color: transparent;\n",
              "      border-right-color: var(--fill-color);\n",
              "      border-top-color: var(--fill-color);\n",
              "    }\n",
              "    60% {\n",
              "      border-color: transparent;\n",
              "      border-right-color: var(--fill-color);\n",
              "    }\n",
              "    80% {\n",
              "      border-color: transparent;\n",
              "      border-right-color: var(--fill-color);\n",
              "      border-bottom-color: var(--fill-color);\n",
              "    }\n",
              "    90% {\n",
              "      border-color: transparent;\n",
              "      border-bottom-color: var(--fill-color);\n",
              "    }\n",
              "  }\n",
              "</style>\n",
              "\n",
              "      <script>\n",
              "        async function quickchart(key) {\n",
              "          const quickchartButtonEl =\n",
              "            document.querySelector('#' + key + ' button');\n",
              "          quickchartButtonEl.disabled = true;  // To prevent multiple clicks.\n",
              "          quickchartButtonEl.classList.add('colab-df-spinner');\n",
              "          try {\n",
              "            const charts = await google.colab.kernel.invokeFunction(\n",
              "                'suggestCharts', [key], {});\n",
              "          } catch (error) {\n",
              "            console.error('Error during call to suggestCharts:', error);\n",
              "          }\n",
              "          quickchartButtonEl.classList.remove('colab-df-spinner');\n",
              "          quickchartButtonEl.classList.add('colab-df-quickchart-complete');\n",
              "        }\n",
              "        (() => {\n",
              "          let quickchartButtonEl =\n",
              "            document.querySelector('#df-7866bc81-fb21-4fb3-ad77-4e4a7dbfc374 button');\n",
              "          quickchartButtonEl.style.display =\n",
              "            google.colab.kernel.accessAllowed ? 'block' : 'none';\n",
              "        })();\n",
              "      </script>\n",
              "    </div>\n",
              "\n",
              "    </div>\n",
              "  </div>\n"
            ],
            "application/vnd.google.colaboratory.intrinsic+json": {
              "type": "dataframe",
              "summary": "{\n  \"name\": \"wine_df\",\n  \"rows\": 15,\n  \"fields\": [\n    {\n      \"column\": \"alcohol\",\n      \"properties\": {\n        \"dtype\": \"number\",\n        \"std\": 0.36059513994278425,\n        \"min\": -0.32822194089001794,\n        \"max\": 1.0,\n        \"num_unique_values\": 15,\n        \"samples\": [\n          0.546364195083705,\n          0.07234318740052098,\n          1.0\n        ],\n        \"semantic_type\": \"\",\n        \"description\": \"\"\n      }\n    },\n    {\n      \"column\": \"malic_acid\",\n      \"properties\": {\n        \"dtype\": \"number\",\n        \"std\": 0.403256695842086,\n        \"min\": -0.5612956886649447,\n        \"max\": 1.0,\n        \"num_unique_values\": 15,\n        \"samples\": [\n          0.2489853440952395,\n          -0.3687104282932636,\n          0.09439694091041516\n        ],\n        \"semantic_type\": \"\",\n        \"description\": \"\"\n      }\n    },\n    {\n      \"column\": \"ash\",\n      \"properties\": {\n        \"dtype\": \"number\",\n        \"std\": 0.25962358386041196,\n        \"min\": -0.07466688903277331,\n        \"max\": 1.0,\n        \"num_unique_values\": 15,\n        \"samples\": [\n          0.25888725929965406,\n          0.0039112306302746085,\n          0.21154459643174484\n        ],\n        \"semantic_type\": \"\",\n        \"description\": \"\"\n      }\n    },\n    {\n      \"column\": \"alcalinity_of_ash\",\n      \"properties\": {\n        \"dtype\": \"number\",\n        \"std\": 0.4126930472895354,\n        \"min\": -0.44059693128216176,\n        \"max\": 1.0,\n        \"num_unique_values\": 15,\n        \"samples\": [\n          0.018731980931229433,\n          -0.27676854889143465,\n          -0.310235136891085\n        ],\n        \"semantic_type\": \"\",\n        \"description\": \"\"\n      }\n    },\n    {\n      \"column\": \"magnesium\",\n      \"properties\": {\n        \"dtype\": \"number\",\n        \"std\": 0.2987392916441287,\n        \"min\": -0.2562940489138293,\n        \"max\": 1.0,\n        \"num_unique_values\": 15,\n        \"samples\": [\n          0.19995000627543325,\n          0.06600393603204628,\n          0.27079822591147984\n        ],\n        \"semantic_type\": \"\",\n        \"description\": \"\"\n      }\n    },\n    {\n      \"column\": \"total_phenols\",\n      \"properties\": {\n        \"dtype\": \"number\",\n        \"std\": 0.510141961318802,\n        \"min\": -0.7191633405539715,\n        \"max\": 1.0,\n        \"num_unique_values\": 15,\n        \"samples\": [\n          -0.05513641774236631,\n          0.6999493647911861,\n          0.289101122587455\n        ],\n        \"semantic_type\": \"\",\n        \"description\": \"\"\n      }\n    },\n    {\n      \"column\": \"flavanoids\",\n      \"properties\": {\n        \"dtype\": \"number\",\n        \"std\": 0.5591017819937829,\n        \"min\": -0.8474975401417585,\n        \"max\": 1.0,\n        \"num_unique_values\": 15,\n        \"samples\": [\n          -0.17237939828917892,\n          0.787193901866951,\n          0.23681492790034508\n        ],\n        \"semantic_type\": \"\",\n        \"description\": \"\"\n      }\n    },\n    {\n      \"column\": \"nonflavanoid_phenols\",\n      \"properties\": {\n        \"dtype\": \"number\",\n        \"std\": 0.4346794473099147,\n        \"min\": -0.5378996119051984,\n        \"max\": 1.0,\n        \"num_unique_values\": 15,\n        \"samples\": [\n          0.1390570128605291,\n          -0.5032695960789114,\n          -0.15592946668732807\n        ],\n        \"semantic_type\": \"\",\n        \"description\": \"\"\n      }\n    },\n    {\n      \"column\": \"proanthocyanins\",\n      \"properties\": {\n        \"dtype\": \"number\",\n        \"std\": 0.4181127743116524,\n        \"min\": -0.4991298238591704,\n        \"max\": 1.0,\n        \"num_unique_values\": 15,\n        \"samples\": [\n          -0.025249930815701583,\n          0.519067095682523,\n          0.13669791176947937\n        ],\n        \"semantic_type\": \"\",\n        \"description\": \"\"\n      }\n    },\n    {\n      \"column\": \"color_intensity\",\n      \"properties\": {\n        \"dtype\": \"number\",\n        \"std\": 0.37390178248077466,\n        \"min\": -0.5218131932287572,\n        \"max\": 1.0,\n        \"num_unique_values\": 15,\n        \"samples\": [\n          1.0,\n          -0.4288149418276313,\n          0.546364195083705\n        ],\n        \"semantic_type\": \"\",\n        \"description\": \"\"\n      }\n    },\n    {\n      \"column\": \"hue\",\n      \"properties\": {\n        \"dtype\": \"number\",\n        \"std\": 0.4656493640434722,\n        \"min\": -0.6173692102858326,\n        \"max\": 1.0,\n        \"num_unique_values\": 15,\n        \"samples\": [\n          -0.5218131932287572,\n          0.5654682931826589,\n          -0.0717471973301557\n        ],\n        \"semantic_type\": \"\",\n        \"description\": \"\"\n      }\n    },\n    {\n      \"column\": \"od280/od315_of_diluted_wines\",\n      \"properties\": {\n        \"dtype\": \"number\",\n        \"std\": 0.5273712449101178,\n        \"min\": -0.788229588687663,\n        \"max\": 1.0,\n        \"num_unique_values\": 15,\n        \"samples\": [\n          -0.4288149418276313,\n          1.0,\n          0.07234318740052098\n        ],\n        \"semantic_type\": \"\",\n        \"description\": \"\"\n      }\n    },\n    {\n      \"column\": \"proline\",\n      \"properties\": {\n        \"dtype\": \"number\",\n        \"std\": 0.435726945113945,\n        \"min\": -0.6337167849870333,\n        \"max\": 1.0,\n        \"num_unique_values\": 15,\n        \"samples\": [\n          0.3161001126560902,\n          0.31276107545272297,\n          0.6437200371782134\n        ],\n        \"semantic_type\": \"\",\n        \"description\": \"\"\n      }\n    },\n    {\n      \"column\": \"Outcome\",\n      \"properties\": {\n        \"dtype\": \"number\",\n        \"std\": 0.5712794632563298,\n        \"min\": -0.8474975401417585,\n        \"max\": 1.0,\n        \"num_unique_values\": 15,\n        \"samples\": [\n          0.2656675691759895,\n          -0.788229588687663,\n          -0.32822194089001794\n        ],\n        \"semantic_type\": \"\",\n        \"description\": \"\"\n      }\n    },\n    {\n      \"column\": \"RandomAttach\",\n      \"properties\": {\n        \"dtype\": \"number\",\n        \"std\": 0.273270763344932,\n        \"min\": -0.11471677008734013,\n        \"max\": 1.0,\n        \"num_unique_values\": 15,\n        \"samples\": [\n          -0.0763482120138056,\n          -0.001628759281243604,\n          -0.10394477850790618\n        ],\n        \"semantic_type\": \"\",\n        \"description\": \"\"\n      }\n    }\n  ]\n}"
            }
          },
          "metadata": {},
          "execution_count": 67
        }
      ]
    },
    {
      "cell_type": "markdown",
      "source": [
        "## Matplotlib - Plots\n",
        "- Numpy usage\n",
        "  - np.sin(x) cos(x) trignometry x can be array\n",
        "  - x**2 parabola\n",
        "- Plotting Values (X & Y Plotting)\n",
        "  - plt.plot(x,z) plot(x,y,'r+') 'g.' // color and sign\n",
        "  - plt.show()\n",
        "  - plt.xlabel(name) .ylabel(name) .title(PlotName)\n",
        "- Bar Plot\n",
        "  - plt.figure()\n",
        "  - ax = fig.add_axes([0,0,1,1])\n",
        "  - ax.bar(languages,people) 1d 1d array data\n",
        "- Pie Chart\n",
        "  - ax.pie(people,labels=languages,autopct='%1.1f%%') one decimal places\n",
        "- Scatter Plotn # useful in clustering data\n",
        "  - ax.scatter(x,y,color='g')\n",
        "  - x and y 1d values\n",
        "- 3D Scatter Plot\n",
        "  - ax = plt.axes(projection='3d') (projection='3d') #need to mention"
      ],
      "metadata": {
        "id": "LNaVY1F5w0cb"
      },
      "id": "LNaVY1F5w0cb"
    },
    {
      "cell_type": "code",
      "source": [
        "#importing library\n",
        "import matplotlib.pyplot as plt\n",
        "#imporint np for data to plot\n",
        "import numpy as np"
      ],
      "metadata": {
        "id": "T2zIDWJ7xAwL"
      },
      "id": "T2zIDWJ7xAwL",
      "execution_count": 8,
      "outputs": []
    },
    {
      "cell_type": "code",
      "source": [
        "x= np.linspace(0,10,100) #total 100 values\n",
        "y= np.sin(x) # Create 100 values as vector\n",
        "z= np.cos(x)"
      ],
      "metadata": {
        "id": "VkqfZ2cjyuHC"
      },
      "id": "VkqfZ2cjyuHC",
      "execution_count": 9,
      "outputs": []
    },
    {
      "cell_type": "markdown",
      "source": [
        "#### Plotting the Data (X and Y type)"
      ],
      "metadata": {
        "id": "0J0mf7KBznO0"
      },
      "id": "0J0mf7KBznO0"
    },
    {
      "cell_type": "code",
      "source": [
        "# sine wave x and y\n",
        "plt.plot(x,y)\n",
        "plt.show()\n"
      ],
      "metadata": {
        "id": "UueyrzkXzk8-"
      },
      "id": "UueyrzkXzk8-",
      "execution_count": null,
      "outputs": []
    },
    {
      "cell_type": "code",
      "source": [
        "#cosine Wave\n",
        "#Adding Labels in x and y\n",
        "plt.plot(x,z)\n",
        "plt.xlabel(\"Angles\")\n",
        "plt.ylabel(\"Cos Value\")\n",
        "plt.title(\"Trignometry\")\n",
        "plt.show()\n",
        "\n"
      ],
      "metadata": {
        "id": "-Bjn0idw0EGA"
      },
      "id": "-Bjn0idw0EGA",
      "execution_count": null,
      "outputs": []
    },
    {
      "cell_type": "code",
      "source": [
        "#PARABOLA\n",
        "x= np.linspace(-10,10,20)\n",
        "y= x**2\n",
        "plt.plot(x,y,'r+')\n",
        "plt.plot(x,y,'g.')\n",
        "plt.show()"
      ],
      "metadata": {
        "id": "Prp3Xy3V08WA"
      },
      "id": "Prp3Xy3V08WA",
      "execution_count": null,
      "outputs": []
    },
    {
      "cell_type": "code",
      "source": [
        "#Merging Graphs\n",
        "x= np.linspace(-10,10,500)\n",
        "plt.plot(x,np.sin(x),'r+')\n",
        "plt.plot(x,np.cos(x),'g.')\n",
        "plt.show()"
      ],
      "metadata": {
        "id": "aXeMBrAe1gbl",
        "outputId": "8f2022a7-cbfc-4336-aa0b-0cd3f07b7cfd",
        "colab": {
          "base_uri": "https://localhost:8080/",
          "height": 430
        }
      },
      "id": "aXeMBrAe1gbl",
      "execution_count": 40,
      "outputs": [
        {
          "output_type": "display_data",
          "data": {
            "text/plain": [
              "<Figure size 640x480 with 1 Axes>"
            ],
            "image/png": "[encoded data removed]"
          },
          "metadata": {}
        }
      ]
    },
    {
      "cell_type": "markdown",
      "source": [
        "#### Bar Plot"
      ],
      "metadata": {
        "id": "lga8fPZp15kd"
      },
      "id": "lga8fPZp15kd"
    },
    {
      "cell_type": "code",
      "source": [
        "fig= plt.figure() # Empty plot blank\n",
        "ax = fig.add_axes([0,0,1,1]) # Area of plot General value used\n",
        "languages= ['E','A','F','D']\n",
        "people= [100,30,40,50]\n",
        "# language and people same dimension\n",
        "\n",
        "ax.bar(languages,people)\n",
        "plt.xlabel(\"Languages\")\n",
        "plt.ylabel(\"No. of people\")\n",
        "plt.show()"
      ],
      "metadata": {
        "id": "dwED6olF18WD"
      },
      "id": "dwED6olF18WD",
      "execution_count": null,
      "outputs": []
    },
    {
      "cell_type": "markdown",
      "source": [
        "#### Pie Chart"
      ],
      "metadata": {
        "id": "gy9PiGan55N9"
      },
      "id": "gy9PiGan55N9"
    },
    {
      "cell_type": "code",
      "source": [
        "fig1 = plt.figure()\n",
        "ax = fig1.add_axes([0,0,1,1]) # Area of plot\n",
        "languages= ['E','A','F','D']\n",
        "people= [100,30,40,50]\n",
        "ax.pie(people,labels=languages,autopct='%1.1f%%')\n",
        "plt.show()\n"
      ],
      "metadata": {
        "id": "NXmX154p56wX"
      },
      "id": "NXmX154p56wX",
      "execution_count": null,
      "outputs": []
    },
    {
      "cell_type": "markdown",
      "source": [
        "#### Scatter Plot"
      ],
      "metadata": {
        "id": "2LF2ETPU80Om"
      },
      "id": "2LF2ETPU80Om"
    },
    {
      "cell_type": "code",
      "source": [
        "# useful in clustering data\n",
        "x= np.linspace(0,10,30)\n",
        "y= np.sin(x)\n",
        "z=np.cos(x)\n",
        "fig2 = plt.figure()\n",
        "ax = fig2.add_axes([0,0,1,1]) # Area of plot Rectangular\n",
        "ax.scatter(x,y,color='g')\n",
        "ax.scatter(x,z,color='b')\n",
        "plt.show()\n",
        "\n"
      ],
      "metadata": {
        "id": "OdCQZJ1u87fo"
      },
      "id": "OdCQZJ1u87fo",
      "execution_count": null,
      "outputs": []
    },
    {
      "cell_type": "markdown",
      "source": [
        "#### 3D Scatter Plot"
      ],
      "metadata": {
        "id": "RB9U-MW_9lDF"
      },
      "id": "RB9U-MW_9lDF"
    },
    {
      "cell_type": "code",
      "source": [
        "fig2 = plt.figure()\n",
        "ax = plt.axes(projection='3d') #need to mention\n",
        "z= 20*np.random.random(100)\n",
        "x=np.sin(z)\n",
        "y=np.cos(z)\n",
        "ax.scatter(x,y,z,c=z,cmap='Blues')\n",
        "plt.show()"
      ],
      "metadata": {
        "id": "9qlZCXTS9nLS",
        "outputId": "7d516794-0152-4365-a2b5-484726937efb",
        "colab": {
          "base_uri": "https://localhost:8080/",
          "height": 415
        }
      },
      "id": "9qlZCXTS9nLS",
      "execution_count": 45,
      "outputs": [
        {
          "output_type": "display_data",
          "data": {
            "text/plain": [
              "<Figure size 640x480 with 1 Axes>"
            ],
            "image/png": "[encoded data removed]"
          },
          "metadata": {}
        }
      ]
    }
  ],
  "metadata": {
    "colab": {
      "provenance": []
    },
    "language_info": {
      "name": "python"
    },
    "kernelspec": {
      "name": "python3",
      "display_name": "Python 3"
    }
  },
  "nbformat": 4,
  "nbformat_minor": 5
}