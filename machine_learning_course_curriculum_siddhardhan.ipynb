{
  "cells": [
    {
      "cell_type": "markdown",
      "source": [
        "# Module-2 Python\n",
        "\n"
      ],
      "metadata": {
        "id": "X9tj-NENMzjw"
      },
      "id": "X9tj-NENMzjw"
    },
    {
      "cell_type": "markdown",
      "source": [
        "## System Specification\n",
        "- use `!` command in front to use local terminal type of thing\n",
        "- also whenever you do `!ls` you can see that the file folder (sample_data) which google collab has provided shows meaning all your files are starting from this directory"
      ],
      "metadata": {
        "id": "ri2vDmPLPcND"
      },
      "id": "ri2vDmPLPcND"
    },
    {
      "cell_type": "code",
      "source": [
        "!cat /proc/cpuinfo\n",
        "!cat /proc/meminfo\n",
        "!ls\n",
        "!cd / && pwd && ls"
      ],
      "metadata": {
        "id": "IOPA35kXNHWj"
      },
      "id": "IOPA35kXNHWj",
      "execution_count": null,
      "outputs": []
    },
    {
      "cell_type": "markdown",
      "source": [
        "## Installing Libraries\n",
        "- use !pip install library ex. pip install pandas\n",
        "- import pandas as py and use inside code"
      ],
      "metadata": {
        "id": "mbQnn1keOU5g"
      },
      "id": "mbQnn1keOU5g"
    },
    {
      "cell_type": "markdown",
      "source": [
        "## Python Basics"
      ],
      "metadata": {
        "id": "eJiCgRtdPrxI"
      },
      "id": "eJiCgRtdPrxI"
    },
    {
      "cell_type": "markdown",
      "source": [
        "### Data Types:\n",
        "- int\n",
        "- float\n",
        "- str (Can use \"\" or '' both to declare string)\n",
        "- complex\n",
        "- boolean (True and False)\n",
        "  - Comparator (< > == can use along with boolean)\n",
        "- using print() and type() funtions\n",
        "  - print(\"shubham\"*5) then 5 times print"
      ],
      "metadata": {
        "id": "5tXdUErSPwoV"
      },
      "id": "5tXdUErSPwoV"
    },
    {
      "cell_type": "code",
      "source": [
        "print(\"mergin\"+\"this\")"
      ],
      "metadata": {
        "id": "WjTpuMpXP5am"
      },
      "id": "WjTpuMpXP5am",
      "execution_count": null,
      "outputs": []
    },
    {
      "cell_type": "code",
      "source": [
        "print(8+3)"
      ],
      "metadata": {
        "id": "6OQqSWhjP-Jf"
      },
      "id": "6OQqSWhjP-Jf",
      "execution_count": null,
      "outputs": []
    },
    {
      "cell_type": "code",
      "source": [
        "type(8)\n",
        "type(8.3)\n",
        "type(\"Syrting\")"
      ],
      "metadata": {
        "id": "dcF-8EZiQBZS"
      },
      "id": "dcF-8EZiQBZS",
      "execution_count": null,
      "outputs": []
    },
    {
      "cell_type": "code",
      "source": [
        "a= 1+3j\n",
        "print(a)\n",
        "type(a)\n",
        "\n",
        "b=True\n",
        "c=False\n",
        "type(c)\n",
        "\n",
        "d= 7>3\n",
        "print(d)"
      ],
      "metadata": {
        "id": "8MI2TYFdSm19"
      },
      "id": "8MI2TYFdSm19",
      "execution_count": null,
      "outputs": []
    },
    {
      "cell_type": "markdown",
      "source": [
        "### Slicing & Steping & Concatenation A String\n",
        "- Index starts with zero in python\n",
        "- Stepping ek step mein string trim karega\n",
        "- styrinA +stringB concatination"
      ],
      "metadata": {
        "id": "7cCtlrn6T63I"
      },
      "id": "7cCtlrn6T63I"
    },
    {
      "cell_type": "code",
      "source": [
        "a= \"shubham\"\n",
        "print(a[1:3]) #starting from 1 to 3 wale\n",
        "print(a[0:5:2]) #2 is the step here"
      ],
      "metadata": {
        "id": "ctdh2QJLUCy-"
      },
      "id": "ctdh2QJLUCy-",
      "execution_count": null,
      "outputs": []
    },
    {
      "cell_type": "markdown",
      "source": [
        "### Constants and Variables\n",
        "- variables can be redeclared while constants cannot\n",
        "- multiple values to multiple varibales use `,` separated declaration\n",
        "- single values to multiple varaible use `=`"
      ],
      "metadata": {
        "id": "7CrvIKI0QiCI"
      },
      "id": "7CrvIKI0QiCI"
    },
    {
      "cell_type": "code",
      "source": [
        "variable1 = \"toppo\"\n",
        "print(variable1)\n",
        "var1, var2 = \"shubham\", 5\n",
        "print(var1)\n",
        "print(var2)\n",
        "\n",
        "x=y=z = 5\n",
        "print(x)\n",
        "print(y)"
      ],
      "metadata": {
        "id": "6nDb5P50QpHI"
      },
      "id": "6nDb5P50QpHI",
      "execution_count": null,
      "outputs": []
    },
    {
      "cell_type": "markdown",
      "source": [
        "### Input Function and Changing Datatype in Python"
      ],
      "metadata": {
        "id": "nLnStllsRikB"
      },
      "id": "nLnStllsRikB"
    },
    {
      "cell_type": "code",
      "source": [
        "num1 = int(input(\"Enter number1 here :\"))\n",
        "num2 = int(input(\"Enter number2 here :\"))\n",
        "# By defaut input return string -> Convert into int -> int(string)\n",
        "sum= num1+num2\n",
        "print(sum)\n",
        "\n",
        "integer=5\n",
        "type(integer)\n",
        "#Converting to float\n",
        "floatvalue = float(integer)\n",
        "print(floatvalue)"
      ],
      "metadata": {
        "id": "vudlA9aARl9N"
      },
      "id": "vudlA9aARl9N",
      "execution_count": null,
      "outputs": []
    },
    {
      "cell_type": "markdown",
      "source": [
        "### Types of objects in Python\n",
        "1) Mutable : Can be changed once created\n",
        "- List, Set, Dictionary\n",
        "  - List allows duplicate values\n",
        "  - List append() to add element\n",
        "  - list[index] to access element Index starts with zero\n",
        "  - len(list) -to get length of list\n",
        "\n",
        "2) Immutable\n",
        "- int, float, str, bool, tuple"
      ],
      "metadata": {
        "id": "FQe7U6x4XXR1"
      },
      "id": "FQe7U6x4XXR1"
    },
    {
      "cell_type": "code",
      "source": [
        "# LIST -> Changebale\n",
        "# Use [brackets] and can have multiple data types\n",
        "my_list=[1,2,\"English\"]\n",
        "print(my_list)\n",
        "type(my_list)\n",
        "\n",
        "#declaring values i using loop\n",
        "python_list=[i for i in range(10000)]\n",
        "\n",
        "# Add Element in list\n",
        "my_list.append(90)\n",
        "print(my_list)\n",
        "\n",
        "#Indexing a list\n",
        "print(my_list[2])\n",
        "\n",
        "#Length\n",
        "print(len(my_list))\n",
        "\n",
        "# Deleting a index\n",
        "del my_list[0]\n",
        "print(my_list)\n",
        "\n",
        "#Empty List\n",
        "new_list=[]\n",
        "new_list.append(400)\n",
        "\n",
        "#Joining two list\n",
        "join_list= my_list+new_list\n",
        "print(join_list)\n"
      ],
      "metadata": {
        "id": "iXierqm8Xnp4"
      },
      "id": "iXierqm8Xnp4",
      "execution_count": null,
      "outputs": []
    },
    {
      "cell_type": "code",
      "source": [
        "# Tuple -> unchangebable\n",
        "# Use (brackets) + allows multiple data type\n",
        "tuple1= (1,2,\"String\")\n",
        "print(tuple1)\n",
        "\n",
        "#Convert List to Tuple\n",
        "my_list=[2,3]\n",
        "my_tuple=tuple(my_list)\n",
        "print(my_tuple)\n",
        "\n",
        "#Indexing in tuple\n",
        "print(my_tuple[1])\n",
        "\n",
        "#Length\n",
        "print(len(my_tuple))\n",
        "\n",
        "#Immutable can't change\n",
        "# my_tuple.append(5) #Won't work\n",
        "\n"
      ],
      "metadata": {
        "id": "b6Pjh2UeYj35"
      },
      "id": "b6Pjh2UeYj35",
      "execution_count": null,
      "outputs": []
    },
    {
      "cell_type": "code",
      "source": [
        "#Set -> Mutable + Doesn't allow duplicates\n",
        "# Use {bracket} + NoIndex here [index] wont work\n",
        "\n",
        "mySet= {1,2,3,4}\n",
        "print(mySet)\n",
        "print(len(mySet))\n",
        "# print(mySet[1]) #Throw Error\n",
        "\n",
        "#Convert List TO a Set\n",
        "listt=[7,8,9,9,9,9]\n",
        "convert=set(listt)\n",
        "print(convert)"
      ],
      "metadata": {
        "id": "7QJ6xlfoAFrd"
      },
      "id": "7QJ6xlfoAFrd",
      "execution_count": null,
      "outputs": []
    },
    {
      "cell_type": "code",
      "source": [
        "#Dictionary -> Key Value Pair + Duplicate Key not allowed\n",
        "my_dict={\"a\":40,\"b\":\"Value\"}\n",
        "print(my_dict)\n",
        "print(type(my_dict))\n",
        "print(my_dict[\"a\"])\n",
        "\n",
        "my_dict2={\"a\":40,\"b\":\"Value\",\"a\":\"other\"}\n",
        "my_dict2[\"c\"]=\"declaring new value\"\n",
        "\n",
        "#delete key from dictionary\n",
        "del my_dict2[\"b\"]\n",
        "print(my_dict2)\n",
        "my_dict2.get(\"c\")\n",
        "\n",
        "\n",
        "\n",
        "\n"
      ],
      "metadata": {
        "id": "BraKovxCAaQF"
      },
      "id": "BraKovxCAaQF",
      "execution_count": null,
      "outputs": []
    },
    {
      "cell_type": "markdown",
      "source": [
        "### Operators In Python\n",
        "- Maths -> + - / * **(power)\n",
        "- Assignment Operator += -= /= %= **=\n",
        "- Comparision Operator == != <= >=\n",
        "- Logical Operator (and or not)\n",
        "- Identity Operator (is is not) values match\n",
        "- Membership operator (in not in) list match values"
      ],
      "metadata": {
        "id": "wg3NlQBlByYt"
      },
      "id": "wg3NlQBlByYt"
    },
    {
      "cell_type": "code",
      "source": [
        "#Maths\n",
        "num1=5\n",
        "num2=10\n",
        "print(\"sum = \",num1**num2)\n",
        "a=0\n",
        "a+=num1\n",
        "\n",
        "#Assignment Operator\n",
        "print(\"sum = \",a)\n",
        "\n",
        "#Comparision Operator\n",
        "print(num1<=num2)\n",
        "\n",
        "#Logical Operator\n",
        "print(num1 and num2) #This return and operation on number\n",
        "print(num1>10 or num2<20)\n",
        "print(not(num1>10 or num2<20))\n",
        "\n",
        "#Identity Operator\n",
        "a=5\n",
        "b=5\n",
        "print(a is not b)\n",
        "\n",
        "# Membership operator\n",
        "listt=[1,2,3,4,5]\n",
        "print(a not in listt)\n"
      ],
      "metadata": {
        "id": "REHCDK9yCKfK"
      },
      "id": "REHCDK9yCKfK",
      "execution_count": null,
      "outputs": []
    },
    {
      "cell_type": "markdown",
      "source": [
        "### If Else Loops Function"
      ],
      "metadata": {
        "id": "cYCKmvhdE2rj"
      },
      "id": "cYCKmvhdE2rj"
    },
    {
      "cell_type": "code",
      "source": [
        "#If Else Condition\n",
        "a=1\n",
        "b=1\n",
        "if(a<b):\n",
        "  print(\"a is smaller\")\n",
        "elif(a>b):\n",
        "  print(\"b is greater\")\n",
        "else:\n",
        "  if(a<b):\n",
        "    print(\"a is smaller\")\n",
        "  else:\n",
        "    print(\"b is greater\")\n",
        "\n",
        "#Loops\n",
        "numbers=[1,2,3]\n",
        "for i in numbers:\n",
        "  print(i)\n",
        "\n",
        "sum=0\n",
        "for i in range(3):  # i [0,1,2,3) not including 3\n",
        "  sum*=i\n",
        "print(sum)\n",
        "\n",
        "for i in range(3,6):  # i [3,4,5,6) not including 6\n",
        "  sum+=i\n",
        "print(sum)\n",
        "\n",
        "# While Loop\n",
        "i=0\n",
        "while i<3:\n",
        "  print(i)\n",
        "  i+=1\n",
        "\n",
        "#Functions : Reusable block\n",
        "def factorialFunc(num):\n",
        "  factorial=1\n",
        "  for i in range(1,num+1):\n",
        "    factorial*=i\n",
        "  return factorial\n",
        "\n",
        "print(factorialFunc(5))\n"
      ],
      "metadata": {
        "id": "gHJEj353FOcV"
      },
      "id": "gHJEj353FOcV",
      "execution_count": null,
      "outputs": []
    },
    {
      "cell_type": "markdown",
      "source": [
        "#Module-3 Python Libraries\n",
        "- Numpy\n",
        "- Matplotlib\n",
        "- Pandas\n",
        "- Seaborn\n"
      ],
      "metadata": {
        "id": "WBtyzN_5IINI"
      },
      "id": "WBtyzN_5IINI"
    },
    {
      "cell_type": "markdown",
      "source": [
        "## Numpy - Numerical Python\n",
        "- Allows mathematical operations\n",
        "- Faster Operations (large datasets)\n",
        "- Numpy Arrays\n",
        "  - np.array are vector actually not separted by commas\n",
        "  - a.shape // This is used to get dimension of vector\n",
        "  - Number of Dimension print(c.ndim)\n",
        "  - Size No of elements c.size\n",
        "  - len(c) give no of rows len(c[0]) gives no of column\n",
        "  - c.dtype datatype of array\n",
        "  - np.zeros((4,5)) // Zero array\n",
        "  - np.ones((dimenstion x y)) //1 array\n",
        "  - np.full((4,5),10)\n",
        "  - Identityi Matrix np.eye(2)\n",
        "  - Random Matrix np.random.random((3,4))  && np.random.randint(0,10,(3,4),dtype=int)\n",
        "  - List to nparray np.asarray(list1)\n",
        "  - np.arange(10,30,5) Create evenly spaced array with step\n",
        "  - np.linspace(10,30,9) // total 9 numbers\n",
        "\n",
        "- Mathematical Operation\n",
        "  - +-*/ (actual array addition operation element wise dimension need to be same) , incase of list it simply concatenate\n",
        "  - np.divide(a,b) np.add np.subtract np.multiply // same thing\n",
        "  - Since nparray are vectors actually\n",
        "\n",
        "- Array Manipulation\n",
        "  - Transpose np.transpose OR array.T\n",
        "\n",
        "- Reshaping\n",
        "  - b= a.reshape(6,2) if a.size no of elements =12 then b size should be 12 can be 1,12 or 3,4"
      ],
      "metadata": {
        "id": "2W03Gt9YIlBp"
      },
      "id": "2W03Gt9YIlBp"
    },
    {
      "cell_type": "code",
      "source": [
        "import numpy as np\n"
      ],
      "metadata": {
        "id": "9LjE9AiYL4uI"
      },
      "id": "9LjE9AiYL4uI",
      "execution_count": null,
      "outputs": []
    },
    {
      "cell_type": "markdown",
      "source": [
        "#### LIST VS NUMPY - TIME TAKEN"
      ],
      "metadata": {
        "id": "mqimt5_4MgcF"
      },
      "id": "mqimt5_4MgcF"
    },
    {
      "cell_type": "code",
      "source": [
        "from time import process_time\n",
        "\n",
        "#LIST\n",
        "python_list=[i for i in range(100000)]\n",
        "start_time=process_time()\n",
        "\n",
        "python_list=[i+5 for i in python_list ]\n",
        "end_time=process_time()\n",
        "\n",
        "print(\"Python list time taken\", end_time-start_time)\n",
        "\n",
        "#NUMPY Array declare\n",
        "np_array = np.array([i for i in range(100000)])\n",
        "start_time=process_time()\n",
        "\n",
        "# ADDing 5 to all elements in array\n",
        "# np_array += 5 # easy syntax\n",
        "# np_array = np.array([i+5 for i in np_array])\n",
        "for i in range(len(np_array)):\n",
        "  np_array[i]+=5\n",
        "print(np_array)\n",
        "end_time=process_time()\n",
        "\n",
        "print(\"Python Numpy Array time taken\", end_time-start_time)\n"
      ],
      "metadata": {
        "id": "68SrRY07MkVC"
      },
      "id": "68SrRY07MkVC",
      "execution_count": null,
      "outputs": []
    },
    {
      "cell_type": "markdown",
      "source": [
        "#### Numpy Arrays"
      ],
      "metadata": {
        "id": "jgNn44oAN75t"
      },
      "id": "jgNn44oAN75t"
    },
    {
      "cell_type": "code",
      "source": [
        "# List Create\n",
        "list1=[1,2,3]\n",
        "type(list1)\n",
        "print(list1)\n",
        "\n",
        "#np array create ->\n",
        "np_array = np.array([1,2,3])\n",
        "type(np_array)\n",
        "print(np_array)\n",
        "# Np array are like vector not separarted by commans"
      ],
      "metadata": {
        "id": "XcxuuWYEN9u4"
      },
      "id": "XcxuuWYEN9u4",
      "execution_count": null,
      "outputs": []
    },
    {
      "cell_type": "code",
      "source": [
        "#Creating 1D array\n",
        "a= np.array([1,2,3])\n",
        "print(type(a))\n",
        "print(a)\n",
        "a.shape\n",
        "\n",
        "#Creating 2D array\n",
        "b= np.array([(1,2,3),(4,5,6)])\n",
        "b.shape #row and column dimension"
      ],
      "metadata": {
        "id": "Ct3vJ4KDYbfO"
      },
      "id": "Ct3vJ4KDYbfO",
      "execution_count": null,
      "outputs": []
    },
    {
      "cell_type": "code",
      "source": [
        "# datatype defining with np array\n",
        "#default integer hote\n",
        "c= np.array([(1,2),(3,4)],dtype=float)\n",
        "print(c)"
      ],
      "metadata": {
        "id": "Q2sP5GlGZbYh"
      },
      "id": "Q2sP5GlGZbYh",
      "execution_count": null,
      "outputs": []
    },
    {
      "cell_type": "code",
      "source": [
        "#Initial Placeholder in numpy arrays\n",
        "# Initial Zeros With Rows and Columns\n",
        "x= np.zeros((4,5))\n",
        "print(x)\n",
        "# Initial Ones With Rows and Columns\n",
        "x= np.ones((4,5))\n",
        "print(x)\n",
        "#Particular Value\n",
        "x= np.full((4,4),10)\n",
        "print(x)"
      ],
      "metadata": {
        "id": "98AEhsX0Zqfq"
      },
      "id": "98AEhsX0Zqfq",
      "execution_count": null,
      "outputs": []
    },
    {
      "cell_type": "code",
      "source": [
        "#Identity Matrix (all diagonal values will be 1 rest 0)\n",
        "# Only n*n hota rows=column\n",
        "a= np.eye(2)\n",
        "print(a)\n",
        "\n",
        "#Random values matrix with dimenssion\n",
        "b= np.random.random((3,4))\n",
        "print(b)\n",
        "\n",
        "#Random matrix integer and within range\n",
        "c= np.random.randint(0,10,(3,4),dtype=int)\n",
        "print(c)\n",
        "\n",
        "#Array with evenly spaced values low high and 9 numbers total\n",
        "d= np.linspace(10,30,9)\n",
        "print(d)\n",
        "\n",
        "#Array with evenly and space -> step jump\n",
        "e= np.arange(10,30,9)\n",
        "print(e)"
      ],
      "metadata": {
        "id": "EPe4dzdtdh8x"
      },
      "id": "EPe4dzdtdh8x",
      "execution_count": null,
      "outputs": []
    },
    {
      "cell_type": "code",
      "source": [
        "#Convert list/tuple to npArray\n",
        "list1=[1,2,3]\n",
        "tupl1=(1,2,3,4)\n",
        "np_array=np.asarray(list1)\n",
        "print(np_array)"
      ],
      "metadata": {
        "id": "dfLXWIXkfJql"
      },
      "id": "dfLXWIXkfJql",
      "execution_count": null,
      "outputs": []
    },
    {
      "cell_type": "code",
      "source": [
        "#Analysing a numpy array\n",
        "c= np.random.randint(10,90,(5,6))\n",
        "print(c)\n",
        "\n",
        "#Array Dimension\n",
        "c.shape\n",
        "\n",
        "#Number of Dimension\n",
        "print(c.ndim)\n",
        "\n",
        "#Number of elements in array\n",
        "print(c.size)\n",
        "print(len(c[0])) #column numbers\n",
        "\n",
        "#Datatype\n",
        "print(c.dtype)"
      ],
      "metadata": {
        "id": "1SPgDTu4fhyE"
      },
      "id": "1SPgDTu4fhyE",
      "execution_count": null,
      "outputs": []
    },
    {
      "cell_type": "markdown",
      "source": [
        "#### Mathematical operations on Numpy Array"
      ],
      "metadata": {
        "id": "_nuScc5MgvIH"
      },
      "id": "_nuScc5MgvIH"
    },
    {
      "cell_type": "code",
      "source": [
        "list1= [1,2,3,4,5]\n",
        "list2=[6,7,8,9,10]\n",
        "# List + concatenate list\n",
        "print(list1+list2) #Element wise adding not happening\n",
        "\n",
        "a= np.asarray(list1)\n",
        "b= np.asarray(list2)\n",
        "#Actual addition\n",
        "print(a+b)\n",
        "\n",
        "a= np.random.randint(10,30,(3,4))\n",
        "b= np.random.randint(10,50,(3,4))\n",
        "print(a/b)\n",
        "#OR\n",
        "print(np.divide(a,b))"
      ],
      "metadata": {
        "id": "bemd3WKvg1Qg"
      },
      "id": "bemd3WKvg1Qg",
      "execution_count": null,
      "outputs": []
    },
    {
      "cell_type": "markdown",
      "source": [
        "#### Array Manipulation on npArray"
      ],
      "metadata": {
        "id": "yHA-sNzgiPuc"
      },
      "id": "yHA-sNzgiPuc"
    },
    {
      "cell_type": "code",
      "source": [
        "#Transpose\n",
        "a= np.random.randint(10,30,(3,4))\n",
        "trans = np.transpose(a)\n",
        "#OR\n",
        "trans2= a.T\n",
        "print(a,a.shape)\n",
        "print(trans,trans.shape)\n",
        "print(trans2,trans2.shape)\n"
      ],
      "metadata": {
        "id": "OtQHQ4x1iSfw"
      },
      "id": "OtQHQ4x1iSfw",
      "execution_count": null,
      "outputs": []
    },
    {
      "cell_type": "markdown",
      "source": [
        "#### Reshaping on npArray"
      ],
      "metadata": {
        "id": "CTKaUTMki-6h"
      },
      "id": "CTKaUTMki-6h"
    },
    {
      "cell_type": "code",
      "source": [
        "a= np.random.randint(10,30,(3,4))\n",
        "print(a,a.shape)\n",
        "\n",
        "b= a.reshape(6,2)\n",
        "print(b,b.shape)"
      ],
      "metadata": {
        "id": "sfjLMMGTjEuK"
      },
      "id": "sfjLMMGTjEuK",
      "execution_count": null,
      "outputs": []
    },
    {
      "cell_type": "markdown",
      "source": [
        "## Pandas - Dataframe\n",
        "- Useful for Data Processing and Analysis\n",
        "- Dataframe is 2d tabular data structure with labeled axes(rows and columns) like excel sheet column name\n",
        "- SKLEARN\n",
        "  - from sklearn.datasets(many datas hai to practice) import load_boston (inbuild datasets hai) sklearn.utils._bunch.Bunch type\n",
        "\n",
        "- Dataframe\n",
        "  - pd.DataFrame, .head() .tail() .info() .isnull().sum() each column null values\n",
        "    - value_counts('magnesium')\n",
        "    - groupby('columnName).mean()\n",
        "  - pd.read_csv(Give Path to CSV)\n",
        "  - diabetes_df.shape //Dimension\n",
        "  - pd.read_excel(path)\n",
        "  - df.to_csv(\"filename\") wine_df.to_excel(\"wineCSV.\") Exporting to csv and excel\n",
        "  - pd.DataFrame(random_np) // using numpy array to create dataframe\n",
        "  - Statiscial Measures (Each column)\n",
        "    - df.count() mean() std() .min() .max()\n",
        "    - All Statistical in one go df.describe()\n",
        "  - Manipulating Dataframe\n",
        "    - Add Column df['columnname']=1d array or target from dataset {no of values should be same as other columns}\n",
        "  - Locating particular row and column\n",
        "    - .iloc[index] //row print\n",
        "    - .iloc[:,index] //column print : means all rows values\n",
        "    - .iloc[row,col] //particular value\n",
        "    - .iloc[:,-1] #Last column\n",
        "  -  Correlation\n",
        "    - Positive and Negative\n",
        "    - Relation between various columns\n",
        "    - wine_df.corr() # All columns wrt to other column"
      ],
      "metadata": {
        "id": "gBGwEBnnlSc2"
      },
      "id": "gBGwEBnnlSc2"
    },
    {
      "cell_type": "code",
      "source": [
        "# importing\n",
        "import pandas as pd"
      ],
      "metadata": {
        "id": "iteuwzlBpR-N"
      },
      "id": "iteuwzlBpR-N",
      "execution_count": null,
      "outputs": []
    },
    {
      "cell_type": "markdown",
      "source": [
        "#### SKLEARN DATASETS\n",
        "- inbuild datasets"
      ],
      "metadata": {
        "id": "qP0mmiBkpjlQ"
      },
      "id": "qP0mmiBkpjlQ"
    },
    {
      "cell_type": "code",
      "source": [
        "# importing the inbuild datasets\n",
        "# Inbuild data hai\n",
        "from sklearn.datasets import load_wine\n",
        "wine_dataset = load_wine()\n",
        "\n",
        "type(wine_dataset) #sklearn.utils._bunch.Bunch\n",
        "# print(wine_dataset)"
      ],
      "metadata": {
        "id": "5czJl9wMpmTY"
      },
      "id": "5czJl9wMpmTY",
      "execution_count": null,
      "outputs": []
    },
    {
      "cell_type": "markdown",
      "source": [],
      "metadata": {
        "id": "pr9Lm-3a--cT"
      },
      "id": "pr9Lm-3a--cT"
    },
    {
      "cell_type": "markdown",
      "source": [
        "#### Creating Pandas Dataframe"
      ],
      "metadata": {
        "id": "Zt4-1-3ysV8x"
      },
      "id": "Zt4-1-3ysV8x"
    },
    {
      "cell_type": "code",
      "source": [
        "wine_df= pd.DataFrame(wine_dataset.data,columns=wine_dataset.feature_names)\n",
        "# print(wine_df)\n",
        "wine_df.head() #Printing 5 rows\n",
        "# type(wine_df)"
      ],
      "metadata": {
        "id": "7SR0iaf3sUN2"
      },
      "id": "7SR0iaf3sUN2",
      "execution_count": null,
      "outputs": []
    },
    {
      "cell_type": "code",
      "source": [
        "# Dimenshion of dataframe\n",
        "wine_df.shape"
      ],
      "metadata": {
        "id": "IqeupR6Et80E"
      },
      "id": "IqeupR6Et80E",
      "execution_count": null,
      "outputs": []
    },
    {
      "cell_type": "markdown",
      "source": [
        "#### Reading CSV File"
      ],
      "metadata": {
        "id": "ms3MqtyCvmVx"
      },
      "id": "ms3MqtyCvmVx"
    },
    {
      "cell_type": "code",
      "source": [
        "#Importing CSV File as a pandas dataframe\n",
        "diabetes_df=pd.read_csv(\"/content/diabetes.csv\")\n",
        "diabetes_df.head()\n",
        "# type(diabetes_df) #pandas.core.frame.DataFrame\n",
        "# diabetes_df.shape"
      ],
      "metadata": {
        "id": "gXmex6Sct-2w"
      },
      "id": "gXmex6Sct-2w",
      "execution_count": null,
      "outputs": []
    },
    {
      "cell_type": "markdown",
      "source": [
        "#### Exporting Dataframe to CSV/EXCEL File"
      ],
      "metadata": {
        "id": "j3ou8JLSvpz7"
      },
      "id": "j3ou8JLSvpz7"
    },
    {
      "cell_type": "code",
      "source": [
        "wine_df.to_csv(\"wineCSV\")\n",
        "# wine_df.to_excel(\"wineCSV.\")"
      ],
      "metadata": {
        "id": "_b-fnXjJvoVU"
      },
      "id": "_b-fnXjJvoVU",
      "execution_count": null,
      "outputs": []
    },
    {
      "cell_type": "markdown",
      "source": [
        "###### Dataframe with randomNumbers"
      ],
      "metadata": {
        "id": "avz4AU8iA9-y"
      },
      "id": "avz4AU8iA9-y"
    },
    {
      "cell_type": "code",
      "source": [
        "import numpy as np\n",
        "import pandas as pd\n",
        "\n",
        "random_np=np.random.rand(20,10)\n",
        "random_np= np.random.randint(0,10,(3,4),dtype=int)\n",
        "random_df = pd.DataFrame(random_np)\n",
        "random_df.head()"
      ],
      "metadata": {
        "id": "OV95AdspBD8T"
      },
      "id": "OV95AdspBD8T",
      "execution_count": null,
      "outputs": []
    },
    {
      "cell_type": "markdown",
      "source": [
        "#### Inspecting A Dataframe"
      ],
      "metadata": {
        "id": "_D5PMMEuBDYF"
      },
      "id": "_D5PMMEuBDYF"
    },
    {
      "cell_type": "code",
      "source": [
        "# Finding rows and columns\n",
        "wine_df.shape\n",
        "\n",
        "#First 5 rows in a Dataframe\n",
        "wine_df.head()\n",
        "\n",
        "#Last 5 rows in a Dataframe\n",
        "wine_df.tail()\n",
        "\n",
        "#Information about the Dataframe\n",
        "wine_df.info()"
      ],
      "metadata": {
        "id": "9Ba3Zha9B3li"
      },
      "id": "9Ba3Zha9B3li",
      "execution_count": null,
      "outputs": []
    },
    {
      "cell_type": "code",
      "source": [
        "# Finding the number of missing values in each column\n",
        "wine_df.isnull().sum()"
      ],
      "metadata": {
        "id": "wJMOMvX-Cc84"
      },
      "id": "wJMOMvX-Cc84",
      "execution_count": null,
      "outputs": []
    },
    {
      "cell_type": "code",
      "source": [
        "#Counting the values based on a column\n",
        "wine_df.head()\n",
        "\n",
        "\n",
        "wine_df.value_counts('magnesium')"
      ],
      "metadata": {
        "id": "GxCMLoR3Cv0_"
      },
      "id": "GxCMLoR3Cv0_",
      "execution_count": null,
      "outputs": []
    },
    {
      "cell_type": "code",
      "source": [
        "#Group values based on mean\n",
        "wine_df.groupby('magnesium').mean()"
      ],
      "metadata": {
        "id": "lOvS3gqpDW6p"
      },
      "id": "lOvS3gqpDW6p",
      "execution_count": null,
      "outputs": []
    },
    {
      "cell_type": "markdown",
      "source": [
        "#### Statiscial Measures"
      ],
      "metadata": {
        "id": "GwYy84L7DnmA"
      },
      "id": "GwYy84L7DnmA"
    },
    {
      "cell_type": "code",
      "source": [
        "wine_df.count()\n",
        "wine_df.mean()\n",
        "wine_df.std()\n",
        "wine_df.min()\n",
        "wine_df.describe() #All in one statiscaly data"
      ],
      "metadata": {
        "id": "UMq1YcWVDqML"
      },
      "id": "UMq1YcWVDqML",
      "execution_count": null,
      "outputs": []
    },
    {
      "cell_type": "markdown",
      "source": [
        "#### Manipulating a Dataframe\n",
        "- add, drop column and row\n",
        "- wine_df.drop(index=0,axis=0) row remove based on index AXIS=0\n",
        "- COLUMN wine_df.drop(columns='RandomAttach',axis=1)remove axis=1\n"
      ],
      "metadata": {
        "id": "ObdXB2GkEbro"
      },
      "id": "ObdXB2GkEbro"
    },
    {
      "cell_type": "code",
      "source": [
        "from sklearn.datasets import load_wine\n",
        "wine_dataset = load_wine()\n",
        "# print(wine_dataset)\n",
        "wine_df= pd.DataFrame(wine_dataset.data,columns=wine_dataset.feature_names)\n",
        "wine_df.head()\n",
        "\n",
        "# Adding a column in dataframe\n",
        "# wine_dataset has target column till now wine_df uses only feature_name\n",
        "wine_df['Outcome']=wine_dataset.target\n",
        "wine_df.tail()\n",
        "\n",
        "#number of columns length should be same\n",
        "# wine_df.shape (178, 14)\n",
        "temp_np= np.random.randint(10,30,(178,1))\n",
        "# print(temp_np)\n",
        "wine_df['RandomAttach']=temp_np\n",
        "wine_df.tail()"
      ],
      "metadata": {
        "id": "rfjdt8jvEgSr"
      },
      "id": "rfjdt8jvEgSr",
      "execution_count": null,
      "outputs": []
    },
    {
      "cell_type": "code",
      "source": [
        "# Removing a row\n",
        "wine_df.head()\n",
        "# wine_df.shape\n",
        "wine_df.drop(index=2,axis=0)\n",
        "# wine_df.head()\n",
        "wine_df.drop(columns='RandomAttach',axis=1)"
      ],
      "metadata": {
        "id": "Uns3u6gFGbH6"
      },
      "id": "Uns3u6gFGbH6",
      "execution_count": null,
      "outputs": []
    },
    {
      "cell_type": "markdown",
      "source": [
        "#### Locating a row/column based on index\n"
      ],
      "metadata": {
        "id": "uNrLVFAyHoXr"
      },
      "id": "uNrLVFAyHoXr"
    },
    {
      "cell_type": "code",
      "source": [
        "wine_df_afterRemovingColumn=wine_df.drop(columns='RandomAttach',axis=1)\n",
        "wine_df_afterRemovingColumn.iloc[2]"
      ],
      "metadata": {
        "id": "rYRRc7J6Htco"
      },
      "id": "rYRRc7J6Htco",
      "execution_count": null,
      "outputs": []
    },
    {
      "cell_type": "code",
      "source": [
        "wine_df_afterRemovingColumn.iloc[:,0] #First column\n",
        "wine_df_afterRemovingColumn.iloc[3,0]\n",
        "wine_df_afterRemovingColumn.iloc[:,-1] #Last column"
      ],
      "metadata": {
        "id": "bJ4SLvzxILG2"
      },
      "id": "bJ4SLvzxILG2",
      "execution_count": null,
      "outputs": []
    },
    {
      "cell_type": "markdown",
      "source": [
        "#### Correlation\n",
        "- Positive and Negative\n",
        "- Relation between various columns"
      ],
      "metadata": {
        "id": "2FWxSE8WNoXI"
      },
      "id": "2FWxSE8WNoXI"
    },
    {
      "cell_type": "code",
      "source": [
        "wine_df.head()\n",
        "wine_df.corr() # All columns wrt to other column\n"
      ],
      "metadata": {
        "collapsed": true,
        "id": "mJo3wXiSNxzU"
      },
      "id": "mJo3wXiSNxzU",
      "execution_count": null,
      "outputs": []
    },
    {
      "cell_type": "markdown",
      "source": [
        "## Matplotlib - Plots\n",
        "- Numpy usage\n",
        "  - np.sin(x) cos(x) trignometry x can be array\n",
        "  - x**2 parabola\n",
        "- Plotting Values (X & Y Plotting)\n",
        "  - plt.plot(x,z) plot(x,y,'r+') 'g.' // color and sign\n",
        "  - plt.show()\n",
        "  - plt.xlabel(name) .ylabel(name) .title(PlotName)\n",
        "- Bar Plot\n",
        "  - plt.figure()\n",
        "  - ax = fig.add_axes([0,0,1,1])\n",
        "  - ax.bar(languages,people) 1d 1d array data\n",
        "- Pie Chart\n",
        "  - ax.pie(people,labels=languages,autopct='%1.1f%%') one decimal places\n",
        "- Scatter Plotn # useful in clustering data\n",
        "  - ax.scatter(x,y,color='g')\n",
        "  - x and y 1d values\n",
        "- 3D Scatter Plot\n",
        "  - ax = plt.axes(projection='3d') (projection='3d') #need to mention"
      ],
      "metadata": {
        "id": "LNaVY1F5w0cb"
      },
      "id": "LNaVY1F5w0cb"
    },
    {
      "cell_type": "code",
      "source": [
        "#importing library\n",
        "import matplotlib.pyplot as plt\n",
        "#imporint np for data to plot\n",
        "import numpy as np"
      ],
      "metadata": {
        "id": "T2zIDWJ7xAwL"
      },
      "id": "T2zIDWJ7xAwL",
      "execution_count": null,
      "outputs": []
    },
    {
      "cell_type": "code",
      "source": [
        "x= np.linspace(0,10,100) #total 100 values\n",
        "y= np.sin(x) # Create 100 values as vector\n",
        "z= np.cos(x)"
      ],
      "metadata": {
        "id": "VkqfZ2cjyuHC"
      },
      "id": "VkqfZ2cjyuHC",
      "execution_count": null,
      "outputs": []
    },
    {
      "cell_type": "markdown",
      "source": [
        "#### Plotting the Data (X and Y type)"
      ],
      "metadata": {
        "id": "0J0mf7KBznO0"
      },
      "id": "0J0mf7KBznO0"
    },
    {
      "cell_type": "code",
      "source": [
        "# sine wave x and y\n",
        "plt.plot(x,y)\n",
        "plt.show()\n"
      ],
      "metadata": {
        "id": "UueyrzkXzk8-"
      },
      "id": "UueyrzkXzk8-",
      "execution_count": null,
      "outputs": []
    },
    {
      "cell_type": "code",
      "source": [
        "#cosine Wave\n",
        "#Adding Labels in x and y\n",
        "plt.plot(x,z)\n",
        "plt.xlabel(\"Angles\")\n",
        "plt.ylabel(\"Cos Value\")\n",
        "plt.title(\"Trignometry\")\n",
        "plt.show()\n",
        "\n"
      ],
      "metadata": {
        "id": "-Bjn0idw0EGA"
      },
      "id": "-Bjn0idw0EGA",
      "execution_count": null,
      "outputs": []
    },
    {
      "cell_type": "code",
      "source": [
        "#PARABOLA\n",
        "x= np.linspace(-10,10,20)\n",
        "y= x**2\n",
        "plt.plot(x,y,'r+')\n",
        "plt.plot(x,y,'g.')\n",
        "plt.show()"
      ],
      "metadata": {
        "id": "Prp3Xy3V08WA"
      },
      "id": "Prp3Xy3V08WA",
      "execution_count": null,
      "outputs": []
    },
    {
      "cell_type": "code",
      "source": [
        "#Merging Graphs\n",
        "x= np.linspace(-10,10,500)\n",
        "plt.plot(x,np.sin(x),'r+')\n",
        "plt.plot(x,np.cos(x),'g.')\n",
        "plt.show()"
      ],
      "metadata": {
        "id": "aXeMBrAe1gbl"
      },
      "id": "aXeMBrAe1gbl",
      "execution_count": null,
      "outputs": []
    },
    {
      "cell_type": "markdown",
      "source": [
        "#### Bar Plot"
      ],
      "metadata": {
        "id": "lga8fPZp15kd"
      },
      "id": "lga8fPZp15kd"
    },
    {
      "cell_type": "code",
      "source": [
        "fig= plt.figure() # Empty plot blank\n",
        "ax = fig.add_axes([0,0,1,1]) # Area of plot General value used\n",
        "languages= ['E','A','F','D']\n",
        "people= [100,30,40,50]\n",
        "# language and people same dimension\n",
        "\n",
        "ax.bar(languages,people)\n",
        "plt.xlabel(\"Languages\")\n",
        "plt.ylabel(\"No. of people\")\n",
        "plt.show()"
      ],
      "metadata": {
        "id": "dwED6olF18WD"
      },
      "id": "dwED6olF18WD",
      "execution_count": null,
      "outputs": []
    },
    {
      "cell_type": "markdown",
      "source": [
        "#### Pie Chart"
      ],
      "metadata": {
        "id": "gy9PiGan55N9"
      },
      "id": "gy9PiGan55N9"
    },
    {
      "cell_type": "code",
      "source": [
        "fig1 = plt.figure()\n",
        "ax = fig1.add_axes([0,0,1,1]) # Area of plot\n",
        "languages= ['E','A','F','D']\n",
        "people= [100,30,40,50]\n",
        "ax.pie(people,labels=languages,autopct='%1.1f%%')\n",
        "plt.show()\n"
      ],
      "metadata": {
        "id": "NXmX154p56wX"
      },
      "id": "NXmX154p56wX",
      "execution_count": null,
      "outputs": []
    },
    {
      "cell_type": "markdown",
      "source": [
        "#### Scatter Plot"
      ],
      "metadata": {
        "id": "2LF2ETPU80Om"
      },
      "id": "2LF2ETPU80Om"
    },
    {
      "cell_type": "code",
      "source": [
        "# useful in clustering data\n",
        "x= np.linspace(0,10,30)\n",
        "y= np.sin(x)\n",
        "z=np.cos(x)\n",
        "fig2 = plt.figure()\n",
        "ax = fig2.add_axes([0,0,1,1]) # Area of plot Rectangular\n",
        "ax.scatter(x,y,color='g')\n",
        "ax.scatter(x,z,color='b')\n",
        "plt.show()\n",
        "\n"
      ],
      "metadata": {
        "id": "OdCQZJ1u87fo"
      },
      "id": "OdCQZJ1u87fo",
      "execution_count": null,
      "outputs": []
    },
    {
      "cell_type": "markdown",
      "source": [
        "#### 3D Scatter Plot"
      ],
      "metadata": {
        "id": "RB9U-MW_9lDF"
      },
      "id": "RB9U-MW_9lDF"
    },
    {
      "cell_type": "code",
      "source": [
        "fig2 = plt.figure()\n",
        "ax = plt.axes(projection='3d') #need to mention\n",
        "z= 20*np.random.random(100)\n",
        "x=np.sin(z)\n",
        "y=np.cos(z)\n",
        "ax.scatter(x,y,z,c=z,cmap='Blues')\n",
        "plt.show()"
      ],
      "metadata": {
        "id": "9qlZCXTS9nLS"
      },
      "id": "9qlZCXTS9nLS",
      "execution_count": null,
      "outputs": []
    },
    {
      "cell_type": "markdown",
      "source": [
        "## Seaborn - Data Visualization Library\n",
        "- Like Matplot helpful (Sometimes build seaborn plot on top of matplot)\n",
        "- Different Types of plot\n",
        "- Seaborn has some build-in datasets imported as form of `pandas dataframe`\n",
        "  - sns.load_dataset\n",
        "- Commands\n",
        "  - sns.set_theme() // more space and grids\n",
        "  - sns.relplot(data=tips,x='total_bill',y='tip',col='time',hue='smoker',style='smoker',size='size')\n",
        "    - col (differnet plots) hue(same plot differentiate based on hue column)\n",
        "  - sns.scatterplot(x='sepal_length',y='petal_length',hue='species',data=iris)\n",
        "  - sns.countplot(x='class',data=titanic)\n",
        "  - sns.barplot(x='sex',y='survived',hue='class',data=titanic)\n",
        "    - hue(same plot differentiate based on hue column)\n",
        "  - sns.distplot(wine_df['alcohol'])\n"
      ],
      "metadata": {
        "id": "b_CzbqGNkFyC"
      },
      "id": "b_CzbqGNkFyC"
    },
    {
      "cell_type": "code",
      "source": [
        "import seaborn as sns\n",
        "import matplotlib.pyplot as plt\n",
        "import numpy as np\n",
        "import pandas as pd"
      ],
      "metadata": {
        "id": "e2saC6mvkWRO"
      },
      "id": "e2saC6mvkWRO",
      "execution_count": null,
      "outputs": []
    },
    {
      "cell_type": "markdown",
      "source": [
        "#### Build in Seaborn Datasets"
      ],
      "metadata": {
        "id": "A1aP5MGmk4_2"
      },
      "id": "A1aP5MGmk4_2"
    },
    {
      "cell_type": "code",
      "source": [
        "tips= sns.load_dataset(\"tips\")\n",
        "# this tips is pandas dataframe\n",
        "tips.head()"
      ],
      "metadata": {
        "id": "jb2vMZ8jk2Q2"
      },
      "id": "jb2vMZ8jk2Q2",
      "execution_count": null,
      "outputs": []
    },
    {
      "cell_type": "code",
      "source": [
        "#Setting the theme for plots\n",
        "sns.set_theme()\n",
        "# more spaced and grids"
      ],
      "metadata": {
        "id": "yYry26LinCaC"
      },
      "id": "yYry26LinCaC",
      "execution_count": null,
      "outputs": []
    },
    {
      "cell_type": "markdown",
      "source": [
        "##### Normal Plot"
      ],
      "metadata": {
        "id": "IGvhpTXgQmVH"
      },
      "id": "IGvhpTXgQmVH"
    },
    {
      "cell_type": "code",
      "source": [
        "#Visualize data x axis and yaxis with column name + COL (multiple plots for unique value of col)\n",
        "# Data differentiated based on smoker\n",
        "#HUE helps in differentiating us column differnet types\n",
        "sns.relplot(data=tips,x='total_bill',y='tip',col='time',hue='smoker',style='smoker',size='size')\n"
      ],
      "metadata": {
        "id": "7eDhNQ_7lKS6"
      },
      "id": "7eDhNQ_7lKS6",
      "execution_count": null,
      "outputs": []
    },
    {
      "cell_type": "code",
      "source": [
        "#Load the iris databaset //flower and species\n",
        "iris=sns.load_dataset(\"iris\")\n",
        "iris.head()\n"
      ],
      "metadata": {
        "id": "R3TYWZzRnS3r"
      },
      "id": "R3TYWZzRnS3r",
      "execution_count": null,
      "outputs": []
    },
    {
      "cell_type": "markdown",
      "source": [
        "##### Scatter Plot"
      ],
      "metadata": {
        "id": "3oDfSN_KQkCw"
      },
      "id": "3oDfSN_KQkCw"
    },
    {
      "cell_type": "code",
      "source": [
        "#Predict species of flower based on length and width of sepal and petal\n",
        "\n",
        "#Scatter Plot\n",
        "# sns.scatterplot(x='sepal_length',y='petal_length',hue='species',data=iris)\n",
        "# speices -> differnet colour\n",
        "sns.scatterplot(x='sepal_width',y='petal_width',hue='species',data=iris)\n"
      ],
      "metadata": {
        "id": "9n6a3OpLnpA1"
      },
      "id": "9n6a3OpLnpA1",
      "execution_count": null,
      "outputs": []
    },
    {
      "cell_type": "markdown",
      "source": [
        "##### Titanic Datasets"
      ],
      "metadata": {
        "id": "NETUXiCCQr9z"
      },
      "id": "NETUXiCCQr9z"
    },
    {
      "cell_type": "code",
      "source": [
        "titanic= sns.load_dataset(\"titanic\")\n",
        "titanic.head()\n",
        "# print(titanic.shape)"
      ],
      "metadata": {
        "id": "LaH-UCFkQwT4"
      },
      "id": "LaH-UCFkQwT4",
      "execution_count": null,
      "outputs": []
    },
    {
      "cell_type": "markdown",
      "source": [
        "##### Count Plot"
      ],
      "metadata": {
        "id": "wmFKMybsQ5g7"
      },
      "id": "wmFKMybsQ5g7"
    },
    {
      "cell_type": "code",
      "source": [
        "sns.countplot(x='class',data=titanic)\n",
        "sns.countplot(x='survived',data=titanic)"
      ],
      "metadata": {
        "id": "m5UK3o3xQ7v5"
      },
      "id": "m5UK3o3xQ7v5",
      "execution_count": null,
      "outputs": []
    },
    {
      "cell_type": "markdown",
      "source": [
        "##### Bar chart Plot"
      ],
      "metadata": {
        "id": "6Y0g2rr6RPu0"
      },
      "id": "6Y0g2rr6RPu0"
    },
    {
      "cell_type": "code",
      "source": [
        "sns.barplot(x='sex',y='survived',hue='class',data=titanic)"
      ],
      "metadata": {
        "id": "YJd-6Fb3RPay"
      },
      "id": "YJd-6Fb3RPay",
      "execution_count": null,
      "outputs": []
    },
    {
      "cell_type": "markdown",
      "source": [
        "##### House Price Datasets SKLEARN"
      ],
      "metadata": {
        "id": "i0KOS9c6SJAL"
      },
      "id": "i0KOS9c6SJAL"
    },
    {
      "cell_type": "code",
      "source": [
        "from sklearn.datasets import load_wine\n",
        "wine_dataset = load_wine()\n",
        "\n",
        "wine_df= pd.DataFrame(wine_dataset.data,columns=wine_dataset.feature_names)\n",
        "wine_df[\"target\"]=wine_dataset.target\n",
        "\n",
        "wine_df.tail()"
      ],
      "metadata": {
        "id": "EmFGdgCXSLTS"
      },
      "id": "EmFGdgCXSLTS",
      "execution_count": null,
      "outputs": []
    },
    {
      "cell_type": "markdown",
      "source": [
        "##### Distribution Plot\n",
        "  - Count vs range of all values"
      ],
      "metadata": {
        "id": "xEMNoGWjTYUl"
      },
      "id": "xEMNoGWjTYUl"
    },
    {
      "cell_type": "code",
      "source": [
        "sns.distplot(wine_df['alcohol'])"
      ],
      "metadata": {
        "id": "Q5VPjZQcS84c"
      },
      "id": "Q5VPjZQcS84c",
      "execution_count": null,
      "outputs": []
    }
  ],
  "metadata": {
    "colab": {
      "provenance": []
    },
    "language_info": {
      "name": "python"
    },
    "kernelspec": {
      "name": "python3",
      "display_name": "Python 3"
    }
  },
  "nbformat": 4,
  "nbformat_minor": 5
}