{
  "nbformat": 4,
  "nbformat_minor": 0,
  "metadata": {
    "colab": {
      "provenance": [],
      "authorship_tag": "ABX9TyNULQcsCcbOceijW2wxVm4l",
      "include_colab_link": true
    },
    "kernelspec": {
      "name": "python3",
      "display_name": "Python 3"
    },
    "language_info": {
      "name": "python"
    }
  },
  "cells": [
    {
      "cell_type": "markdown",
      "metadata": {
        "id": "view-in-github",
        "colab_type": "text"
      },
      "source": [
        "<a href=\"https://colab.research.google.com/github/1500-Shubham/ML_With_Python_GoogleColab/blob/main/FakeNewsDetectionProject.ipynb\" target=\"_parent\"><img src=\"https://colab.research.google.com/assets/colab-badge.svg\" alt=\"Open In Colab\"/></a>"
      ]
    },
    {
      "cell_type": "markdown",
      "source": [
        "### Text Dataset PreProcessing\n",
        "- re library for regular expression\n",
        "- nltk\n",
        "  - corpus is collection of words\n",
        "  - natural language tool kit -> text processing\n",
        "  - Stopwords -> english words that appear frequently in english sentences\n",
        "    - for data preprocessing need to remove them as they dont convey much information\n",
        "  - PorterStemmer - For Stemming\n",
        "- Stemming: is the process of reducing a word to its root word\n",
        "  - ex. enjoy enjoyinh enjoyable can be replaced with enjoy\n",
        "  - re.sub('[^a-zA-Z]') using regular expression\n",
        "- Text data to numerical data\n",
        "  - use Tfidf Vectorizer\n",
        "\n",
        "Steps:\n",
        "- Select input fields merge columns\n",
        "- Text -> stemming stopwords convert\n",
        "- Text -> Numerical Vectorizer\n",
        "  - vectorizer uses only string not list when fit and transform\n",
        "- now everything in numericals\n",
        "- Train and Split"
      ],
      "metadata": {
        "id": "57IbcktCeE-2"
      }
    }
  ]
}