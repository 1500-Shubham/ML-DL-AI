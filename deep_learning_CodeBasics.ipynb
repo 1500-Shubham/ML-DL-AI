{
  "cells": [
    {
      "cell_type": "markdown",
      "source": [
        "# Handwritten Digits - Project-1 - Tensorboard Introduction\n",
        "- Tensorflow and Keras to create neural network\n",
        "  - takes input output and layers details like\n",
        "    - activcation fucntion\n",
        "    - loss fucntion\n",
        "    - accuracy metrics\n",
        "- Confusion matrix between predcited and test\n",
        "- plot using sns"
      ],
      "metadata": {
        "id": "zzJ3VuJ_i3eh"
      },
      "id": "zzJ3VuJ_i3eh"
    },
    {
      "cell_type": "code",
      "source": [
        "import tensorflow as tf\n",
        "from tensorflow import keras\n",
        "import matplotlib.pyplot as plt\n",
        "%matplotlib inline\n",
        "#It tells the notebook to display matplotlib plots directly below the code cells that produce them, rather than in a separate window.\n",
        "import numpy as np"
      ],
      "metadata": {
        "id": "-ufdhgfNi7na"
      },
      "id": "-ufdhgfNi7na",
      "execution_count": null,
      "outputs": []
    },
    {
      "cell_type": "code",
      "source": [
        "from tensorflow.keras.datasets import mnist"
      ],
      "metadata": {
        "id": "ekH16FdAkBgR"
      },
      "id": "ekH16FdAkBgR",
      "execution_count": null,
      "outputs": []
    },
    {
      "cell_type": "markdown",
      "source": [
        "## Loading Databaset using Keras\n",
        "- Train and Split in Keras"
      ],
      "metadata": {
        "id": "F7BYfvKplv5b"
      },
      "id": "F7BYfvKplv5b"
    },
    {
      "cell_type": "code",
      "source": [
        "(x_train, y_train), (x_test, y_test) = mnist.load_data()"
      ],
      "metadata": {
        "id": "THJm4jCkkRA_"
      },
      "id": "THJm4jCkkRA_",
      "execution_count": null,
      "outputs": []
    },
    {
      "cell_type": "code",
      "source": [
        "# Each Image as 2D array of 28x28\n",
        "\n",
        "len(x_train)\n",
        "len(y_train)\n",
        "len(x_test)\n",
        "# X train and y_train are 2d arrays"
      ],
      "metadata": {
        "id": "YqR4ZzMvkl35"
      },
      "id": "YqR4ZzMvkl35",
      "execution_count": null,
      "outputs": []
    },
    {
      "cell_type": "markdown",
      "source": [
        "### MNIST\n",
        "- Handwritten digits data in 2D form\n",
        "- 0 means black 255 means white"
      ],
      "metadata": {
        "id": "u430bXOckukr"
      },
      "id": "u430bXOckukr"
    },
    {
      "cell_type": "code",
      "source": [
        "print(len(x_train[0]))\n",
        "print(x_train[0])\n",
        "# This is 2D array"
      ],
      "metadata": {
        "id": "KBkqqsfQk18g"
      },
      "id": "KBkqqsfQk18g",
      "execution_count": null,
      "outputs": []
    },
    {
      "cell_type": "markdown",
      "source": [
        "### See Image using Matplot\n",
        "- plt.matshow(2D array)"
      ],
      "metadata": {
        "id": "dXyHJd_vlMOT"
      },
      "id": "dXyHJd_vlMOT"
    },
    {
      "cell_type": "code",
      "source": [
        "plt.matshow(x_train[100])\n",
        "print(y_train[100])"
      ],
      "metadata": {
        "id": "_ecDtgXFlQUR"
      },
      "id": "_ecDtgXFlQUR",
      "execution_count": null,
      "outputs": []
    },
    {
      "cell_type": "markdown",
      "source": [
        "### Flatten 2D array 28X28 into 1D array"
      ],
      "metadata": {
        "id": "4auSI99-l1ZN"
      },
      "id": "4auSI99-l1ZN"
    },
    {
      "cell_type": "code",
      "source": [
        "x_train.shape\n",
        "# number of rows\n",
        "# each rows is 2d array"
      ],
      "metadata": {
        "id": "LRl59aQGl6rT"
      },
      "id": "LRl59aQGl6rT",
      "execution_count": null,
      "outputs": []
    },
    {
      "cell_type": "code",
      "source": [
        "# Want (60000,784)\n",
        "x_train_flattened = x_train.reshape(len(x_train),28*28)\n",
        "x_test_flattened = x_test.reshape(len(x_test),28*28)\n",
        "x_train_flattened.shape"
      ],
      "metadata": {
        "id": "G8uE_FGTl53q"
      },
      "id": "G8uE_FGTl53q",
      "execution_count": null,
      "outputs": []
    },
    {
      "cell_type": "code",
      "source": [
        "x_train_flattened[0]\n",
        "print(len(x_train_flattened[0]))"
      ],
      "metadata": {
        "id": "n3vm7uMkmXJW"
      },
      "id": "n3vm7uMkmXJW",
      "execution_count": null,
      "outputs": []
    },
    {
      "cell_type": "markdown",
      "source": [
        "### Scaling the x_train data between 0 to 1\n",
        "- Divide by 255"
      ],
      "metadata": {
        "id": "OBbKyyCEpoNF"
      },
      "id": "OBbKyyCEpoNF"
    },
    {
      "cell_type": "code",
      "source": [
        "x_train_flattened = x_train_flattened/255"
      ],
      "metadata": {
        "id": "5f1ULrfJptF0"
      },
      "id": "5f1ULrfJptF0",
      "execution_count": null,
      "outputs": []
    },
    {
      "cell_type": "code",
      "source": [
        "y_train[0:10]"
      ],
      "metadata": {
        "id": "wxiiuO_-613J"
      },
      "id": "wxiiuO_-613J",
      "execution_count": null,
      "outputs": []
    },
    {
      "cell_type": "markdown",
      "source": [
        "## Keras to Create Neural Network\n",
        "- want 784 as x1 x2 ... .x784 to connect with 10 ouputs 0 to 1\n",
        "- acitvation function = sigmoid\n",
        "- Then training using data yeh sab\n",
        "\n",
        "- Single layer input and output for now"
      ],
      "metadata": {
        "id": "c7QkkqnOnE7t"
      },
      "id": "c7QkkqnOnE7t"
    },
    {
      "cell_type": "code",
      "source": [
        "# Dense(10): A fully connected layer with 10 neurons\n",
        "# model = keras.Sequential([\n",
        "#     keras.layers.Dense(10,input_shape=(784,),activation='softmax')\n",
        "# ])\n",
        "\n",
        "# If dont want to flatten image tell its 28*28\n",
        "# Multiple layers hit and trial\n",
        "model = keras.Sequential([\n",
        "      # keras.layers.Flatten(input_shape=(28,28))\n",
        "    keras.layers.Dense(100,input_shape=(784,),activation='relu'),\n",
        "    keras.layers.Dense(10,activation='softmax')\n",
        "])\n",
        "\n",
        "\n",
        "# optimizer backward going to optain weight attain global minima\n",
        "# loss fucntion ouput and predicted difference used to attain weights\n",
        "# Gradient decent and cost function\n",
        "\n",
        "# metric when neural network compile goal is accuracy input output differtence\n",
        "model.compile(\n",
        "    optimizer='adam',\n",
        "    loss='sparse_categorical_crossentropy',\n",
        "    metrics=['accuracy']\n",
        "    )\n",
        "# epochs number of iteration the neural network going to train data\n",
        "model.fit(x_train_flattened,y_train,epochs=5)"
      ],
      "metadata": {
        "id": "gj94-wPHnNlx"
      },
      "id": "gj94-wPHnNlx",
      "execution_count": null,
      "outputs": []
    },
    {
      "cell_type": "markdown",
      "source": [
        "### Evaluating | Predicition Keral Model on Test Dataset"
      ],
      "metadata": {
        "id": "s3rI94vup9Ex"
      },
      "id": "s3rI94vup9Ex"
    },
    {
      "cell_type": "code",
      "source": [
        "model.evaluate(x_test_flattened,y_test)"
      ],
      "metadata": {
        "id": "S_nEsCthqARu"
      },
      "id": "S_nEsCthqARu",
      "execution_count": null,
      "outputs": []
    },
    {
      "cell_type": "code",
      "source": [
        "plt.matshow(x_test[50])"
      ],
      "metadata": {
        "id": "02__G9G_qrrV"
      },
      "id": "02__G9G_qrrV",
      "execution_count": null,
      "outputs": []
    },
    {
      "cell_type": "code",
      "source": [
        "y_predict= model.predict(x_test_flattened)\n",
        "print(y_predict[50])\n",
        "# This is 10 neurons output probability"
      ],
      "metadata": {
        "id": "D7x7ovHQrXty"
      },
      "id": "D7x7ovHQrXty",
      "execution_count": null,
      "outputs": []
    },
    {
      "cell_type": "code",
      "source": [
        "# Exact ouput based on 10 neurons\n",
        "# np.argmax returns the index of the max probability, i.e., the predicted class.\n",
        "print(np.argmax(y_predict[50]))"
      ],
      "metadata": {
        "id": "Co7wulzurnLG"
      },
      "id": "Co7wulzurnLG",
      "execution_count": null,
      "outputs": []
    },
    {
      "cell_type": "code",
      "source": [
        "y_test[49:52]"
      ],
      "metadata": {
        "id": "kpWS0X_wtEGz"
      },
      "id": "kpWS0X_wtEGz",
      "execution_count": null,
      "outputs": []
    },
    {
      "cell_type": "markdown",
      "source": [
        "### Convert y_predicted into concrete class similar to y_test"
      ],
      "metadata": {
        "id": "mwHX7hH_tNsk"
      },
      "id": "mwHX7hH_tNsk"
    },
    {
      "cell_type": "code",
      "source": [
        "y_predicted_labels = np.argmax(y_predict, axis=1)"
      ],
      "metadata": {
        "id": "4AmrvBjatVGS"
      },
      "id": "4AmrvBjatVGS",
      "execution_count": null,
      "outputs": []
    },
    {
      "cell_type": "code",
      "source": [
        "y_predicted_labels[49:52]"
      ],
      "metadata": {
        "id": "2v1sOa6ytWk0"
      },
      "id": "2v1sOa6ytWk0",
      "execution_count": null,
      "outputs": []
    },
    {
      "cell_type": "markdown",
      "source": [
        "## Building Confusion Matrix"
      ],
      "metadata": {
        "id": "DT5ArGQes7Rv"
      },
      "id": "DT5ArGQes7Rv"
    },
    {
      "cell_type": "code",
      "source": [
        "from sklearn.metrics import confusion_matrix\n",
        "\n",
        "conf_matrix = confusion_matrix(y_test, y_predicted_labels)\n",
        "print(conf_matrix)\n",
        "\n",
        "# confusion_matrix = tf.math.confusion.matrix(labels=y_test, predictions=y_predicted_labels)\n",
        "# confusion_matrix"
      ],
      "metadata": {
        "id": "xa-FD69Ms-Q0"
      },
      "id": "xa-FD69Ms-Q0",
      "execution_count": null,
      "outputs": []
    },
    {
      "cell_type": "markdown",
      "source": [
        "### Visualize using seaborn"
      ],
      "metadata": {
        "id": "ij_jRKB2t2Bm"
      },
      "id": "ij_jRKB2t2Bm"
    },
    {
      "cell_type": "code",
      "source": [
        "import seaborn as sns"
      ],
      "metadata": {
        "id": "VIs7_8wwt4z9"
      },
      "id": "VIs7_8wwt4z9",
      "execution_count": null,
      "outputs": []
    },
    {
      "cell_type": "code",
      "source": [
        "plt.figure(figsize=(10, 8))\n",
        "sns.heatmap(conf_matrix, annot=True, fmt='d', cmap='Blues',\n",
        "            xticklabels=np.arange(10), yticklabels=np.arange(10))\n",
        "plt.xlabel('Predicted Label')\n",
        "plt.ylabel('True Label')\n",
        "plt.title('MNIST Confusion Matrix')\n",
        "plt.show()"
      ],
      "metadata": {
        "id": "WVZur1qZuJh_"
      },
      "id": "WVZur1qZuJh_",
      "execution_count": null,
      "outputs": []
    },
    {
      "cell_type": "markdown",
      "source": [],
      "metadata": {
        "id": "PKQFAFOYvT46"
      },
      "id": "PKQFAFOYvT46"
    },
    {
      "cell_type": "markdown",
      "source": [
        "## Tensorboard\n",
        "- Visualize tensorflow model accuracy loss etc"
      ],
      "metadata": {
        "id": "eM7ewKK-LFdX"
      },
      "id": "eM7ewKK-LFdX"
    },
    {
      "cell_type": "code",
      "source": [
        "\n",
        "model = keras.Sequential([\n",
        "    keras.layers.Dense(100,input_shape=(784,),activation='relu'),\n",
        "    keras.layers.Dense(10,activation='softmax')\n",
        "])\n",
        "\n",
        "# Tensorboard callback\n",
        "tf_callback= tf.keras.callbacks.TensorBoard(log_dir='/content/logs/',histogram_freq=1)\n",
        "\n",
        "model.compile(\n",
        "    optimizer='SGD',\n",
        "    loss='sparse_categorical_crossentropy',\n",
        "    metrics=['accuracy']\n",
        "    )\n",
        "# Tensorboard use in fit\n",
        "model.fit(x_train_flattened,y_train,epochs=5,callbacks=[tf_callback])"
      ],
      "metadata": {
        "id": "rR7A-Oj5LN3E"
      },
      "id": "rR7A-Oj5LN3E",
      "execution_count": null,
      "outputs": []
    },
    {
      "cell_type": "markdown",
      "source": [
        "### Visualize Tensorboard File"
      ],
      "metadata": {
        "id": "F2-TITf0MQMH"
      },
      "id": "F2-TITf0MQMH"
    },
    {
      "cell_type": "code",
      "source": [
        "%load_ext tensorboard\n",
        "%tensorboard --logdir /content/logs/"
      ],
      "metadata": {
        "id": "QRiQN6NDMPri"
      },
      "id": "QRiQN6NDMPri",
      "execution_count": null,
      "outputs": []
    },
    {
      "cell_type": "markdown",
      "source": [
        "# Activation Functions\n",
        "- Use Sigmoid at output layer = [probability 0,1]\n",
        "- Between layers use tanh\n",
        "\n",
        "- Not sure of activation Use Relu max(0,x)\n",
        "- Leaky Relu max(01.x,x)"
      ],
      "metadata": {
        "id": "FRWn90lg-x26"
      },
      "id": "FRWn90lg-x26"
    },
    {
      "cell_type": "code",
      "source": [
        "import math"
      ],
      "metadata": {
        "id": "neNPjeFr_Ajf"
      },
      "id": "neNPjeFr_Ajf",
      "execution_count": null,
      "outputs": []
    },
    {
      "cell_type": "code",
      "source": [
        "# Sigmoid\n",
        "def sigmoid(x):\n",
        "  return 1/(1+math.exp(-x))"
      ],
      "metadata": {
        "id": "GQyZg7fs-xag"
      },
      "id": "GQyZg7fs-xag",
      "execution_count": null,
      "outputs": []
    },
    {
      "cell_type": "code",
      "source": [
        "sigmoid(-0)"
      ],
      "metadata": {
        "id": "ZR8ikMnD_HGg"
      },
      "id": "ZR8ikMnD_HGg",
      "execution_count": null,
      "outputs": []
    },
    {
      "cell_type": "code",
      "source": [
        "# tanh\n",
        "def tanh(x):\n",
        "  return (math.exp(x)-math.exp(-x))/(math.exp(x)+math.exp(-x))"
      ],
      "metadata": {
        "id": "DyWzbfP4_I5W"
      },
      "id": "DyWzbfP4_I5W",
      "execution_count": null,
      "outputs": []
    },
    {
      "cell_type": "code",
      "source": [
        "tanh(100)"
      ],
      "metadata": {
        "id": "E6zWV6VH_VKh"
      },
      "id": "E6zWV6VH_VKh",
      "execution_count": null,
      "outputs": []
    },
    {
      "cell_type": "code",
      "source": [
        "# RELU\n",
        "def relu(x):\n",
        "  return max(0,x)\n",
        "def leaky_relu(x):\n",
        "  return max(0.1*x,x)"
      ],
      "metadata": {
        "id": "VEvHJrOp_W-I"
      },
      "id": "VEvHJrOp_W-I",
      "execution_count": null,
      "outputs": []
    },
    {
      "cell_type": "code",
      "source": [
        "relu(0.5)\n",
        "leaky_relu(-0.5)"
      ],
      "metadata": {
        "id": "ixanqQEn_aZq"
      },
      "id": "ixanqQEn_aZq",
      "execution_count": null,
      "outputs": []
    },
    {
      "cell_type": "markdown",
      "source": [
        "# Gradient Descent in Neural\n",
        "- Keras directly model leke train and fit\n",
        "- get weights and bias after epochs\n",
        "- Python simple implementation for x and y matrix to get weights"
      ],
      "metadata": {
        "id": "oanPGZ6X0x9n"
      },
      "id": "oanPGZ6X0x9n"
    },
    {
      "cell_type": "code",
      "source": [
        "import numpy as np\n",
        "import tensorflow as tf\n",
        "from tensorflow import keras\n",
        "import pandas as pd\n",
        "from matplotlib import pyplot as plt\n",
        "%matplotlib inline"
      ],
      "metadata": {
        "id": "vtQOfIdh063d"
      },
      "id": "vtQOfIdh063d",
      "execution_count": null,
      "outputs": []
    },
    {
      "cell_type": "code",
      "source": [
        "df = pd.read_csv(\"insurance_data.csv\")\n",
        "df.head()"
      ],
      "metadata": {
        "id": "6JwCLWHT2Hn7"
      },
      "id": "6JwCLWHT2Hn7",
      "execution_count": null,
      "outputs": []
    },
    {
      "cell_type": "code",
      "source": [
        "x = df[['age','affordibility']]\n",
        "x.head()\n",
        "y= df['bought_insurance']\n",
        "y.head()\n",
        "x.shape"
      ],
      "metadata": {
        "id": "1xAyVnXX2I4H"
      },
      "id": "1xAyVnXX2I4H",
      "execution_count": null,
      "outputs": []
    },
    {
      "cell_type": "markdown",
      "source": [
        "### Train and Test and Scaling Data"
      ],
      "metadata": {
        "id": "T5LKOnTd2ZKF"
      },
      "id": "T5LKOnTd2ZKF"
    },
    {
      "cell_type": "code",
      "source": [
        "from sklearn.model_selection import train_test_split\n",
        "X_train, X_test, y_train, y_test = train_test_split(df[['age','affordibility']],df.bought_insurance,test_size=0.2, random_state=25)\n"
      ],
      "metadata": {
        "id": "ZOr0v6wl2XYe"
      },
      "id": "ZOr0v6wl2XYe",
      "execution_count": null,
      "outputs": []
    },
    {
      "cell_type": "markdown",
      "source": [
        "#### Scaling Data Age / 100"
      ],
      "metadata": {
        "id": "T5pcCCtC2nOS"
      },
      "id": "T5pcCCtC2nOS"
    },
    {
      "cell_type": "code",
      "source": [
        "\n",
        "X_train_scaled = X_train.copy()\n",
        "X_train_scaled['age'] = X_train_scaled['age'] / 100\n",
        "\n",
        "X_test_scaled = X_test.copy()\n",
        "X_test_scaled['age'] = X_test_scaled['age'] / 100"
      ],
      "metadata": {
        "id": "NTcrwM2V2e3N"
      },
      "id": "NTcrwM2V2e3N",
      "execution_count": null,
      "outputs": []
    },
    {
      "cell_type": "code",
      "source": [
        "X_train_scaled.head()"
      ],
      "metadata": {
        "id": "feS8dMx32jwL"
      },
      "id": "feS8dMx32jwL",
      "execution_count": null,
      "outputs": []
    },
    {
      "cell_type": "markdown",
      "source": [
        "## Model-1 Keras and Tensorflow"
      ],
      "metadata": {
        "id": "kZIGsH_F2rOE"
      },
      "id": "kZIGsH_F2rOE"
    },
    {
      "cell_type": "code",
      "source": [
        "# inputs to one output can use model from sklearn like logisitc but can be converted into\n",
        "# neurals if written in this way\n",
        "\n",
        "# Logistic Regression in Keras = Neural Network with:\n",
        "# 1 Dense layer\n",
        "\n",
        "# No hidden layers\n",
        "\n",
        "# Sigmoid activation (for binary classification)\n",
        "\n",
        "# Binary crossentropy loss\n",
        "\n",
        "model = keras.Sequential([\n",
        "    keras.layers.Dense(1, input_shape=(2,), activation='sigmoid', kernel_initializer='ones', bias_initializer='zeros')\n",
        "])\n",
        "\n",
        "# since logistic regression hai loss fucntion is log loss\n",
        "model.compile(optimizer='adam',\n",
        "              loss='binary_crossentropy',\n",
        "              metrics=['accuracy'])\n",
        "\n",
        "model.fit(X_train_scaled, y_train, epochs=500)"
      ],
      "metadata": {
        "id": "xVj-5sNq2ubP"
      },
      "id": "xVj-5sNq2ubP",
      "execution_count": null,
      "outputs": []
    },
    {
      "cell_type": "markdown",
      "source": [
        "### Evaluate the model"
      ],
      "metadata": {
        "id": "Cg3m7PMb3yQZ"
      },
      "id": "Cg3m7PMb3yQZ"
    },
    {
      "cell_type": "code",
      "source": [
        "model.evaluate(X_test_scaled,y_test)"
      ],
      "metadata": {
        "id": "tyfGopKJ31Sb"
      },
      "id": "tyfGopKJ31Sb",
      "execution_count": null,
      "outputs": []
    },
    {
      "cell_type": "code",
      "source": [
        "model.predict(X_test_scaled)"
      ],
      "metadata": {
        "id": "A9SAZx8y33MT"
      },
      "id": "A9SAZx8y33MT",
      "execution_count": null,
      "outputs": []
    },
    {
      "cell_type": "code",
      "source": [
        "X_test_scaled"
      ],
      "metadata": {
        "id": "-BfefXEX37HE"
      },
      "id": "-BfefXEX37HE",
      "execution_count": null,
      "outputs": []
    },
    {
      "cell_type": "code",
      "source": [
        "y_test"
      ],
      "metadata": {
        "id": "Uduloo1k4Gk8"
      },
      "id": "Uduloo1k4Gk8",
      "execution_count": null,
      "outputs": []
    },
    {
      "cell_type": "markdown",
      "source": [
        "### Coeff and Bias from the model which was trained\n",
        "- This means w1=5.060867, w2=1.4086502, bias =-2.9137027"
      ],
      "metadata": {
        "id": "55lII7064LAy"
      },
      "id": "55lII7064LAy"
    },
    {
      "cell_type": "code",
      "source": [
        "coef, intercept = model.get_weights()\n",
        "coef, intercept"
      ],
      "metadata": {
        "id": "Kc2aWP_k4OTK"
      },
      "id": "Kc2aWP_k4OTK",
      "execution_count": null,
      "outputs": []
    },
    {
      "cell_type": "markdown",
      "source": [
        "## Model-2 Using Python Done in Siddharsan Video\n",
        "- Loss function know\n",
        "- x y w1 w2 b and gradiet descent is know\n",
        "- learning rate and number of iteration known"
      ],
      "metadata": {
        "id": "3EMoc4FK4UlB"
      },
      "id": "3EMoc4FK4UlB"
    },
    {
      "cell_type": "code",
      "source": [
        "def sigmoid_numpy(X):\n",
        "   return 1/(1+np.exp(-X))\n",
        "\n",
        "sigmoid_numpy(np.array([12,0,1]))"
      ],
      "metadata": {
        "id": "1pBwfTfJ4ekF"
      },
      "id": "1pBwfTfJ4ekF",
      "execution_count": null,
      "outputs": []
    },
    {
      "cell_type": "code",
      "source": [
        "def log_loss(y_true, y_predicted):\n",
        "    epsilon = 1e-15\n",
        "    y_predicted_new = [max(i,epsilon) for i in y_predicted]\n",
        "    y_predicted_new = [min(i,1-epsilon) for i in y_predicted_new]\n",
        "    y_predicted_new = np.array(y_predicted_new)\n",
        "    return -np.mean(y_true*np.log(y_predicted_new)+(1-y_true)*np.log(1-y_predicted_new))"
      ],
      "metadata": {
        "id": "ntTMVSqx5Mtf"
      },
      "id": "ntTMVSqx5Mtf",
      "execution_count": null,
      "outputs": []
    },
    {
      "cell_type": "code",
      "source": [
        "def gradient_descent(age, affordability, y_true, epochs, loss_thresold):\n",
        "    w1 = w2 = 1\n",
        "    bias = 0\n",
        "    rate = 0.5 #Learning rate fix\n",
        "    n = len(age)\n",
        "    for i in range(epochs):\n",
        "        weighted_sum = w1 * age + w2 * affordability + bias\n",
        "        y_predicted = sigmoid_numpy(weighted_sum)\n",
        "        loss = log_loss(y_true, y_predicted)\n",
        "\n",
        "        w1d = (1/n)*np.dot(np.transpose(age),(y_predicted-y_true))\n",
        "        w2d = (1/n)*np.dot(np.transpose(affordability),(y_predicted-y_true))\n",
        "\n",
        "        bias_d = np.mean(y_predicted-y_true)\n",
        "        w1 = w1 - rate * w1d\n",
        "        w2 = w2 - rate * w2d\n",
        "        bias = bias - rate * bias_d\n",
        "\n",
        "        print (f'Epoch:{i}, w1:{w1}, w2:{w2}, bias:{bias}, loss:{loss}')\n",
        "\n",
        "        if loss<=loss_thresold:\n",
        "            break\n",
        "\n",
        "    return w1, w2, bias"
      ],
      "metadata": {
        "id": "9c3YiUK25XuG"
      },
      "id": "9c3YiUK25XuG",
      "execution_count": null,
      "outputs": []
    },
    {
      "cell_type": "code",
      "source": [
        "gradient_descent(X_train_scaled['age'],X_train_scaled['affordibility'],y_train,500, 0.4631)"
      ],
      "metadata": {
        "id": "UdpONgyB5h2B"
      },
      "id": "UdpONgyB5h2B",
      "execution_count": null,
      "outputs": []
    },
    {
      "cell_type": "code",
      "source": [
        "coef, intercept"
      ],
      "metadata": {
        "id": "hblwdfW552MY"
      },
      "id": "hblwdfW552MY",
      "execution_count": null,
      "outputs": []
    },
    {
      "cell_type": "markdown",
      "source": [
        "# Neural Network Implement Python\n",
        "- want fit, predict functions like models have inbuild"
      ],
      "metadata": {
        "id": "tJTB98TfoBYX"
      },
      "id": "tJTB98TfoBYX"
    },
    {
      "cell_type": "code",
      "source": [
        "class my_neural_network():\n",
        "  def __init__(self):\n",
        "    self.w1 = 1\n",
        "    self.w2=1\n",
        "    self.bias=0\n",
        "\n",
        "  def gradient_descent(self,age, affordability, y_true, epochs, loss_thresold):\n",
        "    w1 = w2 = 1\n",
        "    bias = 0\n",
        "    rate = 0.5 #Learning rate fix\n",
        "    n = len(age)\n",
        "    for i in range(epochs):\n",
        "        weighted_sum = w1 * age + w2 * affordability + bias\n",
        "        y_predicted = self.sigmoid_numpy(weighted_sum)\n",
        "        loss = self.log_loss(y_true, y_predicted)\n",
        "\n",
        "        w1d = (1/n)*np.dot(np.transpose(age),(y_predicted-y_true))\n",
        "        w2d = (1/n)*np.dot(np.transpose(affordability),(y_predicted-y_true))\n",
        "\n",
        "        bias_d = np.mean(y_predicted-y_true)\n",
        "        w1 = w1 - rate * w1d\n",
        "        w2 = w2 - rate * w2d\n",
        "        bias = bias - rate * bias_d\n",
        "        if i%10==0:\n",
        "          print (f'Epoch:{i}, w1:{w1}, w2:{w2}, bias:{bias}, loss:{loss}')\n",
        "\n",
        "        if loss<=loss_thresold:\n",
        "            break\n",
        "\n",
        "    return w1, w2, bias\n",
        "\n",
        "  def fit(self, x, y, epochs, loss_threshold):\n",
        "    self.w1 , self.w2, self.bias =self.gradient_descent(x['age'],x['affordibility'],y, epochs, loss_threshold)\n",
        "\n",
        "  def log_loss(self,y_true, y_predicted):\n",
        "    epsilon = 1e-15\n",
        "    y_predicted_new = [max(i,epsilon) for i in y_predicted]\n",
        "    y_predicted_new = [min(i,1-epsilon) for i in y_predicted_new]\n",
        "    y_predicted_new = np.array(y_predicted_new)\n",
        "    return -np.mean(y_true*np.log(y_predicted_new)+(1-y_true)*np.log(1-y_predicted_new))\n",
        "\n",
        "  def sigmoid_numpy(self,X):\n",
        "   return 1/(1+np.exp(-X))\n",
        "\n",
        "  def predict(self,x_test):\n",
        "    weighted_sum = self.w1*x_test['age'] + self.w2*x_test['affordibility'] + self.bias\n",
        "    return self.sigmoid_numpy(weighted_sum)"
      ],
      "metadata": {
        "id": "Ftm-7fnxoATm"
      },
      "id": "Ftm-7fnxoATm",
      "execution_count": null,
      "outputs": []
    },
    {
      "cell_type": "code",
      "source": [
        "customModel= my_neural_network()\n",
        "customModel.fit(X_train_scaled,y_train,epochs=100,loss_threshold=0.4631)"
      ],
      "metadata": {
        "id": "ataWKT6Iow0Q"
      },
      "id": "ataWKT6Iow0Q",
      "execution_count": null,
      "outputs": []
    },
    {
      "cell_type": "code",
      "source": [
        "customModel.predict(X_test_scaled)"
      ],
      "metadata": {
        "id": "HVZpfAw0q69Z"
      },
      "id": "HVZpfAw0q69Z",
      "execution_count": null,
      "outputs": []
    },
    {
      "cell_type": "markdown",
      "source": [
        "# Gradien Descent Types\n",
        "- Bathc Gradient Descent\n",
        "  - All data points for every epoch goes through and calculate loss and adjust weight like we did before\n",
        "  - Problem 10millions rows and 5000 featutes then too much computation\n",
        "  - Good for small data\n",
        "- Stochastic Gradient\n",
        "  - use one(randomply picked) - loss y predict and adjust weight on every epochs\n",
        "  - good for high data\n",
        "- Mini Batch\n",
        "  - Similar to stochatic\n",
        "  - instead of one data use batch of some data"
      ],
      "metadata": {
        "id": "T_lznNSysN6C"
      },
      "id": "T_lznNSysN6C"
    },
    {
      "cell_type": "code",
      "source": [
        "import pandas as pd\n",
        "import numpy as np\n",
        "from matplotlib import pyplot as plt\n",
        "%matplotlib inline"
      ],
      "metadata": {
        "id": "r6DmOU9zsNaQ"
      },
      "id": "r6DmOU9zsNaQ",
      "execution_count": null,
      "outputs": []
    },
    {
      "cell_type": "code",
      "source": [
        "df = pd.read_csv(\"homeprices_banglore.csv\")\n",
        "df.head()"
      ],
      "metadata": {
        "id": "7YAb1oQzugvo"
      },
      "id": "7YAb1oQzugvo",
      "execution_count": null,
      "outputs": []
    },
    {
      "cell_type": "markdown",
      "source": [
        "### Preprocessing data - Standard Scaler"
      ],
      "metadata": {
        "id": "PIFJvTMZvJ46"
      },
      "id": "PIFJvTMZvJ46"
    },
    {
      "cell_type": "code",
      "source": [
        "df.isnull().sum()"
      ],
      "metadata": {
        "id": "4e79jUFvvO1F"
      },
      "id": "4e79jUFvvO1F",
      "execution_count": null,
      "outputs": []
    },
    {
      "cell_type": "code",
      "source": [
        "df.shape"
      ],
      "metadata": {
        "id": "c0y4So5VwLK1"
      },
      "id": "c0y4So5VwLK1",
      "execution_count": null,
      "outputs": []
    },
    {
      "cell_type": "code",
      "source": [
        "from sklearn import preprocessing\n",
        "sx = preprocessing.MinMaxScaler()\n",
        "sy = preprocessing.MinMaxScaler()\n",
        "\n",
        "x= df.drop('price',axis=1)\n",
        "y= df['price']\n",
        "scaled_X = sx.fit_transform(x)\n",
        "scaled_y = sy.fit_transform(y.values.reshape(-1,1))\n",
        "# -1 all rows and 1 means one column (rows,feature)\n",
        "scaled_X\n",
        "scaled_y"
      ],
      "metadata": {
        "id": "rMRi7wyBvSsd"
      },
      "id": "rMRi7wyBvSsd",
      "execution_count": null,
      "outputs": []
    },
    {
      "cell_type": "code",
      "source": [
        "# Convert y to single array again\n",
        "scaled_y = scaled_y.flatten()\n",
        "scaled_y"
      ],
      "metadata": {
        "id": "LSDCTQ6dvxEx"
      },
      "id": "LSDCTQ6dvxEx",
      "execution_count": null,
      "outputs": []
    },
    {
      "cell_type": "code",
      "source": [
        "np.ones(shape=(2,2))"
      ],
      "metadata": {
        "id": "Oue4RgD957p4"
      },
      "id": "Oue4RgD957p4",
      "execution_count": null,
      "outputs": []
    },
    {
      "cell_type": "markdown",
      "source": [
        "### Batch Descent Gradient\n",
        "- use all data point of x to go through weights and bias\n",
        "- since our data is continuos\n",
        "- cost function is mean squared error\n",
        "- dJ/dw and dJ/db\n",
        "  - w_grad = -(2/total_samples)*(X.T.dot(y_true-y_predicted))\n",
        "  - b_grad = -(2/total_samples)*np.sum(y_true-y_predicted)\n",
        "        "
      ],
      "metadata": {
        "id": "yEyqE5Q85-Hr"
      },
      "id": "yEyqE5Q85-Hr"
    },
    {
      "cell_type": "code",
      "source": [
        "\n",
        "number_of_features = scaled_X.shape[1]\n",
        "print(scaled_X.T.shape)\n",
        "  # numpy array with 1 row and columns equal to number of features. In\n",
        "    # our case number_of_features = 2 (area, bedroom)\n",
        "w = np.ones(shape=(number_of_features))\n",
        "w.shape\n",
        "w"
      ],
      "metadata": {
        "id": "YpKOlMKf6_RN"
      },
      "id": "YpKOlMKf6_RN",
      "execution_count": null,
      "outputs": []
    },
    {
      "cell_type": "code",
      "source": [],
      "metadata": {
        "id": "C35iZirQ7Rg_"
      },
      "id": "C35iZirQ7Rg_",
      "execution_count": null,
      "outputs": []
    },
    {
      "cell_type": "code",
      "source": [
        "def batch_gradient_descent(X, y_true, epochs, learning_rate = 0.01):\n",
        "\n",
        "    number_of_features = X.shape[1]\n",
        "    # numpy array with 1 row and columns equal to number of features. In\n",
        "    # our case number_of_features = 2 (area, bedroom)\n",
        "    w = np.ones(shape=(number_of_features))  # 1Xfeautures\n",
        "    b = 0\n",
        "    total_samples = X.shape[0] # number of rows in X\n",
        "\n",
        "    cost_list = []\n",
        "    epoch_list = []\n",
        "\n",
        "    for i in range(epochs):\n",
        "        y_predicted = np.dot(w, X.T) + b\n",
        "\n",
        "        w_grad = -(2/total_samples)*(X.T.dot(y_true-y_predicted))\n",
        "        b_grad = -(2/total_samples)*np.sum(y_true-y_predicted)\n",
        "\n",
        "        w = w - learning_rate * w_grad\n",
        "        b = b - learning_rate * b_grad\n",
        "\n",
        "        cost = np.mean(np.square(y_true-y_predicted)) # MSE (Mean Squared Error)\n",
        "\n",
        "        if i%10==0:\n",
        "            cost_list.append(cost)\n",
        "            epoch_list.append(i)\n",
        "\n",
        "    return w, b, cost, cost_list, epoch_list\n",
        "\n",
        "w, b, cost, cost_list, epoch_list = batch_gradient_descent(scaled_X,scaled_y.reshape(scaled_y.shape[0],),500)\n",
        "w, b, cost"
      ],
      "metadata": {
        "id": "OEFk2a0V6JcY"
      },
      "id": "OEFk2a0V6JcY",
      "execution_count": null,
      "outputs": []
    },
    {
      "cell_type": "code",
      "source": [
        "plt.xlabel(\"epoch\")\n",
        "plt.ylabel(\"cost\")\n",
        "plt.plot(epoch_list,cost_list)"
      ],
      "metadata": {
        "id": "K5Sp4-_a8QJg"
      },
      "id": "K5Sp4-_a8QJg",
      "execution_count": null,
      "outputs": []
    },
    {
      "cell_type": "markdown",
      "source": [
        "#### Predict Values using this model weight and bias"
      ],
      "metadata": {
        "id": "H3VqZ9xz82cC"
      },
      "id": "H3VqZ9xz82cC"
    },
    {
      "cell_type": "code",
      "source": [
        "check = sx.transform([[2400, 4]])[0]\n",
        "check\n",
        "# array([[0.55172414, 0.75      ]])\n",
        "# need first array\n",
        "\n",
        "price = w[0] * check[0] + w[1] * check[1] + b\n",
        "price"
      ],
      "metadata": {
        "id": "VqG-T5b_9hTz"
      },
      "id": "VqG-T5b_9hTz",
      "execution_count": null,
      "outputs": []
    },
    {
      "cell_type": "code",
      "source": [
        "# from sklearn import preprocessing\n",
        "# sx = preprocessing.MinMaxScaler()\n",
        "# sy = preprocessing.MinMaxScaler()\n",
        "# used for training and standarisation\n",
        "\n",
        "def predict(area,bedrooms,w,b):\n",
        "\n",
        "    scaled_X = sx.transform([[area, bedrooms]])[0]\n",
        "    # pass array of 2d return array of 2d need firrst element\n",
        "\n",
        "    # here w1 = w[0] , w2 = w[1], w3 = w[2] and bias is b\n",
        "    # equation for price is w1*area + w2*bedrooms + w3*age + bias\n",
        "    # scaled_X[0] is area\n",
        "    # scaled_X[1] is bedrooms\n",
        "    # scaled_X[2] is age\n",
        "    scaled_price = w[0] * scaled_X[0] + w[1] * scaled_X[1] + b\n",
        "    # once we get price prediction we need to to rescal it back to original value\n",
        "    # also since it returns 2D array, to get single value we need to do value[0][0]\n",
        "    return sy.inverse_transform([[scaled_price]])[0][0]\n",
        "\n",
        "predict(1056,2,w,b)\n",
        "# w and b from gradient descent"
      ],
      "metadata": {
        "id": "J88oY4cH86qn"
      },
      "id": "J88oY4cH86qn",
      "execution_count": null,
      "outputs": []
    },
    {
      "cell_type": "markdown",
      "source": [
        "### Stochastic Descent Gradient\n",
        "- one random sample each epochs"
      ],
      "metadata": {
        "id": "lLh51fXg-mUf"
      },
      "id": "lLh51fXg-mUf"
    },
    {
      "cell_type": "code",
      "source": [
        "# we will use random libary to pick random training sample.\n",
        "import random\n",
        "random.randint(0,6)\n",
        "\n",
        "\n",
        "# scaled_y.reshape(scaled_y.shape[0],)\n",
        "\n",
        "#2d array (20, 1) needed for tranformation\n",
        "scaled_y.shape\n",
        "\n",
        "# convert to single array (20,)\n",
        "a= scaled_y.reshape(scaled_y.shape[0],)\n",
        "a.shape\n",
        "\n",
        "number_of_features = scaled_X.shape[1]\n",
        "w = np.ones(shape=(number_of_features))\n",
        "sample_x = scaled_X[3]\n",
        "\n",
        "c= np.dot(w, sample_x.T)\n",
        "c"
      ],
      "metadata": {
        "id": "Ds1hDFrs-vGQ"
      },
      "id": "Ds1hDFrs-vGQ",
      "execution_count": null,
      "outputs": []
    },
    {
      "cell_type": "code",
      "source": [
        "def stochastic_gradient_descent(X, y_true, epochs, learning_rate = 0.01):\n",
        "\n",
        "    number_of_features = X.shape[1]\n",
        "    # numpy array with 1 row and columns equal to number of features. In\n",
        "    # our case number_of_features = 3 (area, bedroom and age)\n",
        "    w = np.ones(shape=(number_of_features))\n",
        "    b = 0\n",
        "    total_samples = X.shape[0]\n",
        "\n",
        "    cost_list = []\n",
        "    epoch_list = []\n",
        "\n",
        "    for i in range(epochs):\n",
        "        # here randomly one sample le rahe\n",
        "        random_index = random.randint(0,total_samples-1) # random index from total samples\n",
        "        sample_x = X[random_index]\n",
        "        sample_y = y_true[random_index]\n",
        "        # Both sample y and y_predicted is single float value\n",
        "        y_predicted = np.dot(w, sample_x.T) + b\n",
        "\n",
        "        w_grad = -(2/total_samples)*(sample_x.T.dot(sample_y-y_predicted))\n",
        "        b_grad = -(2/total_samples)*(sample_y-y_predicted)\n",
        "\n",
        "        w = w - learning_rate * w_grad\n",
        "        b = b - learning_rate * b_grad\n",
        "\n",
        "        cost = np.square(sample_y-y_predicted)\n",
        "\n",
        "        if i%100==0: # at every 100th iteration record the cost and epoch value\n",
        "            cost_list.append(cost)\n",
        "            epoch_list.append(i)\n",
        "\n",
        "    return w, b, cost, cost_list, epoch_list\n",
        "\n",
        "w_sgd, b_sgd, cost_sgd, cost_list_sgd, epoch_list_sgd = stochastic_gradient_descent(scaled_X,scaled_y.reshape(scaled_y.shape[0],),10000)\n",
        "w_sgd, b_sgd, cost_sgd"
      ],
      "metadata": {
        "id": "1lTI4_yA-v7T"
      },
      "id": "1lTI4_yA-v7T",
      "execution_count": null,
      "outputs": []
    },
    {
      "cell_type": "code",
      "source": [
        "plt.xlabel(\"epoch\")\n",
        "plt.ylabel(\"cost\")\n",
        "plt.plot(epoch_list_sgd,cost_list_sgd)"
      ],
      "metadata": {
        "id": "pMuIVhyBBuX2"
      },
      "id": "pMuIVhyBBuX2",
      "execution_count": null,
      "outputs": []
    },
    {
      "cell_type": "code",
      "source": [
        "predict(1000,2,w_sgd, b_sgd)"
      ],
      "metadata": {
        "id": "He4H07jPCo_p"
      },
      "id": "He4H07jPCo_p",
      "execution_count": null,
      "outputs": []
    },
    {
      "cell_type": "markdown",
      "source": [
        "### Mini-Batch Gradient Descent\n",
        "- Batch of 20 samples aise lo"
      ],
      "metadata": {
        "id": "1wss5SXIC3qs"
      },
      "id": "1wss5SXIC3qs"
    },
    {
      "cell_type": "code",
      "source": [
        "random_indices= np.random.permutation(20)\n",
        "X_tmp = scaled_X[random_indices]\n",
        "X_tmp\n",
        "y_tmp = scaled_y.reshape(scaled_y.shape[0],)[random_indices]\n",
        "y_tmp"
      ],
      "metadata": {
        "id": "_6sRwnCuC5yl"
      },
      "id": "_6sRwnCuC5yl",
      "execution_count": null,
      "outputs": []
    },
    {
      "cell_type": "code",
      "source": [
        "def mini_batch_gradient_descent(X, y_true, epochs = 100, batch_size = 5, learning_rate = 0.01):\n",
        "\n",
        "    number_of_features = X.shape[1]\n",
        "    # numpy array with 1 row and columns equal to number of features. In\n",
        "    # our case number_of_features = 3 (area, bedroom and age)\n",
        "    w = np.ones(shape=(number_of_features))\n",
        "    b = 0\n",
        "    total_samples = X.shape[0] # number of rows in X\n",
        "\n",
        "    if batch_size > total_samples: # In this case mini batch becomes same as batch gradient descent\n",
        "        batch_size = total_samples\n",
        "\n",
        "    cost_list = []\n",
        "    epoch_list = []\n",
        "\n",
        "    num_batches = int(total_samples/batch_size)\n",
        "\n",
        "    for i in range(epochs):\n",
        "        random_indices = np.random.permutation(total_samples)\n",
        "        X_tmp = X[random_indices]\n",
        "        y_tmp = y_true[random_indices]\n",
        "\n",
        "        for j in range(0,total_samples,batch_size):\n",
        "            Xj = X_tmp[j:j+batch_size]\n",
        "            yj = y_tmp[j:j+batch_size]\n",
        "            y_predicted = np.dot(w, Xj.T) + b\n",
        "\n",
        "            w_grad = -(2/len(Xj))*(Xj.T.dot(yj-y_predicted))\n",
        "            b_grad = -(2/len(Xj))*np.sum(yj-y_predicted)\n",
        "\n",
        "            w = w - learning_rate * w_grad\n",
        "            b = b - learning_rate * b_grad\n",
        "\n",
        "            cost = np.mean(np.square(yj-y_predicted)) # MSE (Mean Squared Error)\n",
        "\n",
        "        if i%10==0:\n",
        "            cost_list.append(cost)\n",
        "            epoch_list.append(i)\n",
        "\n",
        "    return w, b, cost, cost_list, epoch_list\n",
        "\n",
        "w, b, cost, cost_list, epoch_list = mini_batch_gradient_descent(\n",
        "    scaled_X,\n",
        "    scaled_y.reshape(scaled_y.shape[0],),\n",
        "    epochs = 120,\n",
        "    batch_size = 5\n",
        ")\n",
        "w, b, cost"
      ],
      "metadata": {
        "id": "AnWNYKbdDD23"
      },
      "id": "AnWNYKbdDD23",
      "execution_count": null,
      "outputs": []
    },
    {
      "cell_type": "code",
      "source": [
        "plt.xlabel(\"epoch\")\n",
        "plt.ylabel(\"cost\")\n",
        "plt.plot(epoch_list,cost_list)"
      ],
      "metadata": {
        "id": "0z-4FBmZD5Ys"
      },
      "id": "0z-4FBmZD5Ys",
      "execution_count": null,
      "outputs": []
    },
    {
      "cell_type": "markdown",
      "source": [
        "# GPU bench-marking with image classification PROJECT-2\n",
        "- CIFAR-10 dataset -"
      ],
      "metadata": {
        "id": "fnFeP4GIxjqY"
      },
      "id": "fnFeP4GIxjqY"
    },
    {
      "cell_type": "code",
      "source": [
        "import tensorflow as tf\n",
        "from tensorflow import keras\n",
        "import matplotlib.pyplot as plt\n",
        "import numpy as np\n",
        "# Version Information\n",
        "# tensorflow 2.2.0 , Cudnn7.6.5 and Cuda 10.1 , python 3.8"
      ],
      "metadata": {
        "id": "z5PrzP-nx7Mf"
      },
      "id": "z5PrzP-nx7Mf",
      "execution_count": null,
      "outputs": []
    },
    {
      "cell_type": "code",
      "source": [
        "# Get GPU information on you computer\n",
        "tf.config.experimental.list_physical_devices()"
      ],
      "metadata": {
        "id": "0SpAbgY8yFdA"
      },
      "id": "0SpAbgY8yFdA",
      "execution_count": null,
      "outputs": []
    },
    {
      "cell_type": "code",
      "source": [
        "tf.__version__"
      ],
      "metadata": {
        "id": "M6l2FrGFyVPb"
      },
      "id": "M6l2FrGFyVPb",
      "execution_count": null,
      "outputs": []
    },
    {
      "cell_type": "code",
      "source": [
        "# Means for Deep Learning can use GPU\n",
        "tf.test.is_built_with_cuda()"
      ],
      "metadata": {
        "id": "3DcnziPSyWIt"
      },
      "id": "3DcnziPSyWIt",
      "execution_count": null,
      "outputs": []
    },
    {
      "cell_type": "markdown",
      "source": [
        "## Dataset\n",
        "- Keras\n",
        "  - CIFAR-10 dataset - 60k images 10classes\n",
        "    - airplance, bird, cat, dog, horse\n",
        "  - Use Artifical Neural Network ANN\n",
        "  - Colourful images is made of [Red, Green, Blue] array\n",
        "  - Like handdigit project uses [white and black]"
      ],
      "metadata": {
        "id": "6Zy8Ldolyepe"
      },
      "id": "6Zy8Ldolyepe"
    },
    {
      "cell_type": "code",
      "source": [
        "(X_train, y_train), (X_test,y_test) = tf.keras.datasets.cifar10.load_data()"
      ],
      "metadata": {
        "id": "nr_a5dJzytyR"
      },
      "id": "nr_a5dJzytyR",
      "execution_count": null,
      "outputs": []
    },
    {
      "cell_type": "code",
      "source": [
        "X_train.shape # (50000, 32, 32, 3)\n",
        "X_train[0][31][30]\n",
        "# ndarray (32, 32, 3)\n",
        "# each image is 32 rows 32 columns and each pixel is [R G B] value\n",
        "# 0 to 255 values for each R G B"
      ],
      "metadata": {
        "id": "t_DmFzn6zESq"
      },
      "id": "t_DmFzn6zESq",
      "execution_count": null,
      "outputs": []
    },
    {
      "cell_type": "code",
      "source": [
        "plt.figsize=(10,1)\n",
        "plt.imshow(X_train[4])"
      ],
      "metadata": {
        "id": "aUzs1NVD0kjE"
      },
      "id": "aUzs1NVD0kjE",
      "execution_count": null,
      "outputs": []
    },
    {
      "cell_type": "code",
      "source": [
        "# Y already into 10 classes\n",
        "y_train.shape #(50000, 1) 2d array hai single column\n",
        "y_train[0]\n",
        "y_train[0][0]"
      ],
      "metadata": {
        "id": "wzKOsNxdzGmQ"
      },
      "id": "wzKOsNxdzGmQ",
      "execution_count": null,
      "outputs": []
    },
    {
      "cell_type": "code",
      "source": [
        "classes = [\"airplane\",\"automobile\",\"bird\",\"cat\",\"deer\",\"dog\",\"frog\",\"horse\",\"ship\",\"truck\"]"
      ],
      "metadata": {
        "id": "s3gnjQe61Ce8"
      },
      "id": "s3gnjQe61Ce8",
      "execution_count": null,
      "outputs": []
    },
    {
      "cell_type": "code",
      "source": [
        "classes[y_train[0][0]]\n",
        "# Index from y_train mapped to correct name"
      ],
      "metadata": {
        "id": "YZ6QWLWg1Cgv"
      },
      "id": "YZ6QWLWg1Cgv",
      "execution_count": null,
      "outputs": []
    },
    {
      "cell_type": "markdown",
      "source": [
        "## Normaling x_train data\n",
        "- divide by 255"
      ],
      "metadata": {
        "id": "-QJA94QA1TxO"
      },
      "id": "-QJA94QA1TxO"
    },
    {
      "cell_type": "code",
      "source": [
        "x_train_scaled = X_train / 255\n",
        "x_test_scaled = X_test /255"
      ],
      "metadata": {
        "id": "Ll9prVK_1YN5"
      },
      "id": "Ll9prVK_1YN5",
      "execution_count": null,
      "outputs": []
    },
    {
      "cell_type": "code",
      "source": [
        "x_train_scaled.shape"
      ],
      "metadata": {
        "id": "D6mN_DZx1fF9"
      },
      "id": "D6mN_DZx1fF9",
      "execution_count": null,
      "outputs": []
    },
    {
      "cell_type": "markdown",
      "source": [
        "## One hot encoding\n",
        "- y_train ko 10 classes mein each row ko convert\n",
        "- array([[0., 0., 0., 0., 0., 0., 1., 0., 0., 0.],\n",
        "       [0., 0., 0., 0., 0., 0., 0., 0., 0., 1.],\n",
        "       [0., 0., 0., 0., 0., 0., 0., 0., 0., 1.],\n",
        "       [0., 0., 0., 0., 1., 0., 0., 0., 0., 0.],\n",
        "       [0., 1., 0., 0., 0., 0., 0., 0., 0., 0.]])"
      ],
      "metadata": {
        "id": "tyoIJkAR1xST"
      },
      "id": "tyoIJkAR1xST"
    },
    {
      "cell_type": "code",
      "source": [
        "y_train[:3]"
      ],
      "metadata": {
        "id": "GRw-9tgQ19wP"
      },
      "id": "GRw-9tgQ19wP",
      "execution_count": null,
      "outputs": []
    },
    {
      "cell_type": "code",
      "source": [
        "y_train_categorical = keras.utils.to_categorical(\n",
        "    y_train, num_classes=10\n",
        ")\n",
        "y_test_categorical = keras.utils.to_categorical(\n",
        "    y_test, num_classes=10\n",
        ")"
      ],
      "metadata": {
        "id": "HpMYslJl126v"
      },
      "id": "HpMYslJl126v",
      "execution_count": null,
      "outputs": []
    },
    {
      "cell_type": "code",
      "source": [
        "# Converting each y value into array of categories\n",
        "y_train_categorical[0:5]"
      ],
      "metadata": {
        "id": "W6IzbJX42CbO"
      },
      "id": "W6IzbJX42CbO",
      "execution_count": null,
      "outputs": []
    },
    {
      "cell_type": "markdown",
      "source": [
        "## Model- Training and Prediciton\n",
        "- need to flatten data like we did in digit recognistion\n",
        "- 28*28 one iamge convert into 784 xi values\n",
        "- similar here 32 32 3 one image represent\n",
        "- Hidden layer PREFERD Relu used\n",
        "- Classification output sigmoid or sigmoid use"
      ],
      "metadata": {
        "id": "d3qpwZno2li4"
      },
      "id": "d3qpwZno2li4"
    },
    {
      "cell_type": "code",
      "source": [
        "# Ouput layer has 10 classes\n",
        "# Activation signmoidn as it is good with classificaltion\n",
        "model = keras.Sequential([\n",
        "    keras.layers.Flatten(input_shape=(32,32,3)),\n",
        "    keras.layers.Dense(3000,activation='relu'),\n",
        "    keras.layers.Dense(3000,activation='relu'),\n",
        "    keras.layers.Dense(10,activation='sigmoid')\n",
        "\n",
        "])\n",
        "# Hidden layer PREFERD Relu used\n",
        "\n",
        "model.compile(optimizer='SGD',\n",
        "              loss='categorical_crossentropy',\n",
        "              metrics=['accuracy']\n",
        "              )\n",
        "\n",
        "# Since my y_train_categorcial data\n",
        "# y_train_cateogrical [[0,0,0,1],[1,0,0,]] categories distributed\n",
        "# Use categorical_crossentropy\n",
        "# In Handwrittten digit y_train was [1,2,3,4]\n",
        "# SO used sparse_categoriacal\n",
        "\n",
        "model.fit(x_train_scaled, y_train_categorical, epochs=1)\n",
        "\n",
        "\n",
        "\n",
        "# If y_train is not categorized same way as in Handdigit\n",
        "# model.compile(optimizer='adam',\n",
        "#                   loss='sparse_categorical_crossentropy',\n",
        "#                   metrics=['accuracy'])\n",
        "# model.fit(x_train_scaled, y_train, epochs=1)"
      ],
      "metadata": {
        "id": "2DZpJKM_3CRu"
      },
      "id": "2DZpJKM_3CRu",
      "execution_count": null,
      "outputs": []
    },
    {
      "cell_type": "markdown",
      "source": [
        "### Prediction"
      ],
      "metadata": {
        "id": "kKbYBLFj68wB"
      },
      "id": "kKbYBLFj68wB"
    },
    {
      "cell_type": "code",
      "source": [
        "np.argmax(model.predict(x_test_scaled)[0])"
      ],
      "metadata": {
        "id": "XEFq5YEf4Cq2"
      },
      "id": "XEFq5YEf4Cq2",
      "execution_count": null,
      "outputs": []
    },
    {
      "cell_type": "code",
      "source": [
        "y_test[0]"
      ],
      "metadata": {
        "id": "KRNNvzBZ7PQZ"
      },
      "id": "KRNNvzBZ7PQZ",
      "execution_count": null,
      "outputs": []
    },
    {
      "cell_type": "markdown",
      "source": [
        "## Measure training time on a CPU"
      ],
      "metadata": {
        "id": "XnEp-JVG7Tnk"
      },
      "id": "XnEp-JVG7Tnk"
    },
    {
      "cell_type": "code",
      "source": [
        "def get_model():\n",
        "    model = keras.Sequential([\n",
        "            keras.layers.Flatten(input_shape=(32,32,3)),\n",
        "            keras.layers.Dense(3000, activation='relu'),\n",
        "            keras.layers.Dense(1000, activation='relu'),\n",
        "            keras.layers.Dense(10, activation='sigmoid')\n",
        "        ])\n",
        "\n",
        "    model.compile(optimizer='adam',\n",
        "                  loss='sparse_categorical_crossentropy',\n",
        "                  metrics=['accuracy'])\n",
        "    return model"
      ],
      "metadata": {
        "id": "tJ2FzaG17UaD"
      },
      "id": "tJ2FzaG17UaD",
      "execution_count": null,
      "outputs": []
    },
    {
      "cell_type": "code",
      "source": [
        "tf.config.experimental.list_physical_devices()\n",
        "# [PhysicalDevice(name='/physical_device:CPU:0', device_type='CPU')]"
      ],
      "metadata": {
        "id": "IW3_ZquF7Y7p"
      },
      "id": "IW3_ZquF7Y7p",
      "execution_count": null,
      "outputs": []
    },
    {
      "cell_type": "code",
      "source": [
        "%%timeit -n1 -r1\n",
        "with tf.device('/CPU:0'):\n",
        "    cpu_model = get_model()\n",
        "    cpu_model.fit(X_train_scaled, y_train_categorical, epochs=1)\n",
        "\n",
        "# return. 3.6 s ± 0 ns per loop (mean ± std. dev. of 1 run, 1 loop each)"
      ],
      "metadata": {
        "id": "3Gy4nSFi7WPh"
      },
      "id": "3Gy4nSFi7WPh",
      "execution_count": null,
      "outputs": []
    },
    {
      "cell_type": "markdown",
      "source": [
        "# Customer Churn Project-3 Using ANN\n",
        "- Measure how many customers are leaving the business\n",
        "- why customers are leaving the business\n",
        "- Telco Customer Churn Data from Kaggle"
      ],
      "metadata": {
        "id": "iILqRlGwgTfj"
      },
      "id": "iILqRlGwgTfj"
    },
    {
      "cell_type": "code",
      "source": [
        "import pandas as pd\n",
        "from matplotlib import pyplot as plt\n",
        "import numpy as np\n",
        "%matplotlib inline"
      ],
      "metadata": {
        "id": "DCEMf3iFhEXu"
      },
      "id": "DCEMf3iFhEXu",
      "execution_count": null,
      "outputs": []
    },
    {
      "cell_type": "code",
      "source": [
        "df = pd.read_csv(\"/content/CustomerChurn.csv\")\n",
        "df.sample(5)"
      ],
      "metadata": {
        "id": "8dhNkcnghFSk"
      },
      "id": "8dhNkcnghFSk",
      "execution_count": null,
      "outputs": []
    },
    {
      "cell_type": "code",
      "source": [
        "df.shape"
      ],
      "metadata": {
        "id": "wqWfFbPShJcu"
      },
      "id": "wqWfFbPShJcu",
      "execution_count": null,
      "outputs": []
    },
    {
      "cell_type": "markdown",
      "source": [
        "## Data Exploration\n",
        "- customerId is useless\n",
        "- All unique values - 1 and 0 convert\n",
        "- if column has 3,4 unique values create dummies column\n",
        "- Float values need to be scaled MinMax StandardScaler"
      ],
      "metadata": {
        "id": "EG04m-NEhPte"
      },
      "id": "EG04m-NEhPte"
    },
    {
      "cell_type": "code",
      "source": [
        "df.drop('customerID',axis='columns',inplace=True)"
      ],
      "metadata": {
        "id": "rI-y-rUUhVJJ"
      },
      "id": "rI-y-rUUhVJJ",
      "execution_count": null,
      "outputs": []
    },
    {
      "cell_type": "code",
      "source": [
        "df.dtypes"
      ],
      "metadata": {
        "id": "OZLL-ItIhXPi"
      },
      "id": "OZLL-ItIhXPi",
      "execution_count": null,
      "outputs": []
    },
    {
      "cell_type": "markdown",
      "source": [
        "Total Charges is object\n",
        "Monthly Charges is Number\n"
      ],
      "metadata": {
        "id": "gEXjhDl9hf82"
      },
      "id": "gEXjhDl9hf82"
    },
    {
      "cell_type": "code",
      "source": [
        "df.TotalCharges.values\n",
        "# String convert into number"
      ],
      "metadata": {
        "id": "VGUnSeIchk9a"
      },
      "id": "VGUnSeIchk9a",
      "execution_count": null,
      "outputs": []
    },
    {
      "cell_type": "code",
      "source": [
        "df.MonthlyCharges.values"
      ],
      "metadata": {
        "id": "J8ImTwNqhpPV"
      },
      "id": "J8ImTwNqhpPV",
      "execution_count": null,
      "outputs": []
    },
    {
      "cell_type": "code",
      "source": [
        "df.isnull().sum()"
      ],
      "metadata": {
        "id": "HK1F-ZyOhrn9"
      },
      "id": "HK1F-ZyOhrn9",
      "execution_count": null,
      "outputs": []
    },
    {
      "cell_type": "code",
      "source": [
        "pd.to_numeric(df['TotalCharges'])\n",
        "# Creating problem as some places ' ' is present remove them"
      ],
      "metadata": {
        "id": "SUecMjp8hyES"
      },
      "id": "SUecMjp8hyES",
      "execution_count": null,
      "outputs": []
    },
    {
      "cell_type": "markdown",
      "source": [
        "Finding Total Charges Blank"
      ],
      "metadata": {
        "id": "aTDQwd7didfn"
      },
      "id": "aTDQwd7didfn"
    },
    {
      "cell_type": "code",
      "source": [
        "invalid_total_charges = df[pd.to_numeric(df['TotalCharges'], errors='coerce').isnull()]"
      ],
      "metadata": {
        "id": "VsZtDVjCiItL"
      },
      "id": "VsZtDVjCiItL",
      "execution_count": null,
      "outputs": []
    },
    {
      "cell_type": "code",
      "source": [
        "invalid_total_charges.shape"
      ],
      "metadata": {
        "id": "k7cn3BuXiRtd"
      },
      "id": "k7cn3BuXiRtd",
      "execution_count": null,
      "outputs": []
    },
    {
      "cell_type": "markdown",
      "source": [
        "Removing and updating the df"
      ],
      "metadata": {
        "id": "CzopbBJejT87"
      },
      "id": "CzopbBJejT87"
    },
    {
      "cell_type": "code",
      "source": [
        "# df1= df[df.TotalCharges != ' ']\n",
        "# df1.shape\n",
        "# Or\n",
        "df = df[pd.to_numeric(df['TotalCharges'], errors='coerce').notnull()]\n",
        "df.shape"
      ],
      "metadata": {
        "id": "OBCm-P47jBFv"
      },
      "id": "OBCm-P47jBFv",
      "execution_count": null,
      "outputs": []
    },
    {
      "cell_type": "markdown",
      "source": [
        "Converting Object to String now"
      ],
      "metadata": {
        "id": "JIPOP3wijWiC"
      },
      "id": "JIPOP3wijWiC"
    },
    {
      "cell_type": "code",
      "source": [
        "df['TotalCharges']=pd.to_numeric(df['TotalCharges'])"
      ],
      "metadata": {
        "id": "7JaHN_3WjV9B"
      },
      "id": "7JaHN_3WjV9B",
      "execution_count": null,
      "outputs": []
    },
    {
      "cell_type": "code",
      "source": [
        "df['TotalCharges'].dtypes"
      ],
      "metadata": {
        "id": "kRGxQXFMjhdv"
      },
      "id": "kRGxQXFMjhdv",
      "execution_count": null,
      "outputs": []
    },
    {
      "cell_type": "markdown",
      "source": [
        "## Histogram Visualization\n",
        "- Tenure x axis\n",
        "- y axis count using Churn i.e. leaving"
      ],
      "metadata": {
        "id": "2VryzQjXjxjf"
      },
      "id": "2VryzQjXjxjf"
    },
    {
      "cell_type": "code",
      "source": [
        "((df['Churn'] == 'No') & (df['tenure'] >= 70)).sum()"
      ],
      "metadata": {
        "id": "S1SMgFUlj7Dg"
      },
      "id": "S1SMgFUlj7Dg",
      "execution_count": null,
      "outputs": []
    },
    {
      "cell_type": "code",
      "source": [
        "tenure_churn_no = df[df['Churn'] == 'No'].tenure\n",
        "tenure_churn_yes = df[df['Churn'] == 'Yes'].tenure\n",
        "plt.hist([tenure_churn_no,tenure_churn_yes],color=['red','green'],label=['Churn=Yes','Churn=No'])\n",
        "plt.legend()\n",
        "plt.xlabel(\"tenure\")\n",
        "plt.ylabel(\"Number of customer\")"
      ],
      "metadata": {
        "id": "x4Uf3w47khGe"
      },
      "id": "x4Uf3w47khGe",
      "execution_count": null,
      "outputs": []
    },
    {
      "cell_type": "markdown",
      "source": [
        "Monthly charges"
      ],
      "metadata": {
        "id": "7uEXizVdl6oo"
      },
      "id": "7uEXizVdl6oo"
    },
    {
      "cell_type": "code",
      "source": [
        "mc_churn_no = df[df.Churn=='No'].MonthlyCharges\n",
        "mc_churn_yes = df[df.Churn=='Yes'].MonthlyCharges\n",
        "\n",
        "plt.xlabel(\"Monthly Charges\")\n",
        "plt.ylabel(\"Number Of Customers\")\n",
        "plt.title(\"Customer Churn Prediction Visualiztion\")\n",
        "\n",
        "plt.hist([mc_churn_yes, mc_churn_no], rwidth=0.95, color=['green','red'],label=['Churn=Yes','Churn=No'])\n",
        "plt.legend()"
      ],
      "metadata": {
        "id": "I42YTaSDl74V"
      },
      "id": "I42YTaSDl74V",
      "execution_count": null,
      "outputs": []
    },
    {
      "cell_type": "markdown",
      "source": [
        "Label Encoding\n",
        "Columns with Yes and No"
      ],
      "metadata": {
        "id": "pLkg8dy-mRc0"
      },
      "id": "pLkg8dy-mRc0"
    },
    {
      "cell_type": "code",
      "source": [
        "df['gender'].unique()"
      ],
      "metadata": {
        "id": "wh5YlJQ8mXRJ"
      },
      "id": "wh5YlJQ8mXRJ",
      "execution_count": null,
      "outputs": []
    },
    {
      "cell_type": "code",
      "source": [
        "# for column in df actually iterates over column names (i.e., strings), not rows\n",
        "# df is a pandas DataFrame, not a basic array.\n",
        "\n",
        "for column in df:\n",
        "  if df[column].dtypes=='object':\n",
        "    print({column}, df[column].unique())"
      ],
      "metadata": {
        "id": "Xz6WCqU-mmDH"
      },
      "id": "Xz6WCqU-mmDH",
      "execution_count": null,
      "outputs": []
    },
    {
      "cell_type": "markdown",
      "source": [
        "Replacing Values with Yes and No Then converting into numbers"
      ],
      "metadata": {
        "id": "g4vT9QU2nVnZ"
      },
      "id": "g4vT9QU2nVnZ"
    },
    {
      "cell_type": "code",
      "source": [
        "columns_to_clean = [\n",
        "    'OnlineSecurity', 'OnlineBackup', 'DeviceProtection',\n",
        "    'TechSupport', 'StreamingTV', 'StreamingMovies'\n",
        "]\n",
        "\n",
        "for col in columns_to_clean:\n",
        "    df[col] = df[col].replace('No internet service', 'No')\n",
        "\n",
        "df['MultipleLines']= df['MultipleLines'].replace('No phone service', 'No')\n",
        "df['StreamingTV'].unique()"
      ],
      "metadata": {
        "id": "JrPqrBxSnZdy"
      },
      "id": "JrPqrBxSnZdy",
      "execution_count": null,
      "outputs": []
    },
    {
      "cell_type": "code",
      "source": [
        "for column in df:\n",
        "  if df[column].dtypes=='object':\n",
        "    print({column}, df[column].unique())"
      ],
      "metadata": {
        "id": "MP3QB62hnmRD"
      },
      "id": "MP3QB62hnmRD",
      "execution_count": null,
      "outputs": []
    },
    {
      "cell_type": "markdown",
      "source": [
        "Replace Yes and No with 1 and 0"
      ],
      "metadata": {
        "id": "VW79XCKEoHel"
      },
      "id": "VW79XCKEoHel"
    },
    {
      "cell_type": "code",
      "source": [
        "yes_no_columns = [\n",
        "    'Partner', 'Dependents', 'PhoneService', 'MultipleLines',\n",
        "    'OnlineSecurity', 'OnlineBackup', 'DeviceProtection', 'TechSupport',\n",
        "    'StreamingTV', 'StreamingMovies', 'PaperlessBilling', 'Churn'\n",
        "]\n",
        "df[yes_no_columns] = df[yes_no_columns].replace({'Yes': 1, 'No': 0})"
      ],
      "metadata": {
        "id": "XY3itTHZoJqY"
      },
      "id": "XY3itTHZoJqY",
      "execution_count": null,
      "outputs": []
    },
    {
      "cell_type": "code",
      "source": [
        "for col in df:\n",
        "  print(col,df[col].unique())"
      ],
      "metadata": {
        "id": "4wRCOEwzoSmi"
      },
      "id": "4wRCOEwzoSmi",
      "execution_count": null,
      "outputs": []
    },
    {
      "cell_type": "markdown",
      "source": [
        "Gender Male=0 Female=1"
      ],
      "metadata": {
        "id": "fFBxgWk1oltN"
      },
      "id": "fFBxgWk1oltN"
    },
    {
      "cell_type": "code",
      "source": [
        "df['gender'].replace({'Female':1,'Male':0},inplace=True)"
      ],
      "metadata": {
        "id": "aAEv8PVtolWT"
      },
      "id": "aAEv8PVtolWT",
      "execution_count": null,
      "outputs": []
    },
    {
      "cell_type": "markdown",
      "source": [
        "## One Hot Encoding for categorical columns\n",
        "- Columns InternetServi ce has three object\n",
        "- Create 3 columns InternetService1,2,3 with value 1,0\n",
        "- pd.get_dummies()"
      ],
      "metadata": {
        "id": "9PiUipQwo_8b"
      },
      "id": "9PiUipQwo_8b"
    },
    {
      "cell_type": "code",
      "source": [
        "df1 = pd.get_dummies(data=df, columns=['InternetService', 'Contract', 'PaymentMethod'], dtype=int)\n",
        "df1.columns"
      ],
      "metadata": {
        "id": "ih1ftcurpMZz"
      },
      "id": "ih1ftcurpMZz",
      "execution_count": null,
      "outputs": []
    },
    {
      "cell_type": "code",
      "source": [
        "df1.head()"
      ],
      "metadata": {
        "id": "7cVPXhjnpl63"
      },
      "id": "7cVPXhjnpl63",
      "execution_count": null,
      "outputs": []
    },
    {
      "cell_type": "code",
      "source": [
        "df1.dtypes"
      ],
      "metadata": {
        "id": "rZVTU4R9pYv6"
      },
      "id": "rZVTU4R9pYv6",
      "execution_count": null,
      "outputs": []
    },
    {
      "cell_type": "markdown",
      "source": [
        "## Tenure, Monthly Charges and TotalCharges need scaling"
      ],
      "metadata": {
        "id": "mNnkWMUgtemV"
      },
      "id": "mNnkWMUgtemV"
    },
    {
      "cell_type": "code",
      "source": [
        "cols_to_scale = ['tenure','MonthlyCharges','TotalCharges']\n",
        "\n",
        "from sklearn.preprocessing import MinMaxScaler\n",
        "scaler = MinMaxScaler()\n",
        "df1[cols_to_scale] = scaler.fit_transform(df1[cols_to_scale])"
      ],
      "metadata": {
        "id": "X4eh0Mgnt1pR"
      },
      "id": "X4eh0Mgnt1pR",
      "execution_count": null,
      "outputs": []
    },
    {
      "cell_type": "code",
      "source": [
        "for col in df1:\n",
        "    print(f'{col}: {df1[col].unique()}')"
      ],
      "metadata": {
        "id": "4e2rGOGdt9PN"
      },
      "id": "4e2rGOGdt9PN",
      "execution_count": null,
      "outputs": []
    },
    {
      "cell_type": "markdown",
      "source": [
        "## Model Training and Testing"
      ],
      "metadata": {
        "id": "vLo12fYFuGtN"
      },
      "id": "vLo12fYFuGtN"
    },
    {
      "cell_type": "code",
      "source": [
        "X = df1.drop('Churn',axis='columns')\n",
        "y = df1['Churn']\n",
        "\n",
        "from sklearn.model_selection import train_test_split\n",
        "X_train, X_test, y_train, y_test = train_test_split(X,y,test_size=0.2,random_state=5)"
      ],
      "metadata": {
        "id": "l6aQ-OITuJpE"
      },
      "id": "l6aQ-OITuJpE",
      "execution_count": null,
      "outputs": []
    },
    {
      "cell_type": "code",
      "source": [
        "X_train.shape"
      ],
      "metadata": {
        "id": "Ud6ZW2XNuR9y"
      },
      "id": "Ud6ZW2XNuR9y",
      "execution_count": null,
      "outputs": []
    },
    {
      "cell_type": "code",
      "source": [
        "X_test.shape"
      ],
      "metadata": {
        "id": "AivyNGtauT4v"
      },
      "id": "AivyNGtauT4v",
      "execution_count": null,
      "outputs": []
    },
    {
      "cell_type": "markdown",
      "source": [
        "## Build ANN Model"
      ],
      "metadata": {
        "id": "ZsBwoo2ouXhT"
      },
      "id": "ZsBwoo2ouXhT"
    },
    {
      "cell_type": "code",
      "source": [
        "import tensorflow as tf\n",
        "from tensorflow import keras\n",
        "\n",
        "\n",
        "model = keras.Sequential([\n",
        "    keras.layers.Dense(26, input_shape=(26,), activation='relu'),\n",
        "    # keras.layers.Dense(15, activation='relu'),\n",
        "    keras.layers.Dense(1, activation='sigmoid')\n",
        "    # output is 1 and 0 toh probability dega using sigmoid\n",
        "])\n",
        "\n",
        "# opt = keras.optimizers.Adam(learning_rate=0.01)\n",
        "\n",
        "# output is 0 and 1 binary_crossentropy categorical\n",
        "model.compile(optimizer='adam',\n",
        "              loss='binary_crossentropy',\n",
        "              metrics=['accuracy'])\n",
        "\n",
        "model.fit(X_train, y_train, epochs=5)"
      ],
      "metadata": {
        "id": "oCKYy063uaLT"
      },
      "id": "oCKYy063uaLT",
      "execution_count": null,
      "outputs": []
    },
    {
      "cell_type": "code",
      "source": [
        "model.evaluate(X_test, y_test)"
      ],
      "metadata": {
        "id": "iGNb4oPiu13-"
      },
      "id": "iGNb4oPiu13-",
      "execution_count": null,
      "outputs": []
    },
    {
      "cell_type": "code",
      "source": [
        "yp = model.predict(X_test)\n",
        "yp[:5]"
      ],
      "metadata": {
        "id": "Bjn9hjoou5i4"
      },
      "id": "Bjn9hjoou5i4",
      "execution_count": null,
      "outputs": []
    },
    {
      "cell_type": "code",
      "source": [
        "y_test[:5]"
      ],
      "metadata": {
        "id": "tCZOKc8PvH8f"
      },
      "id": "tCZOKc8PvH8f",
      "execution_count": null,
      "outputs": []
    },
    {
      "cell_type": "code",
      "source": [
        "# output is 1 and 0 toh probability dega using sigmoid\n",
        "y_pred = []\n",
        "for element in yp:\n",
        "    if element > 0.5:\n",
        "        y_pred.append(1)\n",
        "    else:\n",
        "        y_pred.append(0)"
      ],
      "metadata": {
        "id": "tASZ-ERGu-C8"
      },
      "id": "tASZ-ERGu-C8",
      "execution_count": null,
      "outputs": []
    },
    {
      "cell_type": "code",
      "source": [
        "y_pred[:5]"
      ],
      "metadata": {
        "id": "iK6U-w7vvOhF"
      },
      "id": "iK6U-w7vvOhF",
      "execution_count": null,
      "outputs": []
    },
    {
      "cell_type": "markdown",
      "source": [
        "### Confusion Metrics and Precision F-1 Call"
      ],
      "metadata": {
        "id": "S-jj9LQJvVHu"
      },
      "id": "S-jj9LQJvVHu"
    },
    {
      "cell_type": "code",
      "source": [
        "from sklearn.metrics import confusion_matrix , classification_report\n",
        "\n",
        "print(classification_report(y_test,y_pred))"
      ],
      "metadata": {
        "id": "s4A8CaN8vfXM"
      },
      "id": "s4A8CaN8vfXM",
      "execution_count": null,
      "outputs": []
    },
    {
      "cell_type": "code",
      "source": [
        "import seaborn as sn\n",
        "cm = tf.math.confusion_matrix(labels=y_test,predictions=y_pred)\n",
        "\n",
        "plt.figure(figsize = (10,7))\n",
        "sn.heatmap(cm, annot=True, fmt='d')\n",
        "plt.xlabel('Predicted')\n",
        "plt.ylabel('Truth')"
      ],
      "metadata": {
        "id": "1DRrH51Rvhgt"
      },
      "id": "1DRrH51Rvhgt",
      "execution_count": null,
      "outputs": []
    },
    {
      "cell_type": "markdown",
      "source": [
        "# Handling Imbalanced Dataset - Customer Churn Project\n",
        "- Due to imbalance in customer churn f-1 score is low for 0 and 1 case\n",
        "- Examples\n",
        "  - customer churn ,cancer prediction, device failure"
      ],
      "metadata": {
        "id": "KJG3Ey0JNM1R"
      },
      "id": "KJG3Ey0JNM1R"
    },
    {
      "cell_type": "markdown",
      "source": [
        "## Techniques\n",
        "1. Undersampling majority class 900 F 100 R\n",
        "  - Pick random 100 F and 100 R\n",
        "2. Oversampling\n",
        "  - Duplicate 100*9 R 900R and 900F\n",
        "3. SMOTE - Synthetic minority element ka over-sampling tecnique\n",
        "  - generate examples using k nearest neighbors algo\n",
        "  - 100*9 R 900R and 900F\n",
        "  - use library imblearn.over_sampling import\n",
        "  SMOTE\n",
        "4. Ensemble Method Avg Lena Divide Karke\n",
        "  - 900 F -> Divide 300 300 300 Take 100 F and 100 R combo 1, 2 ,3\n",
        "  - Final result avg/ majority vote of all three\n",
        "5. Focal Loss\n",
        "  - penalize to majority class and more weight to minorty class"
      ],
      "metadata": {
        "id": "KcgLzwpLOXn2"
      },
      "id": "KcgLzwpLOXn2"
    },
    {
      "cell_type": "markdown",
      "source": [
        "You can see that by using dropout layer test accuracy increased from 0.77 to 0.81"
      ],
      "metadata": {
        "id": "PSrDfROgM-aF"
      },
      "id": "PSrDfROgM-aF"
    },
    {
      "cell_type": "code",
      "source": [
        "# df1 is the final dataframe after data processing\n",
        "df1.Churn.value_counts()\n",
        "# Churn\n",
        "# 0\t5163\n",
        "# 1\t1869"
      ],
      "metadata": {
        "id": "_VlkSmEAUORR"
      },
      "id": "_VlkSmEAUORR",
      "execution_count": null,
      "outputs": []
    },
    {
      "cell_type": "code",
      "source": [
        "df1.columns"
      ],
      "metadata": {
        "id": "tYCpJ515VAkf"
      },
      "id": "tYCpJ515VAkf",
      "execution_count": null,
      "outputs": []
    },
    {
      "cell_type": "markdown",
      "source": [
        "BUILD ANN MODEL Function to be used by all methods"
      ],
      "metadata": {
        "id": "-rSfnZxxXMUj"
      },
      "id": "-rSfnZxxXMUj"
    },
    {
      "cell_type": "code",
      "source": [
        "import tensorflow as tf\n",
        "from tensorflow import keras\n",
        "from sklearn.metrics import confusion_matrix , classification_report"
      ],
      "metadata": {
        "id": "bst_aBdjXL4c"
      },
      "id": "bst_aBdjXL4c",
      "execution_count": null,
      "outputs": []
    },
    {
      "cell_type": "code",
      "source": [
        "def ANN(X_train, y_train, X_test, y_test, loss, weights):\n",
        "    model = keras.Sequential([\n",
        "        keras.layers.Dense(26, input_dim=26, activation='relu'),\n",
        "        keras.layers.Dense(15, activation='relu'),\n",
        "        keras.layers.Dense(1, activation='sigmoid')\n",
        "    ])\n",
        "\n",
        "    model.compile(optimizer='adam', loss=loss, metrics=['accuracy'])\n",
        "\n",
        "    if weights == -1:\n",
        "        model.fit(X_train, y_train, epochs=100)\n",
        "    else:\n",
        "        model.fit(X_train, y_train, epochs=100, class_weight = weights)\n",
        "\n",
        "    print(model.evaluate(X_test, y_test))\n",
        "\n",
        "    y_preds = model.predict(X_test)\n",
        "    y_preds = np.round(y_preds)\n",
        "\n",
        "    print(\"Classification Report: \\n\", classification_report(y_test, y_preds))\n",
        "\n",
        "    return y_preds"
      ],
      "metadata": {
        "id": "TxqvN93_XTzc"
      },
      "id": "TxqvN93_XTzc",
      "execution_count": null,
      "outputs": []
    },
    {
      "cell_type": "markdown",
      "source": [
        "## 1- Undersampling"
      ],
      "metadata": {
        "id": "5HFRmsHUVYoo"
      },
      "id": "5HFRmsHUVYoo"
    },
    {
      "cell_type": "code",
      "source": [
        "# Same amount of zero and ones\n",
        "class_0_count, class_1_count= df1.Churn.value_counts()\n",
        "class_0_count, class_1_count"
      ],
      "metadata": {
        "id": "nLYAj744VaLC"
      },
      "id": "nLYAj744VaLC",
      "execution_count": null,
      "outputs": []
    },
    {
      "cell_type": "code",
      "source": [
        "df_class_0 = df1[df1['Churn']==0]\n",
        "df_class_1 = df1[df1['Churn']==1]"
      ],
      "metadata": {
        "id": "TvfTZ49CV3o_"
      },
      "id": "TvfTZ49CV3o_",
      "execution_count": null,
      "outputs": []
    },
    {
      "cell_type": "code",
      "source": [
        "df_class_0.shape"
      ],
      "metadata": {
        "id": "6mPDoSeAV-gl"
      },
      "id": "6mPDoSeAV-gl",
      "execution_count": null,
      "outputs": []
    },
    {
      "cell_type": "code",
      "source": [
        "df_class_1.shape"
      ],
      "metadata": {
        "id": "Pq8rSFzDV_ot"
      },
      "id": "Pq8rSFzDV_ot",
      "execution_count": null,
      "outputs": []
    },
    {
      "cell_type": "markdown",
      "source": [
        "Class 0 se sample collect of size class 1"
      ],
      "metadata": {
        "id": "yimGVkrsWBhz"
      },
      "id": "yimGVkrsWBhz"
    },
    {
      "cell_type": "code",
      "source": [
        "df_class_0_sameas1= df_class_0.sample(class_1_count)\n",
        "df_class_0_sameas1.shape"
      ],
      "metadata": {
        "id": "8k5upSI-WFQW"
      },
      "id": "8k5upSI-WFQW",
      "execution_count": null,
      "outputs": []
    },
    {
      "cell_type": "code",
      "source": [
        "# combine to create a new df\n",
        "df_underfitting = pd.concat([df_class_0_sameas1,df_class_1])\n",
        "df_underfitting.shape"
      ],
      "metadata": {
        "id": "hEwUgZxqVz_q"
      },
      "id": "hEwUgZxqVz_q",
      "execution_count": null,
      "outputs": []
    },
    {
      "cell_type": "code",
      "source": [
        "df_underfitting['Churn'].value_counts()\n",
        "# Churn\n",
        "# 0\t1869\n",
        "# 1\t1869\n"
      ],
      "metadata": {
        "id": "VViEXBaSWWzh"
      },
      "id": "VViEXBaSWWzh",
      "execution_count": null,
      "outputs": []
    },
    {
      "cell_type": "markdown",
      "source": [
        "### Model Training using this df_underfitting"
      ],
      "metadata": {
        "id": "jcBJlzMxWjbp"
      },
      "id": "jcBJlzMxWjbp"
    },
    {
      "cell_type": "code",
      "source": [
        "X = df_underfitting.drop('Churn',axis='columns')\n",
        "y = df_underfitting['Churn']\n",
        "\n",
        "#Stratity y meand y_train  and y_test equal number of 0 and 1 divide\n",
        "from sklearn.model_selection import train_test_split\n",
        "X_train, X_test, y_train, y_test = train_test_split(X, y, test_size=0.2, random_state=15, stratify=y)"
      ],
      "metadata": {
        "id": "yVSVIFmvWjLO"
      },
      "id": "yVSVIFmvWjLO",
      "execution_count": null,
      "outputs": []
    },
    {
      "cell_type": "code",
      "source": [
        "# Number of classes in training Data\n",
        "y_train.value_counts()\n",
        "# 0\t1495\n",
        "# 1\t1495"
      ],
      "metadata": {
        "id": "hQ9gSpOIWsx1"
      },
      "id": "hQ9gSpOIWsx1",
      "execution_count": null,
      "outputs": []
    },
    {
      "cell_type": "code",
      "source": [
        "y_test.value_counts()\n",
        "\n",
        "# 1\t374\n",
        "# 0\t374\n"
      ],
      "metadata": {
        "id": "eh0YfDmBW4tE"
      },
      "id": "eh0YfDmBW4tE",
      "execution_count": null,
      "outputs": []
    },
    {
      "cell_type": "code",
      "source": [
        "y_preds_undersampling = ANN(X_train, y_train, X_test, y_test, 'binary_crossentropy', -1)\n",
        "# f1 score for 0 and 1 imporved now"
      ],
      "metadata": {
        "collapsed": true,
        "id": "_33OCfaIXq4z"
      },
      "id": "_33OCfaIXq4z",
      "execution_count": null,
      "outputs": []
    },
    {
      "cell_type": "markdown",
      "source": [
        "## 2- Oversampling"
      ],
      "metadata": {
        "id": "D9kKkQTZYJAa"
      },
      "id": "D9kKkQTZYJAa"
    },
    {
      "cell_type": "code",
      "source": [
        "# Same amount of zero and ones\n",
        "class_0_count, class_1_count= df1.Churn.value_counts()\n",
        "class_0_count, class_1_count\n",
        "df_class_0 = df1[df1['Churn']==0]\n",
        "df_class_1 = df1[df1['Churn']==1]"
      ],
      "metadata": {
        "id": "EztKnKXuYzjK"
      },
      "id": "EztKnKXuYzjK",
      "execution_count": null,
      "outputs": []
    },
    {
      "cell_type": "code",
      "source": [
        "# Duplicate the class1 to equal to class0 number\n",
        "# Blindly duplicating the values from df_class1\n",
        "df_class1_oversample=df_class_1.sample(class_0_count,replace=True)\n",
        "df_class1_oversample.shape"
      ],
      "metadata": {
        "id": "6oNmpAvmY7It"
      },
      "id": "6oNmpAvmY7It",
      "execution_count": null,
      "outputs": []
    },
    {
      "cell_type": "code",
      "source": [
        "# join and one data frame\n",
        "df_oversample = pd.concat([df_class1_oversample,df_class_0])\n",
        "df_oversample.shape"
      ],
      "metadata": {
        "id": "8QTBeAoaZYE0"
      },
      "id": "8QTBeAoaZYE0",
      "execution_count": null,
      "outputs": []
    },
    {
      "cell_type": "code",
      "source": [
        "df_oversample['Churn'].value_counts()"
      ],
      "metadata": {
        "id": "aYOsZ1_nZfOo"
      },
      "id": "aYOsZ1_nZfOo",
      "execution_count": null,
      "outputs": []
    },
    {
      "cell_type": "code",
      "source": [
        "X = df_oversample.drop('Churn',axis='columns')\n",
        "y = df_oversample['Churn']\n",
        "\n",
        "#Stratity y meand y_train  and y_test equal number of 0 and 1 divide\n",
        "from sklearn.model_selection import train_test_split\n",
        "X_train, X_test, y_train, y_test = train_test_split(X, y, test_size=0.2, random_state=15, stratify=y)"
      ],
      "metadata": {
        "id": "OWk0lhLgZh22"
      },
      "id": "OWk0lhLgZh22",
      "execution_count": null,
      "outputs": []
    },
    {
      "cell_type": "code",
      "source": [
        "# Number of classes in training Data\n",
        "y_train.value_counts()\n",
        "# 0\t1495\n",
        "# 1\t1495"
      ],
      "metadata": {
        "id": "yT_06KQiZlT_"
      },
      "id": "yT_06KQiZlT_",
      "execution_count": null,
      "outputs": []
    },
    {
      "cell_type": "code",
      "source": [
        "y_test.value_counts()\n",
        "\n",
        "# 1\t374\n",
        "# 0\t374\n"
      ],
      "metadata": {
        "id": "EV3DFekmZo4Y"
      },
      "id": "EV3DFekmZo4Y",
      "execution_count": null,
      "outputs": []
    },
    {
      "cell_type": "code",
      "source": [
        "y_preds_oversampling = ANN(X_train, y_train, X_test, y_test, 'binary_crossentropy', -1)\n",
        "# f1 score for 0 and 1 imporved now"
      ],
      "metadata": {
        "id": "dtdQfoVvZt6R"
      },
      "id": "dtdQfoVvZt6R",
      "execution_count": null,
      "outputs": []
    },
    {
      "cell_type": "markdown",
      "source": [
        "## 3- SOMET\n",
        "- Instead blindly duplicating values in class-1\n",
        "- use k mean neighbour algo"
      ],
      "metadata": {
        "id": "SfG9kCTtaMnm"
      },
      "id": "SfG9kCTtaMnm"
    },
    {
      "cell_type": "code",
      "source": [
        "X = df1.drop('Churn',axis='columns')\n",
        "y = df1['Churn']"
      ],
      "metadata": {
        "id": "8EKg5piwap_D"
      },
      "id": "8EKg5piwap_D",
      "execution_count": null,
      "outputs": []
    },
    {
      "cell_type": "code",
      "source": [
        "y.value_counts()\n",
        "# 0\t5163\n",
        "# 1\t1869"
      ],
      "metadata": {
        "id": "3yZdGF7WavZY"
      },
      "id": "3yZdGF7WavZY",
      "execution_count": null,
      "outputs": []
    },
    {
      "cell_type": "code",
      "source": [
        "from imblearn.over_sampling import SMOTE\n",
        "\n",
        "smote = SMOTE(sampling_strategy='minority')\n",
        "X_sm, y_sm = smote.fit_resample(X, y)\n",
        "\n",
        "# now y ka minority 1 is equal to 0\n",
        "# not blindly duplicated used k mean insternally for those rows\n",
        "y_sm.value_counts()"
      ],
      "metadata": {
        "id": "MgTUcXrea1_h"
      },
      "id": "MgTUcXrea1_h",
      "execution_count": null,
      "outputs": []
    },
    {
      "cell_type": "markdown",
      "source": [
        "New x and y are ready now do train split and build model"
      ],
      "metadata": {
        "id": "8u_1vKdrbNqr"
      },
      "id": "8u_1vKdrbNqr"
    },
    {
      "cell_type": "markdown",
      "source": [
        "## 4- Ensemble with undersampling\n",
        "- decrease majority 0 to number of minority 1\n",
        "- use majority vote from multiple division"
      ],
      "metadata": {
        "id": "3k7OPBoPbYji"
      },
      "id": "3k7OPBoPbYji"
    },
    {
      "cell_type": "code",
      "source": [
        "df1.Churn.value_counts()"
      ],
      "metadata": {
        "id": "XHKlj5tybhh_"
      },
      "id": "XHKlj5tybhh_",
      "execution_count": null,
      "outputs": []
    },
    {
      "cell_type": "code",
      "source": [
        "# Regain Original features and labels\n",
        "X = df1.drop('Churn',axis='columns')\n",
        "y = df1['Churn']"
      ],
      "metadata": {
        "id": "t9o4L_CNblm7"
      },
      "id": "t9o4L_CNblm7",
      "execution_count": null,
      "outputs": []
    },
    {
      "cell_type": "markdown",
      "source": [
        "Training data need to be divided and Test can remain same"
      ],
      "metadata": {
        "id": "KeSqQqgUd7ld"
      },
      "id": "KeSqQqgUd7ld"
    },
    {
      "cell_type": "code",
      "source": [
        "from sklearn.model_selection import train_test_split\n",
        "X_train, X_test, y_train, y_test = train_test_split(X, y, test_size=0.2, random_state=15, stratify=y)"
      ],
      "metadata": {
        "id": "iQrprF85eAbk"
      },
      "id": "iQrprF85eAbk",
      "execution_count": null,
      "outputs": []
    },
    {
      "cell_type": "code",
      "source": [
        "y_train.value_counts()\n",
        "# 0\t4130\n",
        "# 1\t1495\n",
        "\n",
        "# need 1st split 0:1495 1495 2nd 1496:1496+1495 1495\n",
        "# Train in 3 data split of majority"
      ],
      "metadata": {
        "id": "NRDLK_bKeC7_"
      },
      "id": "NRDLK_bKeC7_",
      "execution_count": null,
      "outputs": []
    },
    {
      "cell_type": "code",
      "source": [
        "df2= X_train\n",
        "df2['Churn']=y_train\n",
        "df2.shape\n",
        "df2.head()"
      ],
      "metadata": {
        "id": "2YRkz8pdcuna"
      },
      "id": "2YRkz8pdcuna",
      "execution_count": null,
      "outputs": []
    },
    {
      "cell_type": "code",
      "source": [
        "df2['Churn'].value_counts()"
      ],
      "metadata": {
        "id": "_73YzfD3ebE0"
      },
      "id": "_73YzfD3ebE0",
      "execution_count": null,
      "outputs": []
    },
    {
      "cell_type": "code",
      "source": [
        "df2_class0 = df2[df2['Churn']==0]\n",
        "df2_class1 = df2[df2['Churn']==1]"
      ],
      "metadata": {
        "id": "lqvyMvi8dqzu"
      },
      "id": "lqvyMvi8dqzu",
      "execution_count": null,
      "outputs": []
    },
    {
      "cell_type": "code",
      "source": [
        "df2_class0.shape,df2_class1.shape\n",
        "# ((4130, 27), (1495, 27))"
      ],
      "metadata": {
        "id": "oBl8UuYNdyeV"
      },
      "id": "oBl8UuYNdyeV",
      "execution_count": null,
      "outputs": []
    },
    {
      "cell_type": "code",
      "source": [
        "df_train_divide1 = pd.concat([df2_class0[0:1495],df2_class1])\n",
        "df_train_divide1.shape"
      ],
      "metadata": {
        "id": "oKhfp0JLd0nk"
      },
      "id": "oKhfp0JLd0nk",
      "execution_count": null,
      "outputs": []
    },
    {
      "cell_type": "code",
      "source": [
        "df_train_divide1['Churn'].value_counts()"
      ],
      "metadata": {
        "id": "0c95FfsGe3qd"
      },
      "id": "0c95FfsGe3qd",
      "execution_count": null,
      "outputs": []
    },
    {
      "cell_type": "markdown",
      "source": [
        "Create A fucntion to create a batch"
      ],
      "metadata": {
        "id": "HWQ20WRGe8Y1"
      },
      "id": "HWQ20WRGe8Y1"
    },
    {
      "cell_type": "code",
      "source": [
        "def get_train_batch(df_majority, df_minority, start, end):\n",
        "    df_train = pd.concat([df_majority[start:end], df_minority], axis=0)\n",
        "\n",
        "    X_train = df_train.drop('Churn', axis='columns')\n",
        "    y_train = df_train.Churn\n",
        "    return X_train, y_train"
      ],
      "metadata": {
        "id": "-6PuSM2-fCqH"
      },
      "id": "-6PuSM2-fCqH",
      "execution_count": null,
      "outputs": []
    },
    {
      "cell_type": "markdown",
      "source": [
        "Prediction 1: First Division used as training"
      ],
      "metadata": {
        "id": "EyejQjeCfRB7"
      },
      "id": "EyejQjeCfRB7"
    },
    {
      "cell_type": "code",
      "source": [],
      "metadata": {
        "id": "8aq-5cMnmPuy"
      },
      "id": "8aq-5cMnmPuy",
      "execution_count": null,
      "outputs": []
    },
    {
      "cell_type": "code",
      "source": [
        "X_train, y_train = get_train_batch(df2_class0, df2_class1, 0, 1495)\n",
        "y_pred1 = ANN(X_train, y_train, X_test, y_test, 'binary_crossentropy', -1)"
      ],
      "metadata": {
        "id": "hGgsLqBwfPDn"
      },
      "id": "hGgsLqBwfPDn",
      "execution_count": null,
      "outputs": []
    },
    {
      "cell_type": "markdown",
      "source": [
        "Prediction 2: Second Division used as training"
      ],
      "metadata": {
        "id": "sujHlpeNmQmz"
      },
      "id": "sujHlpeNmQmz"
    },
    {
      "cell_type": "code",
      "source": [
        "X_train, y_train = get_train_batch(df3_class0, df3_class1, 1495, 2990)\n",
        "y_pred2 = ANN(X_train, y_train, X_test, y_test, 'binary_crossentropy', -1)"
      ],
      "metadata": {
        "id": "qFEfYz5UloZF"
      },
      "id": "qFEfYz5UloZF",
      "execution_count": null,
      "outputs": []
    },
    {
      "cell_type": "markdown",
      "source": [
        "Prediction 3: Third Division used as training"
      ],
      "metadata": {
        "id": "z9JLFQy1mSrE"
      },
      "id": "z9JLFQy1mSrE"
    },
    {
      "cell_type": "code",
      "source": [
        "X_train, y_train = get_train_batch(df3_class0, df3_class1, 2990, 4130)\n",
        "\n",
        "y_pred3 = ANN(X_train, y_train, X_test, y_test, 'binary_crossentropy', -1)"
      ],
      "metadata": {
        "id": "dcLLzerdlptN"
      },
      "id": "dcLLzerdlptN",
      "execution_count": null,
      "outputs": []
    },
    {
      "cell_type": "code",
      "source": [
        "len(X_test)\n",
        "y_pred1[0]"
      ],
      "metadata": {
        "id": "LaGw2xsclrtm"
      },
      "id": "LaGw2xsclrtm",
      "execution_count": null,
      "outputs": []
    },
    {
      "cell_type": "markdown",
      "source": [
        "Trained the model- YPred\n",
        "- xtrain and ytrain divided equal distribution wala\n",
        "- Net ypred -> majority of 1 2 3"
      ],
      "metadata": {
        "id": "6Zecs_rSlwOI"
      },
      "id": "6Zecs_rSlwOI"
    },
    {
      "cell_type": "code",
      "source": [
        "y_pred_final = y_pred1.copy()\n",
        "for i in range(len(y_pred1)):\n",
        "    n_ones = y_pred1[i] + y_pred2[i] + y_pred3[i]\n",
        "    if n_ones>1:\n",
        "        y_pred_final[i] = 1\n",
        "    else:\n",
        "        y_pred_final[i] = 0"
      ],
      "metadata": {
        "id": "cFOKX7x2lvrv"
      },
      "id": "cFOKX7x2lvrv",
      "execution_count": null,
      "outputs": []
    },
    {
      "cell_type": "code",
      "source": [
        "cl_rep = classification_report(y_test, y_pred_final)\n",
        "print(cl_rep)\n",
        "\n",
        "#  Final report based on y_test and y_prediction_ensemble"
      ],
      "metadata": {
        "id": "nCMnjFHpmICF"
      },
      "id": "nCMnjFHpmICF",
      "execution_count": null,
      "outputs": []
    },
    {
      "cell_type": "markdown",
      "source": [
        "# Dropout Regularisation Project-4 Sonar Mine Detection\n",
        "- dealing with overfit and underfit problem\n",
        "- neural network tends to overfit when eopchs are high\n",
        "- training sample 1 -> drop 50% neurons from hidden layers\n",
        "\n",
        "### Dropout helps in overfiting\n",
        "- dropping helps neurons dont be biased with some feature kyuki woh kabhi bhi randomly drop ho sakte\n",
        "- can;t rely on one input as it might be droipout randomly\n",
        "- neurons will not learn redundant detials of input"
      ],
      "metadata": {
        "id": "8WHmfSNmGloZ"
      },
      "id": "8WHmfSNmGloZ"
    },
    {
      "cell_type": "markdown",
      "source": [
        "## Dataset - Connectionist Bench Solar Mines Vs Rocks\n",
        "- binary classification problem"
      ],
      "metadata": {
        "id": "Ycd3a6iZHXfZ"
      },
      "id": "Ycd3a6iZHXfZ"
    },
    {
      "cell_type": "code",
      "source": [
        "import numpy as np\n",
        "import pandas as pd\n",
        "import matplotlib.pyplot as plt\n",
        "import seaborn as sns"
      ],
      "metadata": {
        "id": "MmQ0gWb7H2Tj"
      },
      "id": "MmQ0gWb7H2Tj",
      "execution_count": null,
      "outputs": []
    },
    {
      "cell_type": "code",
      "source": [
        "import warnings\n",
        "warnings.filterwarnings('ignore')"
      ],
      "metadata": {
        "id": "9ZEwmapnH367"
      },
      "id": "9ZEwmapnH367",
      "execution_count": null,
      "outputs": []
    },
    {
      "cell_type": "code",
      "source": [
        "df = pd.read_csv(\"/content/sonar_dataset.csv\", header=None)\n",
        "# header none since this data dont have column name so indexing\n",
        "df.sample(5)"
      ],
      "metadata": {
        "id": "grdATglWH5M9"
      },
      "id": "grdATglWH5M9",
      "execution_count": null,
      "outputs": []
    },
    {
      "cell_type": "code",
      "source": [
        "df.shape"
      ],
      "metadata": {
        "id": "clCEmS6uIFls"
      },
      "id": "clCEmS6uIFls",
      "execution_count": null,
      "outputs": []
    },
    {
      "cell_type": "code",
      "source": [
        "df.isnull().sum()"
      ],
      "metadata": {
        "id": "mF2Lvj7KIHdP"
      },
      "id": "mF2Lvj7KIHdP",
      "execution_count": null,
      "outputs": []
    },
    {
      "cell_type": "code",
      "source": [
        "df.columns"
      ],
      "metadata": {
        "id": "rFa2M68-IccK"
      },
      "id": "rFa2M68-IccK",
      "execution_count": null,
      "outputs": []
    },
    {
      "cell_type": "code",
      "source": [
        "df[60].unique()"
      ],
      "metadata": {
        "id": "i3iEegfuIgsz"
      },
      "id": "i3iEegfuIgsz",
      "execution_count": null,
      "outputs": []
    },
    {
      "cell_type": "code",
      "source": [
        "df[60].value_counts()"
      ],
      "metadata": {
        "id": "saQvRSbNIJEW"
      },
      "id": "saQvRSbNIJEW",
      "execution_count": null,
      "outputs": []
    },
    {
      "cell_type": "markdown",
      "source": [
        "### x and y"
      ],
      "metadata": {
        "id": "t7CXCR_AIo2M"
      },
      "id": "t7CXCR_AIo2M"
    },
    {
      "cell_type": "code",
      "source": [
        "x= df.drop(60,axis=1)\n",
        "y= df[60]\n",
        "x"
      ],
      "metadata": {
        "id": "beqlShS4IqVt"
      },
      "id": "beqlShS4IqVt",
      "execution_count": null,
      "outputs": []
    },
    {
      "cell_type": "code",
      "source": [
        "y"
      ],
      "metadata": {
        "id": "Bxhdu58PIwLZ"
      },
      "id": "Bxhdu58PIwLZ",
      "execution_count": null,
      "outputs": []
    },
    {
      "cell_type": "markdown",
      "source": [
        "### Label Encoding y\n",
        "- M = 1\n",
        "- R = 0\n",
        "\n",
        "OR\n",
        "### Dummies create Y-> R and M column mein\n",
        "- y = pd.get_dummies(y, drop_first=True) ek hi columns R naam ka bacha\n",
        "- y.sample(5) # R --> 1 and M --> 0"
      ],
      "metadata": {
        "id": "hiYQvXOQJChY"
      },
      "id": "hiYQvXOQJChY"
    },
    {
      "cell_type": "code",
      "source": [
        "y = y.map({'R': 0, 'M': 1})"
      ],
      "metadata": {
        "id": "IMLr6zawJGbX"
      },
      "id": "IMLr6zawJGbX",
      "execution_count": null,
      "outputs": []
    },
    {
      "cell_type": "code",
      "source": [
        "y.value_counts()"
      ],
      "metadata": {
        "id": "O80Z8POTJGrt"
      },
      "id": "O80Z8POTJGrt",
      "execution_count": null,
      "outputs": []
    },
    {
      "cell_type": "code",
      "source": [
        "from sklearn.model_selection import train_test_split\n",
        "X_train, X_test, y_train, y_test = train_test_split(x, y, test_size=0.25, random_state=1)"
      ],
      "metadata": {
        "id": "ECe3-2S3Jm3p"
      },
      "id": "ECe3-2S3Jm3p",
      "execution_count": null,
      "outputs": []
    },
    {
      "cell_type": "code",
      "source": [
        "X_train.head()"
      ],
      "metadata": {
        "id": "bzexK_mLJrwI"
      },
      "id": "bzexK_mLJrwI",
      "execution_count": null,
      "outputs": []
    },
    {
      "cell_type": "code",
      "source": [
        "X_train.shape"
      ],
      "metadata": {
        "id": "gxO9kosQJ3OC"
      },
      "id": "gxO9kosQJ3OC",
      "execution_count": null,
      "outputs": []
    },
    {
      "cell_type": "markdown",
      "source": [
        "## Deep Learning Model\n",
        "- Use sigmoid + binary_crossentropy when the output is one unit (1 neuron) with 0/1 label.\n",
        "- One hot ouput\n",
        "  -  labels are one-hot encoded (e.g., [1, 0] or [0, 1]), you'd need:\n",
        "  - 2 output units  softmax activation categorical_crossentropy loss\n",
        "  - keras.layers.Dense(2, activation='softmax')  # 2 output units for one-hot"
      ],
      "metadata": {
        "id": "0573UHx_Ju8E"
      },
      "id": "0573UHx_Ju8E"
    },
    {
      "cell_type": "markdown",
      "source": [
        "#### Method-1 Model without Dropout Layer"
      ],
      "metadata": {
        "id": "vArYMGLmJv4d"
      },
      "id": "vArYMGLmJv4d"
    },
    {
      "cell_type": "code",
      "source": [
        "import tensorflow as tf\n",
        "from tensorflow import keras"
      ],
      "metadata": {
        "id": "6j7AxwdcJzmg"
      },
      "id": "6j7AxwdcJzmg",
      "execution_count": null,
      "outputs": []
    },
    {
      "cell_type": "code",
      "source": [
        "model = keras.Sequential([\n",
        "    keras.layers.Dense(60, input_dim=60, activation='relu'),\n",
        "    keras.layers.Dense(30, activation='relu'),\n",
        "    keras.layers.Dense(15, activation='relu'),\n",
        "    keras.layers.Dense(1, activation='sigmoid')\n",
        "])\n",
        "\n",
        "# binary ouput sigmoid\n",
        "# error loss = binary_crossenetr\n",
        "\n",
        "model.compile(loss='binary_crossentropy', optimizer='adam', metrics=['accuracy'])\n",
        "\n",
        "# batch size randomly 8 samples\n",
        "model.fit(X_train, y_train, epochs=100, batch_size=8)"
      ],
      "metadata": {
        "id": "XP8MM46hJ08b"
      },
      "id": "XP8MM46hJ08b",
      "execution_count": null,
      "outputs": []
    },
    {
      "cell_type": "code",
      "source": [
        "# Overfit training time accuracy 1 but here problem\n",
        "model.evaluate(X_test, y_test)"
      ],
      "metadata": {
        "id": "6b5YJIm_LYvY"
      },
      "id": "6b5YJIm_LYvY",
      "execution_count": null,
      "outputs": []
    },
    {
      "cell_type": "code",
      "source": [
        "pred = model.predict(X_test)\n",
        "print(pred,pred.shape)\n",
        "y_pred= pred.reshape(-1)\n",
        "#  (52, 1) to single array convert\n",
        "print(y_pred[:10])\n",
        "\n",
        "# round the values to nearest integer ie 0 or 1\n",
        "y_pred = np.round(y_pred)\n",
        "print(y_pred[:10])\n",
        "print(y_test[:10])"
      ],
      "metadata": {
        "id": "iFtkYW0LLoG7"
      },
      "id": "iFtkYW0LLoG7",
      "execution_count": null,
      "outputs": []
    },
    {
      "cell_type": "markdown",
      "source": [
        "##### Confusion matrix and report y true and predicted"
      ],
      "metadata": {
        "id": "3V2pFbf4MH64"
      },
      "id": "3V2pFbf4MH64"
    },
    {
      "cell_type": "code",
      "source": [
        "from sklearn.metrics import confusion_matrix , classification_report\n",
        "\n",
        "print(classification_report(y_test, y_pred))"
      ],
      "metadata": {
        "id": "e9uTs-XCMM3x"
      },
      "id": "e9uTs-XCMM3x",
      "execution_count": null,
      "outputs": []
    },
    {
      "cell_type": "markdown",
      "source": [
        "#### Method-2 Model with Dropout Layer\n"
      ],
      "metadata": {
        "id": "ENIwTWmyMW-t"
      },
      "id": "ENIwTWmyMW-t"
    },
    {
      "cell_type": "code",
      "source": [
        "modeld = keras.Sequential([\n",
        "    keras.layers.Dense(60, input_dim=60, activation='relu'),\n",
        "    keras.layers.Dropout(0.5),\n",
        "    # Declaring dropout for each epcoh\n",
        "    keras.layers.Dense(30, activation='relu'),\n",
        "    keras.layers.Dropout(0.5),\n",
        "    keras.layers.Dense(15, activation='relu'),\n",
        "    keras.layers.Dropout(0.5),\n",
        "    keras.layers.Dense(1, activation='sigmoid')\n",
        "])\n",
        "\n",
        "modeld.compile(loss='binary_crossentropy', optimizer='adam', metrics=['accuracy'])\n",
        "\n",
        "modeld.fit(X_train, y_train, epochs=100, batch_size=8)"
      ],
      "metadata": {
        "id": "js17Ry_aMa3H"
      },
      "id": "js17Ry_aMa3H",
      "execution_count": null,
      "outputs": []
    },
    {
      "cell_type": "code",
      "source": [
        "modeld.evaluate(X_test, y_test)\n",
        "# Test set accuracy improved"
      ],
      "metadata": {
        "id": "yN7I75HGMotj"
      },
      "id": "yN7I75HGMotj",
      "execution_count": null,
      "outputs": []
    },
    {
      "cell_type": "code",
      "source": [
        "y_pred = modeld.predict(X_test).reshape(-1)\n",
        "print(y_pred[:10])\n",
        "\n",
        "# round the values to nearest integer ie 0 or 1\n",
        "y_pred = np.round(y_pred)\n",
        "print(y_pred[:10])"
      ],
      "metadata": {
        "id": "6ro_CPyTM5gE"
      },
      "id": "6ro_CPyTM5gE",
      "execution_count": null,
      "outputs": []
    },
    {
      "cell_type": "code",
      "source": [
        "from sklearn.metrics import confusion_matrix , classification_report\n",
        "\n",
        "print(classification_report(y_test, y_pred))"
      ],
      "metadata": {
        "id": "d94_EjsxM6UH"
      },
      "id": "d94_EjsxM6UH",
      "execution_count": null,
      "outputs": []
    },
    {
      "cell_type": "markdown",
      "source": [
        "# Computer Vision\n",
        "- Area of computer science dealing with image classification, object detection\n",
        "- Image Classification - > phone peoples category into classes\n",
        "- Image classification with localization -> image category + their location(drawing boxes) -> this is called object detection\n",
        "- Object Detection -> Drawing Boxes\n",
        "  - Passbook extract information\n",
        "  - Agriculture Crop/Pest Analysize\n",
        "  - Autonomous Cars\n",
        "- Possible due to neural network training acha ho raha now\n",
        "- Image Segmentation -> Pixel differentiate\n",
        "  - image category then particular image pixels belong to which object\n",
        "\n",
        "#### Datasets for Computer Vision\n",
        "- imagenet -> labels images dog cat , with bounding images object detection\n",
        "- coco -> image segmented\n",
        "  - position detection standing sitiing\n",
        "- google open images\n",
        "- tensorflow hub - pretrained models"
      ],
      "metadata": {
        "id": "kNPZNxc1pjqw"
      },
      "id": "kNPZNxc1pjqw"
    },
    {
      "cell_type": "markdown",
      "source": [
        "## Convolutional Neural Network\n",
        "- ANN\n",
        "  - earlier ANN images array break (100,100,3) then we need 30000 neurons in first layer computation is very high\n",
        "  - Too much complexity\n",
        "  - Treats local pixels same as pixels far apart\n",
        "  - Sensitive to location of an image = array changes values\n"
      ],
      "metadata": {
        "id": "2Wg1RL8Nqx6Q"
      },
      "id": "2Wg1RL8Nqx6Q"
    },
    {
      "cell_type": "markdown",
      "source": [
        "## Image Classification using CNN- CIFAR10 dataset\n",
        "  - y = one hot encoded [0 0 0 1] instead of 4 use categorical_crossentropy\n",
        "  - y= simple value 9   use sparse_categorical_crossentropy\n",
        "  - y = 0/1 use binary crossentropy\n",
        "\n",
        "- With CNN, at the end 5 epochs, accuracy was at around 70% which is a significant improvement over ANN. CNN's are best for image classification and gives superb accuracy. Also computation is much less compared to simple ANN as maxpooling reduces the image dimensions while still preserving the features"
      ],
      "metadata": {
        "id": "sH8ENr8hneLF"
      },
      "id": "sH8ENr8hneLF"
    },
    {
      "cell_type": "code",
      "source": [
        "import tensorflow as tf\n",
        "from tensorflow.keras import datasets, layers, models\n",
        "# Keras has data, layers for models everything\n",
        "import matplotlib.pyplot as plt\n",
        "import numpy as np"
      ],
      "metadata": {
        "id": "BLv_0yRCoFGe"
      },
      "id": "BLv_0yRCoFGe",
      "execution_count": null,
      "outputs": []
    },
    {
      "cell_type": "code",
      "source": [
        "(X_train, y_train), (X_test,y_test) = datasets.cifar10.load_data()\n",
        "X_train.shape"
      ],
      "metadata": {
        "id": "uEZQE7nRoIrX"
      },
      "id": "uEZQE7nRoIrX",
      "execution_count": null,
      "outputs": []
    },
    {
      "cell_type": "code",
      "source": [
        "y_train[0]\n",
        "# ouput is from 0 to 9\n",
        "# unique, counts = np.unique(y_train, return_counts=True)\n",
        "# value_counts = dict(zip(unique, counts))\n",
        "# print(value_counts)"
      ],
      "metadata": {
        "id": "6IUHXBxroMXj"
      },
      "id": "6IUHXBxroMXj",
      "execution_count": null,
      "outputs": []
    },
    {
      "cell_type": "code",
      "source": [
        "y_train.shape\n",
        "# 2D array"
      ],
      "metadata": {
        "id": "LlnfbENVo6qR"
      },
      "id": "LlnfbENVo6qR",
      "execution_count": null,
      "outputs": []
    },
    {
      "cell_type": "code",
      "source": [
        "y_train = y_train.reshape(-1)\n",
        "y_test = y_test.reshape(-1)\n",
        "y_train.shape\n",
        "y_train[:5]"
      ],
      "metadata": {
        "id": "Fo4XbgRzo-ju"
      },
      "id": "Fo4XbgRzo-ju",
      "execution_count": null,
      "outputs": []
    },
    {
      "cell_type": "code",
      "source": [
        "X_train[0]\n",
        "# (32, 32, 3)"
      ],
      "metadata": {
        "id": "FnucNesIonXY"
      },
      "id": "FnucNesIonXY",
      "execution_count": null,
      "outputs": []
    },
    {
      "cell_type": "code",
      "source": [
        "classes = [\"airplane\",\"automobile\",\"bird\",\"cat\",\"deer\",\"dog\",\"frog\",\"horse\",\"ship\",\"truck\"]"
      ],
      "metadata": {
        "id": "yM3rDDF1ozIf"
      },
      "id": "yM3rDDF1ozIf",
      "execution_count": null,
      "outputs": []
    },
    {
      "cell_type": "code",
      "source": [
        "plt.imshow(X_train[1])"
      ],
      "metadata": {
        "id": "KaZRZXvRoqjD"
      },
      "id": "KaZRZXvRoqjD",
      "execution_count": null,
      "outputs": []
    },
    {
      "cell_type": "code",
      "source": [
        "def plot_sample(x,y,index):\n",
        "  plt.figure(figsize=(2,2))\n",
        "  plt.imshow(x[index])\n",
        "  plt.xlabel(classes[y[index]])"
      ],
      "metadata": {
        "id": "nKDLwV3fpGrP"
      },
      "id": "nKDLwV3fpGrP",
      "execution_count": null,
      "outputs": []
    },
    {
      "cell_type": "code",
      "source": [
        "plot_sample(X_train,y_train,3)"
      ],
      "metadata": {
        "id": "Xv3fQLZspQMn"
      },
      "id": "Xv3fQLZspQMn",
      "execution_count": null,
      "outputs": []
    },
    {
      "cell_type": "markdown",
      "source": [
        "Normalize x_train since pixel 0 to 255 value RGB"
      ],
      "metadata": {
        "id": "oc21B-YEpfXb"
      },
      "id": "oc21B-YEpfXb"
    },
    {
      "cell_type": "code",
      "source": [
        "X_train = X_train/255\n",
        "X_test = X_test/255"
      ],
      "metadata": {
        "id": "t-JArmU6pi_L"
      },
      "id": "t-JArmU6pi_L",
      "execution_count": null,
      "outputs": []
    },
    {
      "cell_type": "code",
      "source": [
        "X_train[0]"
      ],
      "metadata": {
        "id": "xIYsn6j5plEA"
      },
      "id": "xIYsn6j5plEA",
      "execution_count": null,
      "outputs": []
    },
    {
      "cell_type": "markdown",
      "source": [
        "#### ANN Model vs CNN Model Comparision"
      ],
      "metadata": {
        "id": "hVPW9GQfpuVv"
      },
      "id": "hVPW9GQfpuVv"
    },
    {
      "cell_type": "code",
      "source": [
        "ann = models.Sequential([\n",
        "        layers.Flatten(input_shape=(32,32,3)),\n",
        "        layers.Dense(3000, activation='relu'),\n",
        "        layers.Dense(1000, activation='relu'),\n",
        "        layers.Dense(10, activation='softmax')\n",
        "    ])\n",
        "\n",
        "ann.compile(optimizer='SGD',\n",
        "              loss='sparse_categorical_crossentropy',\n",
        "              metrics=['accuracy'])\n",
        "\n",
        "ann.fit(X_train, y_train, epochs=1)\n",
        "\n",
        "\n",
        "# y = one hot encoded [0 0 0 1] use categorical_crossentropy\n",
        "# y= simple value 9   use sparse_categorical_crossentropy\n",
        "# y = 0/1 use binary crossentropy"
      ],
      "metadata": {
        "id": "9591Oqw8py0t"
      },
      "id": "9591Oqw8py0t",
      "execution_count": null,
      "outputs": []
    },
    {
      "cell_type": "code",
      "source": [
        "from sklearn.metrics import confusion_matrix , classification_report\n",
        "import numpy as np\n",
        "y_pred = ann.predict(X_test)\n",
        "print(y_pred,y_pred.shape)\n",
        "# y_pred 10 classes total ka probability lega\n",
        "y_pred_classes = [np.argmax(element) for element in y_pred]\n",
        "# indexes of highest probability in each element\n",
        "print(\"Classification Report: \\n\", classification_report(y_test, y_pred_classes))"
      ],
      "metadata": {
        "id": "l-SF34Mvr-IL"
      },
      "id": "l-SF34Mvr-IL",
      "execution_count": null,
      "outputs": []
    },
    {
      "cell_type": "markdown",
      "source": [
        "CNN Method -> Keras provide\n",
        "- Layer1 Convolution Relu Pooling\n",
        "- Layer2 Again same\n",
        "- Layer 3 Goes to ANN neurons Dense Layer"
      ],
      "metadata": {
        "id": "ZkPyAXojq3L7"
      },
      "id": "ZkPyAXojq3L7"
    },
    {
      "cell_type": "code",
      "source": [
        "cnn = models.Sequential([\n",
        "    # cnn automatically creates filters jaise 9-> upper cirle, lower cuver etc khud pata kar lega\n",
        "    # img-> Convolution: number of filter, each filter size, and activatoion function\n",
        "    layers.Conv2D(filters=32, kernel_size=(3, 3), activation='relu', input_shape=(32, 32, 3)),\n",
        "\n",
        "    # Pooling to reduce dimension 2X2 box mein max value to 1 value\n",
        "    layers.MaxPooling2D((2, 2)),\n",
        "\n",
        "    layers.Conv2D(filters=64, kernel_size=(3, 3), activation='relu'),\n",
        "    layers.MaxPooling2D((2, 2)),\n",
        "    # now after cnn pass to ann type with flatten\n",
        "    layers.Flatten(),\n",
        "    layers.Dense(64, activation='relu'),\n",
        "    layers.Dense(10, activation='softmax')\n",
        "])"
      ],
      "metadata": {
        "id": "0rAlT70gr7JD"
      },
      "id": "0rAlT70gr7JD",
      "execution_count": null,
      "outputs": []
    },
    {
      "cell_type": "code",
      "source": [
        "cnn.compile(optimizer='adam',\n",
        "              loss='sparse_categorical_crossentropy',\n",
        "              metrics=['accuracy'])"
      ],
      "metadata": {
        "id": "38tmgskCuAIC"
      },
      "id": "38tmgskCuAIC",
      "execution_count": null,
      "outputs": []
    },
    {
      "cell_type": "code",
      "source": [
        "cnn.fit(X_train, y_train, epochs=1)"
      ],
      "metadata": {
        "id": "rIjuYXjauBkQ"
      },
      "id": "rIjuYXjauBkQ",
      "execution_count": null,
      "outputs": []
    },
    {
      "cell_type": "code",
      "source": [
        "cnn.evaluate(X_test,y_test)"
      ],
      "metadata": {
        "id": "2YFCl6H-vd6C"
      },
      "id": "2YFCl6H-vd6C",
      "execution_count": null,
      "outputs": []
    },
    {
      "cell_type": "code",
      "source": [
        "y_pred = cnn.predict(X_test)\n",
        "y_pred[:5]\n",
        "y_classes = [np.argmax(element) for element in y_pred]\n",
        "y_classes[:5]\n",
        "print(classes[np.argmax(y_pred[30])])"
      ],
      "metadata": {
        "id": "bMwFxrORvpIg"
      },
      "id": "bMwFxrORvpIg",
      "execution_count": null,
      "outputs": []
    },
    {
      "cell_type": "code",
      "source": [
        "plot_sample(X_test, y_test,30)"
      ],
      "metadata": {
        "id": "GhsD2DPPvrbX"
      },
      "id": "GhsD2DPPvrbX",
      "execution_count": null,
      "outputs": []
    },
    {
      "cell_type": "code",
      "source": [
        "from sklearn.metrics import confusion_matrix , classification_report\n",
        "print(\"Classification Report: \\n\", classification_report(y_test, y_classes))"
      ],
      "metadata": {
        "id": "d1-v0nG-wWCw"
      },
      "id": "d1-v0nG-wWCw",
      "execution_count": null,
      "outputs": []
    },
    {
      "cell_type": "markdown",
      "source": [
        "Difference between sigmoid and softmax actication fucntion\n",
        "- Sigmoid ouput\n",
        "1: 0.45\n",
        "2: 0.67\n",
        "\n",
        "-Softmax ouput\n",
        "1: 0.45/(0.45/0.67)\n",
        "2: 0.67/(0.45/0.67)\n",
        "\n",
        "So total sum of probability is 1 in softmax"
      ],
      "metadata": {
        "id": "CgQIY5NwrdfI"
      },
      "id": "CgQIY5NwrdfI"
    },
    {
      "cell_type": "markdown",
      "source": [
        "# Data Augmentation | Flower Detection Project-6\n",
        "- CNN automatically not able to scale and rotate\n",
        "  - Train with samples orgiianl but once rotated image diye problem\n",
        "- Data augmentation\n",
        "  - original image -> rotate, flip, different types create new image\n",
        "  - now use these multiple images to train\n",
        "  - now test data if get rotated image no problem\n"
      ],
      "metadata": {
        "id": "6Z8DZYMDB3EO"
      },
      "id": "6Z8DZYMDB3EO"
    },
    {
      "cell_type": "code",
      "source": [
        "import matplotlib.pyplot as plt\n",
        "import numpy as np\n",
        "import cv2\n",
        "# helps convert image into numpy array needed for training\n",
        "# cv2.imread(path of image)\n",
        "# cv2.resize into pixels 100*100\n",
        "import os\n",
        "# opertaing system fucntion laata\n",
        "import PIL\n",
        "# open images yeh sab\n",
        "# Pyhton library to work with images\n",
        "import tensorflow as tf\n",
        "\n",
        "from tensorflow import keras\n",
        "from tensorflow.keras import layers\n",
        "from tensorflow.keras.models import Sequential"
      ],
      "metadata": {
        "id": "pAPfaa5_Ej08"
      },
      "id": "pAPfaa5_Ej08",
      "execution_count": null,
      "outputs": []
    },
    {
      "cell_type": "code",
      "source": [
        "dataset_url = \"https://storage.googleapis.com/download.tensorflow.org/example_images/flower_photos.tgz\"\n",
        "data_dir = tf.keras.utils.get_file('flower_photos', origin=dataset_url,  cache_dir='/content/Photos', untar=True)\n",
        "# cache_dir indicates where to download data. I specified . which means current directory\n",
        "# untar true will unzip it"
      ],
      "metadata": {
        "id": "WOOXgUqZElXW"
      },
      "id": "WOOXgUqZElXW",
      "execution_count": null,
      "outputs": []
    },
    {
      "cell_type": "markdown",
      "source": [
        "Playaround with photos inside directory\n",
        "- use pathlib: listing images with .jpg these things"
      ],
      "metadata": {
        "id": "h3Hz7KwVFFx5"
      },
      "id": "h3Hz7KwVFFx5"
    },
    {
      "cell_type": "code",
      "source": [
        "data_dir"
      ],
      "metadata": {
        "id": "uKebHf_0FFD_"
      },
      "id": "uKebHf_0FFD_",
      "execution_count": null,
      "outputs": []
    },
    {
      "cell_type": "code",
      "source": [
        "import pathlib\n",
        "data_dir = pathlib.Path(data_dir)\n",
        "data_dir\n",
        "#PosixPath('/content/Photos/datasets/flower_photos')"
      ],
      "metadata": {
        "id": "M7osHHX6FkPV"
      },
      "id": "M7osHHX6FkPV",
      "execution_count": null,
      "outputs": []
    },
    {
      "cell_type": "code",
      "source": [
        "data_dir = data_dir / 'flower_photos'\n",
        "# going to actual folder where flowers are present"
      ],
      "metadata": {
        "id": "KnehWeEzHAc7"
      },
      "id": "KnehWeEzHAc7",
      "execution_count": null,
      "outputs": []
    },
    {
      "cell_type": "code",
      "source": [
        "print(os.path.exists(data_dir))  # Should return True\n",
        "print(os.listdir(data_dir))"
      ],
      "metadata": {
        "id": "JsoEsIkYGF-_"
      },
      "id": "JsoEsIkYGF-_",
      "execution_count": null,
      "outputs": []
    },
    {
      "cell_type": "code",
      "source": [
        "list(data_dir.glob('*/*.jpg'))[:5]\n",
        " # No subfolder match\n",
        "# Can perform listing using data_dir path\n",
        "len(list(data_dir.glob('*/*.jpg')))"
      ],
      "metadata": {
        "id": "vVPt9muOForL"
      },
      "id": "vVPt9muOForL",
      "execution_count": null,
      "outputs": []
    },
    {
      "cell_type": "markdown",
      "source": [
        "GET Roses images use glob->comes under pathlib\n",
        "\n",
        "data_dir= /content/Photos/datasets/flower_photos/flower_photos\n",
        "\n",
        "now inside this directory use glob function"
      ],
      "metadata": {
        "id": "33QD53KqGrPp"
      },
      "id": "33QD53KqGrPp"
    },
    {
      "cell_type": "code",
      "source": [
        "roses = list(data_dir.glob('roses/*'))\n",
        "roses[:5]"
      ],
      "metadata": {
        "id": "sU9J5hm2Gq3J"
      },
      "id": "sU9J5hm2Gq3J",
      "execution_count": null,
      "outputs": []
    },
    {
      "cell_type": "markdown",
      "source": [
        "### Open image in pyhton using PIL"
      ],
      "metadata": {
        "id": "OcWw_wnIHncy"
      },
      "id": "OcWw_wnIHncy"
    },
    {
      "cell_type": "code",
      "source": [
        "PIL.Image.open(str(roses[1]))"
      ],
      "metadata": {
        "id": "1T6E4F1rHp7I"
      },
      "id": "1T6E4F1rHp7I",
      "execution_count": null,
      "outputs": []
    },
    {
      "cell_type": "code",
      "source": [
        "tulips = list(data_dir.glob('tulips/*'))\n",
        "tulip[:5]\n",
        "PIL.Image.open(str(tulip[1]))"
      ],
      "metadata": {
        "id": "6ahWh2kVHx1X"
      },
      "id": "6ahWh2kVHx1X",
      "execution_count": null,
      "outputs": []
    },
    {
      "cell_type": "markdown",
      "source": [
        "Images Dictionary All Images of Differnet Types"
      ],
      "metadata": {
        "id": "CX2NyUCYICmT"
      },
      "id": "CX2NyUCYICmT"
    },
    {
      "cell_type": "code",
      "source": [
        "# Complete Data of images with label unka path hai apne paas\n",
        "flowers_images_dict = {\n",
        "    'roses': list(data_dir.glob('roses/*')),\n",
        "    'daisy': list(data_dir.glob('daisy/*')),\n",
        "    'dandelion': list(data_dir.glob('dandelion/*')),\n",
        "    'sunflowers': list(data_dir.glob('sunflowers/*')),\n",
        "    'tulips': list(data_dir.glob('tulips/*')),\n",
        "}\n"
      ],
      "metadata": {
        "id": "3H8tFKONIFVk"
      },
      "id": "3H8tFKONIFVk",
      "execution_count": null,
      "outputs": []
    },
    {
      "cell_type": "code",
      "source": [
        "PIL.Image.open(str(flowers_images_dict['roses'][100]))"
      ],
      "metadata": {
        "id": "gcXBLfQ_IIPP"
      },
      "id": "gcXBLfQ_IIPP",
      "execution_count": null,
      "outputs": []
    },
    {
      "cell_type": "code",
      "source": [
        "flowers_labels_dict = {\n",
        "    'roses': 0,\n",
        "    'daisy': 1,\n",
        "    'dandelion': 2,\n",
        "    'sunflowers': 3,\n",
        "    'tulips': 4,\n",
        "}"
      ],
      "metadata": {
        "id": "v-BJX0hLIXQc"
      },
      "id": "v-BJX0hLIXQc",
      "execution_count": null,
      "outputs": []
    },
    {
      "cell_type": "markdown",
      "source": [
        "### CV2 convert image into numpy array"
      ],
      "metadata": {
        "id": "ldR_WslfIm6D"
      },
      "id": "ldR_WslfIm6D"
    },
    {
      "cell_type": "code",
      "source": [
        "img = cv2.imread(str(flowers_images_dict['roses'][0]))\n",
        "img"
      ],
      "metadata": {
        "id": "iGlD95c4IqW1"
      },
      "id": "iGlD95c4IqW1",
      "execution_count": null,
      "outputs": []
    },
    {
      "cell_type": "code",
      "source": [
        "img.shape"
      ],
      "metadata": {
        "id": "dfMgE_hSIuXV"
      },
      "id": "dfMgE_hSIuXV",
      "execution_count": null,
      "outputs": []
    },
    {
      "cell_type": "code",
      "source": [
        "type(img)"
      ],
      "metadata": {
        "id": "a2i780GDI6bx"
      },
      "id": "a2i780GDI6bx",
      "execution_count": null,
      "outputs": []
    },
    {
      "cell_type": "markdown",
      "source": [
        "Dimensions Same resize karo"
      ],
      "metadata": {
        "id": "eINdtkDSJFZ5"
      },
      "id": "eINdtkDSJFZ5"
    },
    {
      "cell_type": "code",
      "source": [
        "img_resized= cv2.resize(img,(100,100))\n",
        "img_resized"
      ],
      "metadata": {
        "id": "lj1chlDBJHhx"
      },
      "id": "lj1chlDBJHhx",
      "execution_count": null,
      "outputs": []
    },
    {
      "cell_type": "markdown",
      "source": [
        "### Prepare x and y"
      ],
      "metadata": {
        "id": "OMdQmB5RLRE0"
      },
      "id": "OMdQmB5RLRE0"
    },
    {
      "cell_type": "code",
      "source": [
        "x,y = [],[]\n",
        "# x=[rose1,rose2,tulip2,tulip2]\n",
        "# y=[0,0,1,1]\n",
        "for flower_name, images in flowers_images_dict.items():\n",
        "    for image in images:\n",
        "        img = cv2.imread(str(image))\n",
        "        resized_img = cv2.resize(img,(180,180))\n",
        "        x.append(resized_img)\n",
        "        y.append(flowers_labels_dict[flower_name])"
      ],
      "metadata": {
        "id": "wGv8BEaGLTM-"
      },
      "id": "wGv8BEaGLTM-",
      "execution_count": null,
      "outputs": []
    },
    {
      "cell_type": "code",
      "source": [
        "x= np.array(x)\n",
        "y=np.array(y)"
      ],
      "metadata": {
        "id": "5zsfwjF_Lw_U"
      },
      "id": "5zsfwjF_Lw_U",
      "execution_count": null,
      "outputs": []
    },
    {
      "cell_type": "code",
      "source": [
        "x.shape"
      ],
      "metadata": {
        "id": "S3c9mzXgMBtn"
      },
      "id": "S3c9mzXgMBtn",
      "execution_count": null,
      "outputs": []
    },
    {
      "cell_type": "code",
      "source": [
        "y.shape"
      ],
      "metadata": {
        "id": "FmGdU1g2MCuJ"
      },
      "id": "FmGdU1g2MCuJ",
      "execution_count": null,
      "outputs": []
    },
    {
      "cell_type": "markdown",
      "source": [
        "### Model Training using CNN"
      ],
      "metadata": {
        "id": "495IvHu8MKBW"
      },
      "id": "495IvHu8MKBW"
    },
    {
      "cell_type": "code",
      "source": [
        "from sklearn.model_selection import train_test_split\n",
        "X_train, X_test, y_train, y_test = train_test_split(x, y, random_state=0)"
      ],
      "metadata": {
        "id": "tSK-SSJKMMCA"
      },
      "id": "tSK-SSJKMMCA",
      "execution_count": null,
      "outputs": []
    },
    {
      "cell_type": "markdown",
      "source": [
        "Scaling Images 255 RGB"
      ],
      "metadata": {
        "id": "eN3aTqyiMPKg"
      },
      "id": "eN3aTqyiMPKg"
    },
    {
      "cell_type": "code",
      "source": [
        "X_train_scaled = X_train / 255\n",
        "X_test_scaled = X_test / 255"
      ],
      "metadata": {
        "id": "0b9G9pGaMRJm"
      },
      "id": "0b9G9pGaMRJm",
      "execution_count": null,
      "outputs": []
    },
    {
      "cell_type": "markdown",
      "source": [
        "### Build ANN Model"
      ],
      "metadata": {
        "id": "NWnp32ctMlxr"
      },
      "id": "NWnp32ctMlxr"
    },
    {
      "cell_type": "code",
      "source": [
        "num_classes = 5\n",
        "\n",
        "model = Sequential([\n",
        "    # 16 is no. of filter and 3*3 is filter size\n",
        "  layers.Conv2D(16, 3, padding='same', activation='relu',input_shape=(180, 180, 3)),\n",
        "  layers.MaxPooling2D(),\n",
        "  layers.Conv2D(32, 3, padding='same', activation='relu'),\n",
        "  layers.MaxPooling2D(),\n",
        "  layers.Conv2D(64, 3, padding='same', activation='relu'),\n",
        "  layers.MaxPooling2D(),\n",
        "  layers.Flatten(),\n",
        "  layers.Dense(128, activation='relu'),\n",
        "  layers.Dense(num_classes)\n",
        "])\n",
        "\n",
        "model.compile(optimizer='adam',\n",
        "              loss=tf.keras.losses.SparseCategoricalCrossentropy(from_logits=True),\n",
        "              metrics=['accuracy'])\n",
        "\n",
        "model.fit(X_train_scaled, y_train, epochs=1)"
      ],
      "metadata": {
        "id": "1_hck5mkMoxm"
      },
      "id": "1_hck5mkMoxm",
      "execution_count": null,
      "outputs": []
    },
    {
      "cell_type": "code",
      "source": [
        "model.evaluate(X_test_scaled,y_test)"
      ],
      "metadata": {
        "id": "h3vGKg1kNzHM"
      },
      "id": "h3vGKg1kNzHM",
      "execution_count": null,
      "outputs": []
    },
    {
      "cell_type": "code",
      "source": [
        "predictions = model.predict(X_test_scaled)\n",
        "predictions"
      ],
      "metadata": {
        "id": "JOK8-MV1N3yt"
      },
      "id": "JOK8-MV1N3yt",
      "execution_count": null,
      "outputs": []
    },
    {
      "cell_type": "code",
      "source": [
        "prediction_classes= [np.argmax(element) for element in predictions]\n",
        "prediction_classes[0]"
      ],
      "metadata": {
        "id": "nQL8_lnpN-7M"
      },
      "id": "nQL8_lnpN-7M",
      "execution_count": null,
      "outputs": []
    },
    {
      "cell_type": "markdown",
      "source": [
        "Convert Final output y prection into softmax i.e. a/a+b+c+d+e bas aise hi"
      ],
      "metadata": {
        "id": "vAL3PVwSOTf3"
      },
      "id": "vAL3PVwSOTf3"
    },
    {
      "cell_type": "code",
      "source": [
        "# Normal array of probability convert into softman\n",
        "score = tf.nn.softmax(predictions[0])\n",
        "score"
      ],
      "metadata": {
        "id": "6YpLYTAjOceV"
      },
      "id": "6YpLYTAjOceV",
      "execution_count": null,
      "outputs": []
    },
    {
      "cell_type": "code",
      "source": [
        "np.argmax(score)"
      ],
      "metadata": {
        "id": "H6tLb5F3OpIe"
      },
      "id": "H6tLb5F3OpIe",
      "execution_count": null,
      "outputs": []
    },
    {
      "cell_type": "code",
      "source": [
        "y_test[0]"
      ],
      "metadata": {
        "id": "dUwFqLIhOP7M"
      },
      "id": "dUwFqLIhOP7M",
      "execution_count": null,
      "outputs": []
    },
    {
      "cell_type": "markdown",
      "source": [
        "### Data Augmentation\n",
        "- img hai numpy and can display\n",
        "- convert rotate, zoom, flip on that img generate new image"
      ],
      "metadata": {
        "id": "ACPBe0aUQarr"
      },
      "id": "ACPBe0aUQarr"
    },
    {
      "cell_type": "code",
      "source": [
        "data_augmentation = keras.Sequential(\n",
        "    [\n",
        "        layers.RandomZoom(0.5)\n",
        "    ]\n",
        ")"
      ],
      "metadata": {
        "id": "QxwKNbvxQjYO"
      },
      "id": "QxwKNbvxQjYO",
      "execution_count": null,
      "outputs": []
    },
    {
      "cell_type": "code",
      "source": [
        "plt.imshow(x[0])"
      ],
      "metadata": {
        "id": "qlfkwIBlREjW"
      },
      "id": "qlfkwIBlREjW",
      "execution_count": null,
      "outputs": []
    },
    {
      "cell_type": "code",
      "source": [
        "augmented_images_x=data_augmentation(x)"
      ],
      "metadata": {
        "id": "5Cfn4s_ARKMS"
      },
      "id": "5Cfn4s_ARKMS",
      "execution_count": null,
      "outputs": []
    },
    {
      "cell_type": "code",
      "source": [
        "plt.axis('off')\n",
        "plt.imshow(augmented_images_x[0].numpy().astype(\"uint8\"))"
      ],
      "metadata": {
        "id": "MBsO2K4eRQeG"
      },
      "id": "MBsO2K4eRQeG",
      "execution_count": null,
      "outputs": []
    },
    {
      "cell_type": "markdown",
      "source": [
        "### Train the model using data augmentation and a drop out layer\n",
        "- create keras layer of data augmentation"
      ],
      "metadata": {
        "id": "8DpPQh1mSMFQ"
      },
      "id": "8DpPQh1mSMFQ"
    },
    {
      "cell_type": "code",
      "source": [
        "x[0]"
      ],
      "metadata": {
        "id": "OdxWblFSSc9v"
      },
      "id": "OdxWblFSSc9v",
      "execution_count": null,
      "outputs": []
    },
    {
      "cell_type": "code",
      "source": [
        "data_augmentation = keras.Sequential(\n",
        "  [\n",
        "    layers.RandomFlip(\"horizontal\",\n",
        "                                                 input_shape=(180, 180, 3)),\n",
        "    layers.RandomRotation(0.1),\n",
        "    layers.RandomZoom(0.1),\n",
        "  ]\n",
        ")"
      ],
      "metadata": {
        "id": "3IA5-1ZsSP9a"
      },
      "id": "3IA5-1ZsSP9a",
      "execution_count": null,
      "outputs": []
    },
    {
      "cell_type": "code",
      "source": [
        "num_classes = 5\n",
        "\n",
        "model = Sequential([\n",
        "    # x_train- > data_augment -> those new_x_train->further layer to train\n",
        "    # use all the layers defined above and use those images for training too\n",
        "  data_augmentation,\n",
        "  layers.Conv2D(16, 3, padding='same', activation='relu'),\n",
        "  layers.MaxPooling2D(),\n",
        "  layers.Conv2D(32, 3, padding='same', activation='relu'),\n",
        "  layers.MaxPooling2D(),\n",
        "  layers.Conv2D(64, 3, padding='same', activation='relu'),\n",
        "  layers.MaxPooling2D(),\n",
        "  layers.Dropout(0.2),\n",
        "  layers.Flatten(),\n",
        "  layers.Dense(128, activation='relu'),\n",
        "  layers.Dense(num_classes)\n",
        "])\n",
        "\n",
        "model.compile(optimizer='adam',\n",
        "              loss=tf.keras.losses.SparseCategoricalCrossentropy(from_logits=True),\n",
        "              metrics=['accuracy'])\n",
        "\n",
        "# first layer data augmentation jo banaya\n",
        "model.fit(X_train_scaled, y_train, epochs=1)"
      ],
      "metadata": {
        "id": "1x_gWQC2SicQ"
      },
      "id": "1x_gWQC2SicQ",
      "execution_count": null,
      "outputs": []
    },
    {
      "cell_type": "code",
      "source": [
        "model.evaluate(X_test_scaled,y_test)"
      ],
      "metadata": {
        "id": "rdTK7vUKSngC"
      },
      "id": "rdTK7vUKSngC",
      "execution_count": null,
      "outputs": []
    },
    {
      "cell_type": "markdown",
      "source": [
        "# Transfer Learning\n",
        "- Use PRetrained model which is made by solving one problem\n",
        "- use to solve another problem\n",
        "- Tensorflow Hub : Saves computation"
      ],
      "metadata": {
        "id": "mn6fpNubFOlh"
      },
      "id": "mn6fpNubFOlh"
    },
    {
      "cell_type": "markdown",
      "source": [
        "## Model we use:\n",
        "- Mobilenet V2 model TensflowHub -> google trained 1000 classes fish, animals, flowers\n",
        "- freeze layers of mobilenet toh weights directly unka use kar liye\n",
        "- can add our own some layer-> GET OUR OWN FLOWER Classficiation-> 5 classes 5 types of flower\n",
        "\n",
        "- can omit last layer of pretrained model and add our layer:\n",
        "- last layer generally is signmoid softmax type\n",
        "\n"
      ],
      "metadata": {
        "id": "2x70FYFGFY27"
      },
      "id": "2x70FYFGFY27"
    },
    {
      "cell_type": "code",
      "source": [
        "import numpy as np\n",
        "import cv2\n",
        "\n",
        "import PIL.Image as Image\n",
        "import os\n",
        "\n",
        "import matplotlib.pylab as plt\n",
        "\n",
        "import tensorflow as tf\n",
        "import tensorflow_hub as hub\n",
        "# to download model mobilenet\n",
        "\n",
        "from tensorflow import keras\n",
        "from keras import Input, Model\n",
        "from tensorflow.keras import layers\n",
        "from tensorflow.keras.models import Sequential"
      ],
      "metadata": {
        "id": "E7LhoZEFF0BY"
      },
      "id": "E7LhoZEFF0BY",
      "execution_count": 16,
      "outputs": []
    },
    {
      "cell_type": "code",
      "source": [
        "print(\"TensorFlow version:\", tf.__version__)\n",
        "print(\"TF Hub version:\", hub.__version__)"
      ],
      "metadata": {
        "colab": {
          "base_uri": "https://localhost:8080/"
        },
        "id": "wPHCGooxJAtA",
        "outputId": "933fb822-e4ff-484f-9a7d-e2c871c37d19"
      },
      "id": "wPHCGooxJAtA",
      "execution_count": 10,
      "outputs": [
        {
          "output_type": "stream",
          "name": "stdout",
          "text": [
            "TensorFlow version: 2.18.0\n",
            "TF Hub version: 0.16.1\n"
          ]
        }
      ]
    },
    {
      "cell_type": "markdown",
      "source": [
        "Create the model instance\n",
        "- download the model .pd\n",
        "- use online url\n",
        "- give your input layer to the model and create ouput"
      ],
      "metadata": {
        "id": "ZxzJmDmRLrFc"
      },
      "id": "ZxzJmDmRLrFc"
    },
    {
      "cell_type": "code",
      "source": [
        "IMAGE_SHAPE = (128, 128)\n",
        "# Given on website what type of image they used for training\n",
        "\n",
        "# Method-1 Using online given model\n",
        "# classifier = tf.keras.Sequential([\n",
        "#     hub.KerasLayer(\"https://tfhub.dev/google/tf2-preview/mobilenet_v2/classification/4\", input_shape=IMAGE_SHAPE+(3,))\n",
        "# ])\n",
        "\n",
        "\n",
        "\n",
        "# Method-2 Download the models .pb file and use it\n",
        "# Define input shape expected by your model\n",
        "inputs = Input(shape=(128, 128, 3))  # or whatever the model expects\n",
        "\n",
        "# Wrap SavedModel as a layer\n",
        "mobilenet_layer = keras.layers.TFSMLayer(\"/content/mobilenet\", call_endpoint=\"serving_default\")\n",
        "\n",
        "# Use it in a Keras model\n",
        "outputs = mobilenet_layer(inputs)\n",
        "model = Model(inputs, outputs)\n"
      ],
      "metadata": {
        "id": "y85MAEf_GukX"
      },
      "id": "y85MAEf_GukX",
      "execution_count": 45,
      "outputs": []
    },
    {
      "cell_type": "code",
      "source": [
        "IMAGE_SHAPE+(3,)"
      ],
      "metadata": {
        "colab": {
          "base_uri": "https://localhost:8080/"
        },
        "id": "HZze-NWTPtZw",
        "outputId": "694234cd-5227-41f3-fc52-da1810eb226a"
      },
      "id": "HZze-NWTPtZw",
      "execution_count": 46,
      "outputs": [
        {
          "output_type": "execute_result",
          "data": {
            "text/plain": [
              "(128, 128, 3)"
            ]
          },
          "metadata": {},
          "execution_count": 46
        }
      ]
    },
    {
      "cell_type": "markdown",
      "source": [
        "https://storage.googleapis.com/download.tensorflow.org/data/ImageNetLabels.txt\n",
        "- Classes this model is trained on\n",
        "- labels = [\"background\", \"tench\", \"goldfish\", \"great white shark\", \"tiger shark\", \"hammerhead\", \"electric ray\", \"stingray\", \"cock\", \"hen\", \"ostrich\", \"brambling\", \"goldfinch\", \"house finch\", \"junco\", \"indigo bunting\", \"robin\", \"bulbul\", \"jay\", \"magpie\", \"chickadee\", \"water ouzel\", \"kite\", \"bald eagle\", \"vulture\" , etc]\n"
      ],
      "metadata": {
        "id": "WUFwyXOSL4wi"
      },
      "id": "WUFwyXOSL4wi"
    },
    {
      "cell_type": "markdown",
      "source": [
        "### Check the model using one class image"
      ],
      "metadata": {
        "id": "mx7zTikVMCf6"
      },
      "id": "mx7zTikVMCf6"
    },
    {
      "cell_type": "code",
      "source": [
        "gold_fish=Image.open('/content/goldfish (1).jpg').resize(IMAGE_SHAPE)\n",
        "gold_fish.show()\n",
        "# If it looks blank/gray: the image is corrupted or invalid."
      ],
      "metadata": {
        "id": "F7ak38VsMR6Y"
      },
      "id": "F7ak38VsMR6Y",
      "execution_count": 47,
      "outputs": []
    },
    {
      "cell_type": "code",
      "source": [
        "gold_fish = gold_fish.convert('RGB')\n",
        "gold_fish"
      ],
      "metadata": {
        "colab": {
          "base_uri": "https://localhost:8080/",
          "height": 145
        },
        "id": "CJ5Csn88NkWX",
        "outputId": "4f1b16e4-fb8f-4ffa-c159-8a381a9d306f"
      },
      "id": "CJ5Csn88NkWX",
      "execution_count": 48,
      "outputs": [
        {
          "output_type": "execute_result",
          "data": {
            "text/plain": [
              "<PIL.Image.Image image mode=RGB size=128x128>"
            ],
            "image/png": "[encoded data removed]",
            "image/jpeg": "[encoded data removed]"
          },
          "metadata": {},
          "execution_count": 48
        }
      ]
    },
    {
      "cell_type": "code",
      "source": [
        "np.array(gold_fish)"
      ],
      "metadata": {
        "colab": {
          "base_uri": "https://localhost:8080/",
          "height": 168
        },
        "id": "FPjZySS_Noum",
        "outputId": "de6a9183-b585-43d5-f1a0-1b9f845b4eb2"
      },
      "id": "FPjZySS_Noum",
      "execution_count": 49,
      "outputs": [
        {
          "output_type": "execute_result",
          "data": {
            "text/plain": [
              "array([[[ 76,  90,  22],\n",
              "        [ 90, 108,  31],\n",
              "        [ 99, 124,  42],\n",
              "        ...,\n",
              "        [ 82, 100,   0],\n",
              "        [ 83,  99,   1],\n",
              "        [ 80,  95,   0]],\n",
              "\n",
              "       [[ 75,  88,  24],\n",
              "        [ 90, 106,  35],\n",
              "        [101, 124,  49],\n",
              "        ...,\n",
              "        [ 80,  98,   2],\n",
              "        [ 80,  96,   1],\n",
              "        [ 77,  92,   1]],\n",
              "\n",
              "       [[ 71,  80,  29],\n",
              "        [ 84,  98,  37],\n",
              "        [ 93, 116,  48],\n",
              "        ...,\n",
              "        [ 84, 104,   7],\n",
              "        [ 85, 103,   6],\n",
              "        [ 86, 100,   7]],\n",
              "\n",
              "       ...,\n",
              "\n",
              "       [[ 11,  23,   7],\n",
              "        [ 12,  24,   5],\n",
              "        [ 14,  25,   6],\n",
              "        ...,\n",
              "        [ 49,  62,  10],\n",
              "        [ 49,  63,  10],\n",
              "        [ 51,  62,  11]],\n",
              "\n",
              "       [[ 13,  28,   5],\n",
              "        [ 14,  31,   6],\n",
              "        [ 17,  30,   7],\n",
              "        ...,\n",
              "        [ 41,  52,   9],\n",
              "        [ 40,  57,  10],\n",
              "        [ 41,  58,   9]],\n",
              "\n",
              "       [[ 17,  36,   4],\n",
              "        [ 15,  36,   4],\n",
              "        [ 17,  32,   6],\n",
              "        ...,\n",
              "        [ 32,  45,  12],\n",
              "        [ 32,  48,  12],\n",
              "        [ 32,  50,  10]]], dtype=uint8)"
            ],
            "text/html": [
              "<style>\n",
              "      .ndarray_repr .ndarray_raw_data {\n",
              "        display: none;\n",
              "      }\n",
              "      .ndarray_repr.show_array .ndarray_raw_data {\n",
              "        display: block;\n",
              "      }\n",
              "      .ndarray_repr.show_array .ndarray_image_preview {\n",
              "        display: none;\n",
              "      }\n",
              "      </style>\n",
              "      <div id=\"id-ca8bed15-1c6f-419d-9eca-4ec06c603f1d\" class=\"ndarray_repr\"><pre>ndarray (128, 128, 3) <button style=\"padding: 0 2px;\">show data</button></pre><img src=\"data:image/png;base64,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\" class=\"ndarray_image_preview\" /><pre class=\"ndarray_raw_data\">array([[[ 76,  90,  22],\n",
              "        [ 90, 108,  31],\n",
              "        [ 99, 124,  42],\n",
              "        ...,\n",
              "        [ 82, 100,   0],\n",
              "        [ 83,  99,   1],\n",
              "        [ 80,  95,   0]],\n",
              "\n",
              "       [[ 75,  88,  24],\n",
              "        [ 90, 106,  35],\n",
              "        [101, 124,  49],\n",
              "        ...,\n",
              "        [ 80,  98,   2],\n",
              "        [ 80,  96,   1],\n",
              "        [ 77,  92,   1]],\n",
              "\n",
              "       [[ 71,  80,  29],\n",
              "        [ 84,  98,  37],\n",
              "        [ 93, 116,  48],\n",
              "        ...,\n",
              "        [ 84, 104,   7],\n",
              "        [ 85, 103,   6],\n",
              "        [ 86, 100,   7]],\n",
              "\n",
              "       ...,\n",
              "\n",
              "       [[ 11,  23,   7],\n",
              "        [ 12,  24,   5],\n",
              "        [ 14,  25,   6],\n",
              "        ...,\n",
              "        [ 49,  62,  10],\n",
              "        [ 49,  63,  10],\n",
              "        [ 51,  62,  11]],\n",
              "\n",
              "       [[ 13,  28,   5],\n",
              "        [ 14,  31,   6],\n",
              "        [ 17,  30,   7],\n",
              "        ...,\n",
              "        [ 41,  52,   9],\n",
              "        [ 40,  57,  10],\n",
              "        [ 41,  58,   9]],\n",
              "\n",
              "       [[ 17,  36,   4],\n",
              "        [ 15,  36,   4],\n",
              "        [ 17,  32,   6],\n",
              "        ...,\n",
              "        [ 32,  45,  12],\n",
              "        [ 32,  48,  12],\n",
              "        [ 32,  50,  10]]], dtype=uint8)</pre></div><script>\n",
              "      (() => {\n",
              "      const titles = ['show data', 'hide data'];\n",
              "      let index = 0\n",
              "      document.querySelector('#id-ca8bed15-1c6f-419d-9eca-4ec06c603f1d button').onclick = (e) => {\n",
              "        document.querySelector('#id-ca8bed15-1c6f-419d-9eca-4ec06c603f1d').classList.toggle('show_array');\n",
              "        index = (++index) % 2;\n",
              "        document.querySelector('#id-ca8bed15-1c6f-419d-9eca-4ec06c603f1d button').textContent = titles[index];\n",
              "        e.preventDefault();\n",
              "        e.stopPropagation();\n",
              "      }\n",
              "      })();\n",
              "    </script>"
            ]
          },
          "metadata": {},
          "execution_count": 49
        }
      ]
    },
    {
      "cell_type": "markdown",
      "source": [
        "Normalize the image /255"
      ],
      "metadata": {
        "id": "XZhCI_bUM_MR"
      },
      "id": "XZhCI_bUM_MR"
    },
    {
      "cell_type": "code",
      "source": [
        "gold_fish= np.array(gold_fish)/255.0\n",
        "gold_fish.shape"
      ],
      "metadata": {
        "colab": {
          "base_uri": "https://localhost:8080/"
        },
        "id": "k0jToe84NBXG",
        "outputId": "4a238399-8cc8-4b7c-fe17-5017012c6d48"
      },
      "id": "k0jToe84NBXG",
      "execution_count": 50,
      "outputs": [
        {
          "output_type": "execute_result",
          "data": {
            "text/plain": [
              "(128, 128, 3)"
            ]
          },
          "metadata": {},
          "execution_count": 50
        }
      ]
    },
    {
      "cell_type": "markdown",
      "source": [
        "### Prediction of a model\n",
        "- accepts multiple images as input\n",
        "- dimension (number of images, each image dimension)\n",
        "- for one image need to add one dimension\n",
        "  - gold_fish[np.newaxis, ...]\n",
        "  - (1, 224,224,3) means one image to prediction function"
      ],
      "metadata": {
        "id": "91Jsv9B5ODdn"
      },
      "id": "91Jsv9B5ODdn"
    },
    {
      "cell_type": "code",
      "source": [
        "gold_fish_with_correct_prediction_dimension=gold_fish[np.newaxis, ...]"
      ],
      "metadata": {
        "id": "5Odz7WYEOOHj"
      },
      "id": "5Odz7WYEOOHj",
      "execution_count": 51,
      "outputs": []
    },
    {
      "cell_type": "code",
      "source": [
        "gold_fish_with_correct_prediction_dimension.shape"
      ],
      "metadata": {
        "colab": {
          "base_uri": "https://localhost:8080/"
        },
        "id": "f0eAQ_nrOjmj",
        "outputId": "0be8aacc-9a80-497e-8ca2-4159648500aa"
      },
      "id": "f0eAQ_nrOjmj",
      "execution_count": 52,
      "outputs": [
        {
          "output_type": "execute_result",
          "data": {
            "text/plain": [
              "(1, 128, 128, 3)"
            ]
          },
          "metadata": {},
          "execution_count": 52
        }
      ]
    },
    {
      "cell_type": "markdown",
      "source": [
        "Prediciton with model"
      ],
      "metadata": {
        "id": "-mUKNeEuOkf4"
      },
      "id": "-mUKNeEuOkf4"
    },
    {
      "cell_type": "code",
      "source": [
        "result = model.predict(gold_fish_with_correct_prediction_dimension)\n",
        "type(result['logits'])"
      ],
      "metadata": {
        "colab": {
          "base_uri": "https://localhost:8080/"
        },
        "id": "V3fOAtaWOmOS",
        "outputId": "28bf6008-4f52-472f-e127-c4b4dc66d895"
      },
      "id": "V3fOAtaWOmOS",
      "execution_count": 58,
      "outputs": [
        {
          "output_type": "stream",
          "name": "stdout",
          "text": [
            "\u001b[1m1/1\u001b[0m \u001b[32m━━━━━━━━━━━━━━━━━━━━\u001b[0m\u001b[37m\u001b[0m \u001b[1m0s\u001b[0m 77ms/step\n"
          ]
        },
        {
          "output_type": "execute_result",
          "data": {
            "text/plain": [
              "numpy.ndarray"
            ]
          },
          "metadata": {},
          "execution_count": 58
        }
      ]
    },
    {
      "cell_type": "code",
      "source": [
        "result['logits']\n",
        "# 1001 classes probability"
      ],
      "metadata": {
        "colab": {
          "base_uri": "https://localhost:8080/"
        },
        "id": "uF87YaejP63d",
        "outputId": "a0938f9c-5321-407d-8ed9-840f79611cb2"
      },
      "id": "uF87YaejP63d",
      "execution_count": 59,
      "outputs": [
        {
          "output_type": "execute_result",
          "data": {
            "text/plain": [
              "array([[ 0.5140054 ,  2.8574958 , 12.258903  , ...,  1.9390174 ,\n",
              "        -0.45755064,  0.0312461 ]], dtype=float32)"
            ]
          },
          "metadata": {},
          "execution_count": 59
        }
      ]
    },
    {
      "cell_type": "code",
      "source": [
        "predicted_index= np.argmax(result['logits'])\n",
        "predicted_index"
      ],
      "metadata": {
        "colab": {
          "base_uri": "https://localhost:8080/"
        },
        "id": "EsSQC5ctQQ8u",
        "outputId": "88f9242c-ccd1-4681-d498-87eaede0b56d"
      },
      "id": "EsSQC5ctQQ8u",
      "execution_count": 60,
      "outputs": [
        {
          "output_type": "execute_result",
          "data": {
            "text/plain": [
              "np.int64(2)"
            ]
          },
          "metadata": {},
          "execution_count": 60
        }
      ]
    },
    {
      "cell_type": "markdown",
      "source": [
        "### Image label/classes given on website as .txt"
      ],
      "metadata": {
        "id": "lEgMP4-hQZSE"
      },
      "id": "lEgMP4-hQZSE"
    },
    {
      "cell_type": "code",
      "source": [
        "image_labels=[]\n",
        "with open(\"/content/ImageNetLabels.txt\",\"r\") as f:\n",
        "  image_labels=f.read().splitlines()\n",
        "image_labels[:5]\n",
        "# ['background', 'tench', 'goldfish',\n",
        "#  so index 2 is goldfish"
      ],
      "metadata": {
        "colab": {
          "base_uri": "https://localhost:8080/"
        },
        "id": "jX3b6dTqQcz2",
        "outputId": "eb67fcd9-d3e9-4e0d-8f6c-12cd22f31cdc"
      },
      "id": "jX3b6dTqQcz2",
      "execution_count": 61,
      "outputs": [
        {
          "output_type": "execute_result",
          "data": {
            "text/plain": [
              "['background', 'tench', 'goldfish', 'great white shark', 'tiger shark']"
            ]
          },
          "metadata": {},
          "execution_count": 61
        }
      ]
    },
    {
      "cell_type": "markdown",
      "source": [
        "## Now take pre-trained model and retrain it using flowers images\n",
        "- since flower data has ouput\n",
        "  - roses': 0,\n",
        "    'daisy': 1,\n",
        "    'dandelion': 2,\n",
        "    'sunflowers': 3,\n",
        "    'tulips': 4,\n",
        "  - these are not in 1001 classes of pretrained model\n",
        "  - remove the last layer and add Dense layer with 5 output\n",
        "- Model aate hai feature vector name- Last layer removed hota hai"
      ],
      "metadata": {
        "id": "a_rsVpa_SEGC"
      },
      "id": "a_rsVpa_SEGC"
    },
    {
      "cell_type": "code",
      "source": [
        "feature_extractor_model = \"https://tfhub.dev/google/tf2-preview/mobilenet_v2/feature_vector/4\"\n",
        "\n",
        "pretrained_model_without_top_layer = hub.KerasLayer(\n",
        "    feature_extractor_model, input_shape=(224, 224, 3), trainable=False)"
      ],
      "metadata": {
        "id": "jviRISjwXjg9"
      },
      "id": "jviRISjwXjg9",
      "execution_count": null,
      "outputs": []
    },
    {
      "cell_type": "code",
      "source": [
        "num_of_flowers = 5\n",
        "\n",
        "model = tf.keras.Sequential([\n",
        "    # adding a dense layer in the end of the feaure model\n",
        "  pretrained_model_without_top_layer,\n",
        "  tf.keras.layers.Dense(num_of_flowers)\n",
        "])\n",
        "\n",
        "model.summary()"
      ],
      "metadata": {
        "id": "AobvucfvXkKX"
      },
      "id": "AobvucfvXkKX",
      "execution_count": null,
      "outputs": []
    },
    {
      "cell_type": "markdown",
      "source": [
        "Flowers data wala code again X and Y create Same as above"
      ],
      "metadata": {
        "id": "7Il69xbfXvXR"
      },
      "id": "7Il69xbfXvXR"
    },
    {
      "cell_type": "code",
      "source": [
        "model.compile(\n",
        "  optimizer=\"adam\",\n",
        "  loss=tf.keras.losses.SparseCategoricalCrossentropy(from_logits=True),\n",
        "  metrics=['acc'])\n",
        "\n",
        "model.fit(X_train_scaled, y_train, epochs=5)"
      ],
      "metadata": {
        "id": "HYYzxMS5Xrr2"
      },
      "id": "HYYzxMS5Xrr2",
      "execution_count": null,
      "outputs": []
    },
    {
      "cell_type": "code",
      "source": [
        "model.evaluate(X_test_scaled,y_test)"
      ],
      "metadata": {
        "id": "rHGi1IRmX13M"
      },
      "id": "rHGi1IRmX13M",
      "execution_count": null,
      "outputs": []
    },
    {
      "cell_type": "markdown",
      "source": [
        "# Sliding Window Object Detection\n",
        "How Boxes are Draw\n",
        "- whether a dog and a person\n",
        "- try different sizes iteratively -> rectangle\n",
        "- box of some size slides in complete image\n",
        "- eahc time cnn se ask is this dog-> YES correct box\n",
        "\n",
        "#### Sliding Window Object Detection -> R CNN -> Fast R CNN -> Faster R CNN\n",
        " #### Nowayas YOLO You only look once\n",
        " - R CNN means one boundary rectangle and lside the box to detect image\n",
        " - problem too much computation for each image"
      ],
      "metadata": {
        "id": "6wJrnuTgrPNg"
      },
      "id": "6wJrnuTgrPNg"
    },
    {
      "cell_type": "markdown",
      "source": [
        "# YOLO Algo Object Detection\n",
        "- Boxes on images detection\n",
        "- standard way of detecting object in computer vision\n",
        "- History:\n",
        "  - Yolov1 2016 video frames work"
      ],
      "metadata": {
        "id": "lKrqCNz_QV4e"
      },
      "id": "lKrqCNz_QV4e"
    },
    {
      "cell_type": "markdown",
      "source": [
        "## Pretrained Model Use Object Detection\n",
        "- Coco Dataset\n",
        "- Github repo YOLOv4 and its setup for object detection"
      ],
      "metadata": {
        "id": "9BhDLi-vb2QM"
      },
      "id": "9BhDLi-vb2QM"
    }
  ],
  "metadata": {
    "colab": {
      "provenance": []
    },
    "language_info": {
      "name": "python"
    },
    "kernelspec": {
      "name": "python3",
      "display_name": "Python 3"
    }
  },
  "nbformat": 4,
  "nbformat_minor": 5
}