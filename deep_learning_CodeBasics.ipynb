{
  "cells": [
    {
      "cell_type": "markdown",
      "source": [
        "# Tools and Libraries"
      ],
      "metadata": {
        "id": "KsU4AATxfVTB"
      },
      "id": "KsU4AATxfVTB"
    }
  ],
  "metadata": {
    "colab": {
      "provenance": []
    },
    "language_info": {
      "name": "python"
    },
    "kernelspec": {
      "name": "python3",
      "display_name": "Python 3"
    }
  },
  "nbformat": 4,
  "nbformat_minor": 5
}