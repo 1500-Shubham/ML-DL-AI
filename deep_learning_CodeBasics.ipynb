{
  "cells": [
    {
      "cell_type": "markdown",
      "source": [
        "# Tools and Libraries"
      ],
      "metadata": {
        "id": "KsU4AATxfVTB"
      },
      "id": "KsU4AATxfVTB"
    },
    {
      "cell_type": "markdown",
      "source": [
        "## Tensorflow"
      ],
      "metadata": {
        "id": "3eqBpOO2fsK0"
      },
      "id": "3eqBpOO2fsK0"
    },
    {
      "cell_type": "code",
      "source": [
        "import tensorflow"
      ],
      "metadata": {
        "id": "qaKU9ns4fg2F"
      },
      "id": "qaKU9ns4fg2F",
      "execution_count": null,
      "outputs": []
    },
    {
      "cell_type": "markdown",
      "source": [
        "# Handwritten Digits - Image Project"
      ],
      "metadata": {
        "id": "zzJ3VuJ_i3eh"
      },
      "id": "zzJ3VuJ_i3eh"
    },
    {
      "cell_type": "code",
      "source": [
        "import tensorflow as tf\n",
        "from tensorflow import keras\n",
        "import matplotlib.pyplot as plt\n",
        "%matplotlib inline\n",
        "#It tells the notebook to display matplotlib plots directly below the code cells that produce them, rather than in a separate window.\n",
        "import numpy as np"
      ],
      "metadata": {
        "id": "-ufdhgfNi7na"
      },
      "id": "-ufdhgfNi7na",
      "execution_count": null,
      "outputs": []
    },
    {
      "cell_type": "code",
      "source": [
        "from tensorflow.keras.datasets import mnist"
      ],
      "metadata": {
        "id": "ekH16FdAkBgR"
      },
      "id": "ekH16FdAkBgR",
      "execution_count": null,
      "outputs": []
    },
    {
      "cell_type": "markdown",
      "source": [
        "## Loading Databaset using Keras\n",
        "- Train and Split in Keras"
      ],
      "metadata": {
        "id": "F7BYfvKplv5b"
      },
      "id": "F7BYfvKplv5b"
    },
    {
      "cell_type": "code",
      "source": [
        "(x_train, y_train), (x_test, y_test) = mnist.load_data()"
      ],
      "metadata": {
        "id": "THJm4jCkkRA_"
      },
      "id": "THJm4jCkkRA_",
      "execution_count": null,
      "outputs": []
    },
    {
      "cell_type": "code",
      "source": [
        "# Each Image as 2D array of 28x28\n",
        "\n",
        "len(x_train)\n",
        "len(y_train)\n",
        "len(x_test)\n",
        "# X train and y_train are 2d arrays"
      ],
      "metadata": {
        "id": "YqR4ZzMvkl35"
      },
      "id": "YqR4ZzMvkl35",
      "execution_count": null,
      "outputs": []
    },
    {
      "cell_type": "markdown",
      "source": [
        "### MNIST\n",
        "- Handwritten digits data in 2D form\n",
        "- 0 means black 255 means white"
      ],
      "metadata": {
        "id": "u430bXOckukr"
      },
      "id": "u430bXOckukr"
    },
    {
      "cell_type": "code",
      "source": [
        "print(len(x_train[0]))\n",
        "print(x_train[0])\n",
        "# This is 2D array"
      ],
      "metadata": {
        "id": "KBkqqsfQk18g"
      },
      "id": "KBkqqsfQk18g",
      "execution_count": null,
      "outputs": []
    },
    {
      "cell_type": "markdown",
      "source": [
        "### See Image using Matplot\n",
        "- plt.matshow(2D array)"
      ],
      "metadata": {
        "id": "dXyHJd_vlMOT"
      },
      "id": "dXyHJd_vlMOT"
    },
    {
      "cell_type": "code",
      "source": [
        "plt.matshow(x_train[100])\n",
        "print(y_train[100])"
      ],
      "metadata": {
        "id": "_ecDtgXFlQUR"
      },
      "id": "_ecDtgXFlQUR",
      "execution_count": null,
      "outputs": []
    },
    {
      "cell_type": "markdown",
      "source": [
        "### Flatten 2D array 28X28 into 1D array"
      ],
      "metadata": {
        "id": "4auSI99-l1ZN"
      },
      "id": "4auSI99-l1ZN"
    },
    {
      "cell_type": "code",
      "source": [
        "x_train.shape\n",
        "# number of rows\n",
        "# each rows is 2d array"
      ],
      "metadata": {
        "id": "LRl59aQGl6rT"
      },
      "id": "LRl59aQGl6rT",
      "execution_count": null,
      "outputs": []
    },
    {
      "cell_type": "code",
      "source": [
        "# Want (60000,784)\n",
        "x_train_flattened = x_train.reshape(len(x_train),28*28)\n",
        "x_test_flattened = x_test.reshape(len(x_test),28*28)\n",
        "x_train_flattened.shape"
      ],
      "metadata": {
        "id": "G8uE_FGTl53q"
      },
      "id": "G8uE_FGTl53q",
      "execution_count": null,
      "outputs": []
    },
    {
      "cell_type": "code",
      "source": [
        "x_train_flattened[0]\n",
        "print(len(x_train_flattened[0]))"
      ],
      "metadata": {
        "id": "n3vm7uMkmXJW"
      },
      "id": "n3vm7uMkmXJW",
      "execution_count": null,
      "outputs": []
    },
    {
      "cell_type": "markdown",
      "source": [
        "### Scaling the x_train data between 0 to 1\n",
        "- Divide by 255"
      ],
      "metadata": {
        "id": "OBbKyyCEpoNF"
      },
      "id": "OBbKyyCEpoNF"
    },
    {
      "cell_type": "code",
      "source": [
        "x_train_flattened = x_train_flattened/255"
      ],
      "metadata": {
        "id": "5f1ULrfJptF0"
      },
      "id": "5f1ULrfJptF0",
      "execution_count": null,
      "outputs": []
    },
    {
      "cell_type": "markdown",
      "source": [
        "## Keras to Create Neural Network\n",
        "- want 784 as x1 x2 ... .x784 to connect with 10 ouputs 0 to 1\n",
        "- acitvation function = sigmoid\n",
        "- Then training using data yeh sab\n",
        "\n",
        "- Single layer input and output for now"
      ],
      "metadata": {
        "id": "c7QkkqnOnE7t"
      },
      "id": "c7QkkqnOnE7t"
    },
    {
      "cell_type": "code",
      "source": [
        "# Dense(10): A fully connected layer with 10 neurons\n",
        "model = keras.Sequential([\n",
        "    keras.layers.Dense(10,input_shape=(784,),activation='softmax')\n",
        "])\n",
        "\n",
        "# If dont want to flatten image tell its 28*28\n",
        "# Multiple layers hit and trial\n",
        "# model = keras.Sequential([\n",
        "      # keras.layers.Flatten(input_shape=(28,28))\n",
        "#     keras.layers.Dense(100,input_shape=(784,),activation='relu'),\n",
        "#     keras.layers.Dense(10,activation='softmax')\n",
        "# ])\n",
        "\n",
        "\n",
        "# optimizer backward going to optain weight attain global minima\n",
        "# loss fucntion ouput and predicted difference used to attain weights\n",
        "# Gradient decent and cost function\n",
        "\n",
        "# metric when neural network compile goal is accuracy input output differtence\n",
        "model.compile(\n",
        "    optimizer='adam',\n",
        "    loss='sparse_categorical_crossentropy',\n",
        "    metrics=['accuracy']\n",
        "    )\n",
        "# epochs number of iteration the neural network going to train data\n",
        "model.fit(x_train_flattened,y_train,epochs=5)"
      ],
      "metadata": {
        "id": "gj94-wPHnNlx"
      },
      "id": "gj94-wPHnNlx",
      "execution_count": null,
      "outputs": []
    },
    {
      "cell_type": "markdown",
      "source": [
        "### Evaluating | Predicition Keral Model on Test Dataset"
      ],
      "metadata": {
        "id": "s3rI94vup9Ex"
      },
      "id": "s3rI94vup9Ex"
    },
    {
      "cell_type": "code",
      "source": [
        "model.evaluate(x_test_flattened,y_test)"
      ],
      "metadata": {
        "id": "S_nEsCthqARu"
      },
      "id": "S_nEsCthqARu",
      "execution_count": null,
      "outputs": []
    },
    {
      "cell_type": "code",
      "source": [
        "plt.matshow(x_test[50])"
      ],
      "metadata": {
        "id": "02__G9G_qrrV"
      },
      "id": "02__G9G_qrrV",
      "execution_count": null,
      "outputs": []
    },
    {
      "cell_type": "code",
      "source": [
        "y_predict= model.predict(x_test_flattened)\n",
        "print(y_predict[50])\n",
        "# This is 10 neurons output probability"
      ],
      "metadata": {
        "id": "D7x7ovHQrXty"
      },
      "id": "D7x7ovHQrXty",
      "execution_count": null,
      "outputs": []
    },
    {
      "cell_type": "code",
      "source": [
        "# Exact ouput based on 10 neurons\n",
        "# np.argmax returns the index of the max probability, i.e., the predicted class.\n",
        "print(np.argmax(y_predict[50]))"
      ],
      "metadata": {
        "id": "Co7wulzurnLG"
      },
      "id": "Co7wulzurnLG",
      "execution_count": null,
      "outputs": []
    },
    {
      "cell_type": "code",
      "source": [
        "y_test[0:5]"
      ],
      "metadata": {
        "id": "kpWS0X_wtEGz"
      },
      "id": "kpWS0X_wtEGz",
      "execution_count": null,
      "outputs": []
    },
    {
      "cell_type": "markdown",
      "source": [
        "### Convert y_predicted into concrete class similar to y_test"
      ],
      "metadata": {
        "id": "mwHX7hH_tNsk"
      },
      "id": "mwHX7hH_tNsk"
    },
    {
      "cell_type": "code",
      "source": [
        "y_predicted_labels = np.argmax(y_predict, axis=1)"
      ],
      "metadata": {
        "id": "4AmrvBjatVGS"
      },
      "id": "4AmrvBjatVGS",
      "execution_count": null,
      "outputs": []
    },
    {
      "cell_type": "code",
      "source": [
        "y_predicted_labels[0:5]"
      ],
      "metadata": {
        "id": "2v1sOa6ytWk0"
      },
      "id": "2v1sOa6ytWk0",
      "execution_count": null,
      "outputs": []
    },
    {
      "cell_type": "markdown",
      "source": [
        "## Building Confusion Matrix"
      ],
      "metadata": {
        "id": "DT5ArGQes7Rv"
      },
      "id": "DT5ArGQes7Rv"
    },
    {
      "cell_type": "code",
      "source": [
        "from sklearn.metrics import confusion_matrix\n",
        "\n",
        "conf_matrix = confusion_matrix(y_test, y_predicted_labels)\n",
        "print(conf_matrix)\n",
        "\n",
        "# confusion_matrix = tf.math.confusion.matrix(labels=y_test, predictions=y_predicted_labels)\n",
        "# confusion_matrix"
      ],
      "metadata": {
        "id": "xa-FD69Ms-Q0"
      },
      "id": "xa-FD69Ms-Q0",
      "execution_count": null,
      "outputs": []
    },
    {
      "cell_type": "markdown",
      "source": [
        "### Visualize using seaborn"
      ],
      "metadata": {
        "id": "ij_jRKB2t2Bm"
      },
      "id": "ij_jRKB2t2Bm"
    },
    {
      "cell_type": "code",
      "source": [
        "import seaborn as sns"
      ],
      "metadata": {
        "id": "VIs7_8wwt4z9"
      },
      "id": "VIs7_8wwt4z9",
      "execution_count": null,
      "outputs": []
    },
    {
      "cell_type": "code",
      "source": [
        "plt.figure(figsize=(10, 8))\n",
        "sns.heatmap(conf_matrix, annot=True, fmt='d', cmap='Blues',\n",
        "            xticklabels=np.arange(10), yticklabels=np.arange(10))\n",
        "plt.xlabel('Predicted Label')\n",
        "plt.ylabel('True Label')\n",
        "plt.title('MNIST Confusion Matrix')\n",
        "plt.show()"
      ],
      "metadata": {
        "id": "WVZur1qZuJh_"
      },
      "id": "WVZur1qZuJh_",
      "execution_count": null,
      "outputs": []
    }
  ],
  "metadata": {
    "colab": {
      "provenance": []
    },
    "language_info": {
      "name": "python"
    },
    "kernelspec": {
      "name": "python3",
      "display_name": "Python 3"
    }
  },
  "nbformat": 4,
  "nbformat_minor": 5
}